{
 "cells": [
  {
   "cell_type": "markdown",
   "metadata": {},
   "source": [
    "# Title\n",
    "[]()"
   ]
  },
  {
   "cell_type": "code",
   "execution_count": 1,
   "metadata": {},
   "outputs": [],
   "source": [
    "from pandas import json_normalize  \n",
    "import pandas as pd\n",
    "import sys\n",
    "sys.path.append(r\"C:\\Users\\silvh\\OneDrive\\lighthouse\\custom_python\")\n",
    "sys.path.append(r\"C:\\Users\\silvh\\OneDrive\\lighthouse\\portfolio-projects\\online-PT-social-media-NLP\\src\")\n",
    "from silvhua import *\n",
    "from datetime import datetime\n",
    "# from plotly.subplots import make_subplots\n",
    "# import requests\n",
    "import json"
   ]
  },
  {
   "cell_type": "code",
   "execution_count": 2,
   "metadata": {},
   "outputs": [],
   "source": [
    "from processing import *"
   ]
  },
  {
   "cell_type": "code",
   "execution_count": 3,
   "metadata": {},
   "outputs": [],
   "source": [
    "with open(\"credentials.json\") as f:\n",
    "    credentials = json.load(f)\n",
    "\n",
    "ig_user_id = credentials['am_ig_user_id']\n",
    "access_token = credentials['am_ig_access_token']"
   ]
  },
  {
   "attachments": {},
   "cell_type": "markdown",
   "metadata": {},
   "source": [
    "# Load posts"
   ]
  },
  {
   "cell_type": "code",
   "execution_count": 79,
   "metadata": {},
   "outputs": [
    {
     "name": "stdout",
     "output_type": "stream",
     "text": [
      "Time completed: 2023-03-05 22:15:05.754356\n",
      "Time zone: Canada/Pacific\n"
     ]
    },
    {
     "name": "stderr",
     "output_type": "stream",
     "text": [
      "C:\\Users\\silvh\\OneDrive\\lighthouse\\portfolio-projects\\online-PT-social-media-NLP\\src\\processing.py:37: UserWarning:\n",
      "\n",
      "Converting to PeriodArray/Index representation will drop timezone information.\n",
      "\n",
      "C:\\Users\\silvh\\OneDrive\\lighthouse\\portfolio-projects\\online-PT-social-media-NLP\\src\\processing.py:38: UserWarning:\n",
      "\n",
      "Converting to PeriodArray/Index representation will drop timezone information.\n",
      "\n"
     ]
    },
    {
     "name": "stdout",
     "output_type": "stream",
     "text": [
      "Token pattern: (?u)\\b\\w\\w+\\b\n",
      "Shape of vector array:  (362, 2905)\n",
      "\n",
      "Top 10 words:\n",
      "<number>    597\n",
      "want        230\n",
      "get         222\n",
      "time        221\n",
      "look        175\n",
      "body        167\n",
      "train       161\n",
      "make        157\n",
      "week        153\n",
      "work        152\n",
      "dtype: int64\n",
      "Time processed: 2023-03-05 22:15:06.962346\n"
     ]
    },
    {
     "data": {
      "text/html": [
       "<div>\n",
       "<style scoped>\n",
       "    .dataframe tbody tr th:only-of-type {\n",
       "        vertical-align: middle;\n",
       "    }\n",
       "\n",
       "    .dataframe tbody tr th {\n",
       "        vertical-align: top;\n",
       "    }\n",
       "\n",
       "    .dataframe thead th {\n",
       "        text-align: right;\n",
       "    }\n",
       "</style>\n",
       "<table border=\"1\" class=\"dataframe\">\n",
       "  <thead>\n",
       "    <tr style=\"text-align: right;\">\n",
       "      <th></th>\n",
       "      <th>timestamp</th>\n",
       "      <th>caption</th>\n",
       "      <th>like_count</th>\n",
       "      <th>comments_count</th>\n",
       "      <th>media_type</th>\n",
       "      <th>media_product_type</th>\n",
       "      <th>media_url</th>\n",
       "      <th>permalink</th>\n",
       "      <th>id</th>\n",
       "      <th>comments.data</th>\n",
       "      <th>...</th>\n",
       "      <th>date</th>\n",
       "      <th>year</th>\n",
       "      <th>month</th>\n",
       "      <th>week_of_year</th>\n",
       "      <th>day_of_week</th>\n",
       "      <th>day_of_week_name</th>\n",
       "      <th>time</th>\n",
       "      <th>hour</th>\n",
       "      <th>year-month</th>\n",
       "      <th>year-week</th>\n",
       "    </tr>\n",
       "  </thead>\n",
       "  <tbody>\n",
       "    <tr>\n",
       "      <th>0</th>\n",
       "      <td>2023-02-28 11:08:07-08:00</td>\n",
       "      <td>🎯 nutrition  hierarchy importance 🎯   note  st...</td>\n",
       "      <td>7</td>\n",
       "      <td>1</td>\n",
       "      <td>IMAGE</td>\n",
       "      <td>FEED</td>\n",
       "      <td>https://scontent.cdninstagram.com/v/t51.29350-...</td>\n",
       "      <td>https://www.instagram.com/p/CpN51UjB9mf/</td>\n",
       "      <td>17968352051238783</td>\n",
       "      <td>[{'timestamp': '2023-02-28T19:35:06+0000', 'te...</td>\n",
       "      <td>...</td>\n",
       "      <td>2023-02-28</td>\n",
       "      <td>2023</td>\n",
       "      <td>2</td>\n",
       "      <td>9</td>\n",
       "      <td>1</td>\n",
       "      <td>Tuesday</td>\n",
       "      <td>11:08:07</td>\n",
       "      <td>11</td>\n",
       "      <td>2023-02-01</td>\n",
       "      <td>2023-02-27</td>\n",
       "    </tr>\n",
       "    <tr>\n",
       "      <th>1</th>\n",
       "      <td>2023-02-27 10:54:58-08:00</td>\n",
       "      <td>self conscious almost ruin  may sound dramatic...</td>\n",
       "      <td>59</td>\n",
       "      <td>0</td>\n",
       "      <td>VIDEO</td>\n",
       "      <td>REELS</td>\n",
       "      <td>https://video.cdninstagram.com/o1/v/t16/f1/m82...</td>\n",
       "      <td>https://www.instagram.com/reel/CpLTguzhkB5/</td>\n",
       "      <td>17984097730814170</td>\n",
       "      <td>NaN</td>\n",
       "      <td>...</td>\n",
       "      <td>2023-02-27</td>\n",
       "      <td>2023</td>\n",
       "      <td>2</td>\n",
       "      <td>9</td>\n",
       "      <td>0</td>\n",
       "      <td>Monday</td>\n",
       "      <td>10:54:58</td>\n",
       "      <td>10</td>\n",
       "      <td>2023-02-01</td>\n",
       "      <td>2023-02-27</td>\n",
       "    </tr>\n",
       "    <tr>\n",
       "      <th>2</th>\n",
       "      <td>2023-02-26 11:21:55-08:00</td>\n",
       "      <td>devani ✅ mother ✅ radiographer originally sign...</td>\n",
       "      <td>15</td>\n",
       "      <td>1</td>\n",
       "      <td>CAROUSEL_ALBUM</td>\n",
       "      <td>FEED</td>\n",
       "      <td>https://scontent.cdninstagram.com/v/t51.29350-...</td>\n",
       "      <td>https://www.instagram.com/p/CpIx0vrBXQW/</td>\n",
       "      <td>17997080695727863</td>\n",
       "      <td>[{'timestamp': '2023-02-26T19:44:41+0000', 'te...</td>\n",
       "      <td>...</td>\n",
       "      <td>2023-02-26</td>\n",
       "      <td>2023</td>\n",
       "      <td>2</td>\n",
       "      <td>8</td>\n",
       "      <td>6</td>\n",
       "      <td>Sunday</td>\n",
       "      <td>11:21:55</td>\n",
       "      <td>11</td>\n",
       "      <td>2023-02-01</td>\n",
       "      <td>2023-02-20</td>\n",
       "    </tr>\n",
       "    <tr>\n",
       "      <th>3</th>\n",
       "      <td>2023-02-23 11:00:09-08:00</td>\n",
       "      <td>‘ alone little  together achieve much ’ tag pe...</td>\n",
       "      <td>19</td>\n",
       "      <td>0</td>\n",
       "      <td>IMAGE</td>\n",
       "      <td>FEED</td>\n",
       "      <td>https://scontent.cdninstagram.com/v/t51.29350-...</td>\n",
       "      <td>https://www.instagram.com/p/CpBA8mDhJ7W/</td>\n",
       "      <td>17915392925692330</td>\n",
       "      <td>NaN</td>\n",
       "      <td>...</td>\n",
       "      <td>2023-02-23</td>\n",
       "      <td>2023</td>\n",
       "      <td>2</td>\n",
       "      <td>8</td>\n",
       "      <td>3</td>\n",
       "      <td>Thursday</td>\n",
       "      <td>11:00:09</td>\n",
       "      <td>11</td>\n",
       "      <td>2023-02-01</td>\n",
       "      <td>2023-02-20</td>\n",
       "    </tr>\n",
       "    <tr>\n",
       "      <th>4</th>\n",
       "      <td>2023-02-22 10:54:18-08:00</td>\n",
       "      <td>deirdre hit first chin day  hit two  want know...</td>\n",
       "      <td>33</td>\n",
       "      <td>7</td>\n",
       "      <td>VIDEO</td>\n",
       "      <td>REELS</td>\n",
       "      <td>NaN</td>\n",
       "      <td>https://www.instagram.com/reel/Co-bX3TL7b6/</td>\n",
       "      <td>17961721733161620</td>\n",
       "      <td>[{'timestamp': '2023-02-22T21:48:03+0000', 'te...</td>\n",
       "      <td>...</td>\n",
       "      <td>2023-02-22</td>\n",
       "      <td>2023</td>\n",
       "      <td>2</td>\n",
       "      <td>8</td>\n",
       "      <td>2</td>\n",
       "      <td>Wednesday</td>\n",
       "      <td>10:54:18</td>\n",
       "      <td>10</td>\n",
       "      <td>2023-02-01</td>\n",
       "      <td>2023-02-20</td>\n",
       "    </tr>\n",
       "  </tbody>\n",
       "</table>\n",
       "<p>5 rows × 23 columns</p>\n",
       "</div>"
      ],
      "text/plain": [
       "                  timestamp  \\\n",
       "0 2023-02-28 11:08:07-08:00   \n",
       "1 2023-02-27 10:54:58-08:00   \n",
       "2 2023-02-26 11:21:55-08:00   \n",
       "3 2023-02-23 11:00:09-08:00   \n",
       "4 2023-02-22 10:54:18-08:00   \n",
       "\n",
       "                                             caption  like_count  \\\n",
       "0  🎯 nutrition  hierarchy importance 🎯   note  st...           7   \n",
       "1  self conscious almost ruin  may sound dramatic...          59   \n",
       "2  devani ✅ mother ✅ radiographer originally sign...          15   \n",
       "3  ‘ alone little  together achieve much ’ tag pe...          19   \n",
       "4  deirdre hit first chin day  hit two  want know...          33   \n",
       "\n",
       "   comments_count      media_type media_product_type  \\\n",
       "0               1           IMAGE               FEED   \n",
       "1               0           VIDEO              REELS   \n",
       "2               1  CAROUSEL_ALBUM               FEED   \n",
       "3               0           IMAGE               FEED   \n",
       "4               7           VIDEO              REELS   \n",
       "\n",
       "                                           media_url  \\\n",
       "0  https://scontent.cdninstagram.com/v/t51.29350-...   \n",
       "1  https://video.cdninstagram.com/o1/v/t16/f1/m82...   \n",
       "2  https://scontent.cdninstagram.com/v/t51.29350-...   \n",
       "3  https://scontent.cdninstagram.com/v/t51.29350-...   \n",
       "4                                                NaN   \n",
       "\n",
       "                                     permalink                 id  \\\n",
       "0     https://www.instagram.com/p/CpN51UjB9mf/  17968352051238783   \n",
       "1  https://www.instagram.com/reel/CpLTguzhkB5/  17984097730814170   \n",
       "2     https://www.instagram.com/p/CpIx0vrBXQW/  17997080695727863   \n",
       "3     https://www.instagram.com/p/CpBA8mDhJ7W/  17915392925692330   \n",
       "4  https://www.instagram.com/reel/Co-bX3TL7b6/  17961721733161620   \n",
       "\n",
       "                                       comments.data  ...        date  year  \\\n",
       "0  [{'timestamp': '2023-02-28T19:35:06+0000', 'te...  ...  2023-02-28  2023   \n",
       "1                                                NaN  ...  2023-02-27  2023   \n",
       "2  [{'timestamp': '2023-02-26T19:44:41+0000', 'te...  ...  2023-02-26  2023   \n",
       "3                                                NaN  ...  2023-02-23  2023   \n",
       "4  [{'timestamp': '2023-02-22T21:48:03+0000', 'te...  ...  2023-02-22  2023   \n",
       "\n",
       "  month week_of_year  day_of_week  day_of_week_name      time  hour  \\\n",
       "0     2            9            1           Tuesday  11:08:07    11   \n",
       "1     2            9            0            Monday  10:54:58    10   \n",
       "2     2            8            6            Sunday  11:21:55    11   \n",
       "3     2            8            3          Thursday  11:00:09    11   \n",
       "4     2            8            2         Wednesday  10:54:18    10   \n",
       "\n",
       "  year-month  year-week  \n",
       "0 2023-02-01 2023-02-27  \n",
       "1 2023-02-01 2023-02-27  \n",
       "2 2023-02-01 2023-02-20  \n",
       "3 2023-02-01 2023-02-20  \n",
       "4 2023-02-01 2023-02-20  \n",
       "\n",
       "[5 rows x 23 columns]"
      ]
     },
     "execution_count": 79,
     "metadata": {},
     "output_type": "execute_result"
    }
   ],
   "source": [
    "json_path=r'C:\\Users\\silvh\\OneDrive\\lighthouse\\portfolio-projects\\online-PT-social-media-NLP\\data\\raw'\n",
    "csv_path=r'C:\\Users\\silvh\\OneDrive\\lighthouse\\portfolio-projects\\online-PT-social-media-NLP\\data\\interim'\n",
    "filename='AM_IG_posts_2022-01-01_2023-03-01.sav'\n",
    "response_json_dict = loadpickle(filename, json_path)\n",
    "data_processed, count_vector, vect = response_json_dict_to_df(response_json_dict)\n",
    "data_processed.head()\n"
   ]
  },
  {
   "cell_type": "code",
   "execution_count": 124,
   "metadata": {},
   "outputs": [
    {
     "data": {
      "text/plain": [
       "Index(['timestamp', 'post_caption', 'like_count', 'comments_count',\n",
       "       'media_type', 'media_product_type', 'media_url', 'permalink', 'id',\n",
       "       'comments.data', 'thumbnail_url', 'comments.paging.cursors.after',\n",
       "       'comments.paging.next', 'date', 'year', 'month', 'week_of_year',\n",
       "       'day_of_week', 'day_of_week_name', 'time', 'hour', 'year-month',\n",
       "       'year-week'],\n",
       "      dtype='object')"
      ]
     },
     "execution_count": 124,
     "metadata": {},
     "output_type": "execute_result"
    }
   ],
   "source": [
    "caption_column='caption'\n",
    "data_processed.columns.str.replace(caption_column, f'post_{caption_column}')"
   ]
  },
  {
   "cell_type": "code",
   "execution_count": 133,
   "metadata": {},
   "outputs": [
    {
     "name": "stdout",
     "output_type": "stream",
     "text": [
      "Time zone: Canada/Pacific\n"
     ]
    },
    {
     "data": {
      "application/vnd.plotly.v1+json": {
       "config": {
        "plotlyServerURL": "https://plot.ly"
       },
       "data": [],
       "layout": {
        "annotations": [
         {
          "arrowhead": 2,
          "ax": 0.5,
          "axref": "x domain",
          "ay": 2,
          "ayref": "y",
          "text": "2022-08-18 at 13:04",
          "x": 0.5,
          "xref": "x domain",
          "y": 1.1,
          "yref": "y domain"
         },
         {
          "arrowhead": 2,
          "ax": 0.5,
          "axref": "x domain",
          "ay": 2,
          "ayref": "y",
          "text": "1296 likes, 479 comments",
          "x": 0.5,
          "xref": "x domain",
          "y": -0.075,
          "yref": "y domain"
         },
         {
          "arrowhead": 2,
          "ax": 0.5,
          "axref": "x domain",
          "ay": 2,
          "ayref": "y",
          "text": "Most unique words:",
          "x": 0.5,
          "xref": "x domain",
          "y": -0.175,
          "yref": "y domain"
         },
         {
          "arrowhead": 2,
          "ax": 0.5,
          "axref": "x domain",
          "ay": 2,
          "ayref": "y",
          "text": "present",
          "x": 0.5,
          "xref": "x domain",
          "y": -0.25,
          "yref": "y domain"
         },
         {
          "arrowhead": 2,
          "ax": 0.5,
          "axref": "x domain",
          "ay": 2,
          "ayref": "y",
          "text": "comparison",
          "x": 0.5,
          "xref": "x domain",
          "y": -0.325,
          "yref": "y domain"
         },
         {
          "arrowhead": 2,
          "ax": 0.5,
          "axref": "x domain",
          "ay": 2,
          "ayref": "y",
          "text": "insignificant",
          "x": 0.5,
          "xref": "x domain",
          "y": -0.4,
          "yref": "y domain"
         },
         {
          "arrowhead": 2,
          "ax": 0.5,
          "axref": "x domain",
          "ay": 2,
          "ayref": "y",
          "text": "anniversary",
          "x": 0.5,
          "xref": "x domain",
          "y": -0.47500000000000003,
          "yref": "y domain"
         },
         {
          "arrowhead": 2,
          "ax": 0.5,
          "axref": "x domain",
          "ay": 2,
          "ayref": "y",
          "text": "<handle>",
          "x": 0.5,
          "xref": "x domain",
          "y": -0.55,
          "yref": "y domain"
         },
         {
          "arrowhead": 2,
          "ax": 0.5,
          "axref": "x domain",
          "ay": 2,
          "ayref": "y",
          "text": "2022-08-20 at 01:41",
          "x": 0.5,
          "xref": "x2 domain",
          "y": 1.1,
          "yref": "y2 domain"
         },
         {
          "arrowhead": 2,
          "ax": 0.5,
          "axref": "x domain",
          "ay": 2,
          "ayref": "y",
          "text": "307 likes, 2 comments",
          "x": 0.5,
          "xref": "x2 domain",
          "y": -0.075,
          "yref": "y2 domain"
         },
         {
          "arrowhead": 2,
          "ax": 0.5,
          "axref": "x domain",
          "ay": 2,
          "ayref": "y",
          "text": "Most unique words:",
          "x": 0.5,
          "xref": "x2 domain",
          "y": -0.175,
          "yref": "y2 domain"
         },
         {
          "arrowhead": 2,
          "ax": 0.5,
          "axref": "x domain",
          "ay": 2,
          "ayref": "y",
          "text": "sopiness",
          "x": 0.5,
          "xref": "x2 domain",
          "y": -0.25,
          "yref": "y2 domain"
         },
         {
          "arrowhead": 2,
          "ax": 0.5,
          "axref": "x domain",
          "ay": 2,
          "ayref": "y",
          "text": "unfollow",
          "x": 0.5,
          "xref": "x2 domain",
          "y": -0.325,
          "yref": "y2 domain"
         },
         {
          "arrowhead": 2,
          "ax": 0.5,
          "axref": "x domain",
          "ay": 2,
          "ayref": "y",
          "text": "sick",
          "x": 0.5,
          "xref": "x2 domain",
          "y": -0.4,
          "yref": "y2 domain"
         },
         {
          "arrowhead": 2,
          "ax": 0.5,
          "axref": "x domain",
          "ay": 2,
          "ayref": "y",
          "text": "maybe",
          "x": 0.5,
          "xref": "x2 domain",
          "y": -0.47500000000000003,
          "yref": "y2 domain"
         },
         {
          "arrowhead": 2,
          "ax": 0.5,
          "axref": "x domain",
          "ay": 2,
          "ayref": "y",
          "text": "happy",
          "x": 0.5,
          "xref": "x2 domain",
          "y": -0.55,
          "yref": "y2 domain"
         },
         {
          "arrowhead": 2,
          "ax": 0.5,
          "axref": "x domain",
          "ay": 2,
          "ayref": "y",
          "text": "2022-12-16 at 03:33",
          "x": 0.5,
          "xref": "x3 domain",
          "y": 1.1,
          "yref": "y3 domain"
         },
         {
          "arrowhead": 2,
          "ax": 0.5,
          "axref": "x domain",
          "ay": 2,
          "ayref": "y",
          "text": "284 likes, 36 comments",
          "x": 0.5,
          "xref": "x3 domain",
          "y": -0.075,
          "yref": "y3 domain"
         },
         {
          "arrowhead": 2,
          "ax": 0.5,
          "axref": "x domain",
          "ay": 2,
          "ayref": "y",
          "text": "Most unique words:",
          "x": 0.5,
          "xref": "x3 domain",
          "y": -0.175,
          "yref": "y3 domain"
         },
         {
          "arrowhead": 2,
          "ax": 0.5,
          "axref": "x domain",
          "ay": 2,
          "ayref": "y",
          "text": "life",
          "x": 0.5,
          "xref": "x3 domain",
          "y": -0.25,
          "yref": "y3 domain"
         },
         {
          "arrowhead": 2,
          "ax": 0.5,
          "axref": "x domain",
          "ay": 2,
          "ayref": "y",
          "text": "#grannysgirl",
          "x": 0.5,
          "xref": "x3 domain",
          "y": -0.325,
          "yref": "y3 domain"
         },
         {
          "arrowhead": 2,
          "ax": 0.5,
          "axref": "x domain",
          "ay": 2,
          "ayref": "y",
          "text": "inspiration",
          "x": 0.5,
          "xref": "x3 domain",
          "y": -0.4,
          "yref": "y3 domain"
         },
         {
          "arrowhead": 2,
          "ax": 0.5,
          "axref": "x domain",
          "ay": 2,
          "ayref": "y",
          "text": "absolute",
          "x": 0.5,
          "xref": "x3 domain",
          "y": -0.47500000000000003,
          "yref": "y3 domain"
         },
         {
          "arrowhead": 2,
          "ax": 0.5,
          "axref": "x domain",
          "ay": 2,
          "ayref": "y",
          "text": "goal",
          "x": 0.5,
          "xref": "x3 domain",
          "y": -0.55,
          "yref": "y3 domain"
         },
         {
          "arrowhead": 2,
          "ax": 0.5,
          "axref": "x domain",
          "ay": 2,
          "ayref": "y",
          "text": "2022-01-26 at 23:05",
          "x": 0.5,
          "xref": "x4 domain",
          "y": 1.1,
          "yref": "y4 domain"
         },
         {
          "arrowhead": 2,
          "ax": 0.5,
          "axref": "x domain",
          "ay": 2,
          "ayref": "y",
          "text": "274 likes, 21 comments",
          "x": 0.5,
          "xref": "x4 domain",
          "y": -0.075,
          "yref": "y4 domain"
         },
         {
          "arrowhead": 2,
          "ax": 0.5,
          "axref": "x domain",
          "ay": 2,
          "ayref": "y",
          "text": "Most unique words:",
          "x": 0.5,
          "xref": "x4 domain",
          "y": -0.175,
          "yref": "y4 domain"
         },
         {
          "arrowhead": 2,
          "ax": 0.5,
          "axref": "x domain",
          "ay": 2,
          "ayref": "y",
          "text": "dont",
          "x": 0.5,
          "xref": "x4 domain",
          "y": -0.25,
          "yref": "y4 domain"
         },
         {
          "arrowhead": 2,
          "ax": 0.5,
          "axref": "x domain",
          "ay": 2,
          "ayref": "y",
          "text": "bulky",
          "x": 0.5,
          "xref": "x4 domain",
          "y": -0.325,
          "yref": "y4 domain"
         },
         {
          "arrowhead": 2,
          "ax": 0.5,
          "axref": "x domain",
          "ay": 2,
          "ayref": "y",
          "text": "muscle",
          "x": 0.5,
          "xref": "x4 domain",
          "y": -0.4,
          "yref": "y4 domain"
         },
         {
          "arrowhead": 2,
          "ax": 0.5,
          "axref": "x domain",
          "ay": 2,
          "ayref": "y",
          "text": "toned",
          "x": 0.5,
          "xref": "x4 domain",
          "y": -0.47500000000000003,
          "yref": "y4 domain"
         },
         {
          "arrowhead": 2,
          "ax": 0.5,
          "axref": "x domain",
          "ay": 2,
          "ayref": "y",
          "text": "jack",
          "x": 0.5,
          "xref": "x4 domain",
          "y": -0.55,
          "yref": "y4 domain"
         },
         {
          "arrowhead": 2,
          "ax": 0.5,
          "axref": "x domain",
          "ay": 2,
          "ayref": "y",
          "text": "2022-12-19 at 21:55",
          "x": 0.5,
          "xref": "x5 domain",
          "y": 1.1,
          "yref": "y5 domain"
         },
         {
          "arrowhead": 2,
          "ax": 0.5,
          "axref": "x domain",
          "ay": 2,
          "ayref": "y",
          "text": "272 likes, 28 comments",
          "x": 0.5,
          "xref": "x5 domain",
          "y": -0.075,
          "yref": "y5 domain"
         },
         {
          "arrowhead": 2,
          "ax": 0.5,
          "axref": "x domain",
          "ay": 2,
          "ayref": "y",
          "text": "Most unique words:",
          "x": 0.5,
          "xref": "x5 domain",
          "y": -0.175,
          "yref": "y5 domain"
         },
         {
          "arrowhead": 2,
          "ax": 0.5,
          "axref": "x domain",
          "ay": 2,
          "ayref": "y",
          "text": "midland",
          "x": 0.5,
          "xref": "x5 domain",
          "y": -0.25,
          "yref": "y5 domain"
         },
         {
          "arrowhead": 2,
          "ax": 0.5,
          "axref": "x domain",
          "ay": 2,
          "ayref": "y",
          "text": "leg",
          "x": 0.5,
          "xref": "x5 domain",
          "y": -0.325,
          "yref": "y5 domain"
         },
         {
          "arrowhead": 2,
          "ax": 0.5,
          "axref": "x domain",
          "ay": 2,
          "ayref": "y",
          "text": "onto",
          "x": 0.5,
          "xref": "x5 domain",
          "y": -0.4,
          "yref": "y5 domain"
         },
         {
          "arrowhead": 2,
          "ax": 0.5,
          "axref": "x domain",
          "ay": 2,
          "ayref": "y",
          "text": "feel",
          "x": 0.5,
          "xref": "x5 domain",
          "y": -0.47500000000000003,
          "yref": "y5 domain"
         },
         {
          "arrowhead": 2,
          "ax": 0.5,
          "axref": "x domain",
          "ay": 2,
          "ayref": "y",
          "text": "soon",
          "x": 0.5,
          "xref": "x5 domain",
          "y": -0.55,
          "yref": "y5 domain"
         }
        ],
        "height": 420,
        "images": [
         {
          "opacity": 1,
          "sizex": 1,
          "sizey": 1,
          "source": "https://scontent.cdninstagram.com/v/t51.29350-15/299940110_185579397202510_500043472388627299_n.jpg?_nc_cat=108&ccb=1-7&_nc_sid=8ae9d6&_nc_ohc=_7T2uZEzZmkAX9RisUP&_nc_ht=scontent.cdninstagram.com&edm=AM6HXa8EAAAA&oh=00_AfB2Z1-PE5-CzuopPQtMunSh6G_x_hnP9Hf2veh70xafUQ&oe=6405E02D",
          "x": 0,
          "xanchor": "center",
          "xref": "x",
          "y": 0,
          "yanchor": "middle",
          "yref": "y"
         },
         {
          "opacity": 1,
          "sizex": 1,
          "sizey": 1,
          "source": "https://scontent.cdninstagram.com/v/t51.29350-15/299850283_2020232708168913_970762763146791396_n.jpg?_nc_cat=100&ccb=1-7&_nc_sid=8ae9d6&_nc_ohc=4xXQdMM295wAX9LxGbl&_nc_ht=scontent.cdninstagram.com&edm=AM6HXa8EAAAA&oh=00_AfBPsAlajTyenxSmlaPLvxKqRIbEBtbgL-6ZajOMJsQAAA&oe=6405E6E0",
          "x": 0,
          "xanchor": "center",
          "xref": "x2",
          "y": 0,
          "yanchor": "middle",
          "yref": "y2"
         },
         {
          "opacity": 1,
          "sizex": 1,
          "sizey": 1,
          "source": "https://scontent.cdninstagram.com/v/t51.29350-15/320420595_689267252722767_1332440333323528159_n.jpg?_nc_cat=102&ccb=1-7&_nc_sid=8ae9d6&_nc_ohc=PWv9FEH9tLgAX8mMKCh&_nc_ht=scontent.cdninstagram.com&edm=AM6HXa8EAAAA&oh=00_AfDU4Ml5CCU48JKlu_gSRDHssIYTE5KmvPdG_TzumAoDiQ&oe=6405AC82",
          "x": 0,
          "xanchor": "center",
          "xref": "x3",
          "y": 0,
          "yanchor": "middle",
          "yref": "y3"
         },
         {
          "opacity": 1,
          "sizex": 1,
          "sizey": 1,
          "source": "https://scontent.cdninstagram.com/v/t51.29350-15/272834675_467188468283466_1689463754243777574_n.webp?stp=dst-jpg&_nc_cat=104&ccb=1-7&_nc_sid=8ae9d6&_nc_ohc=tqyQ9xRQIbsAX89aWsJ&_nc_oc=AQmZa4Xi0czZZoNS5YrLmkuZG0EAm4MuZs0JCPVl7daJmrK8WmlgTbCJHiH-cVM103oaEaBhX79q89viPl2Mmzfd&_nc_ht=scontent.cdninstagram.com&edm=AM6HXa8EAAAA&oh=00_AfA_G6nKlTVJbnmdoBhVvQjXmkeCe9cdlbASmWL2LlC0Mw&oe=64043382",
          "x": 0,
          "xanchor": "center",
          "xref": "x4",
          "y": 0,
          "yanchor": "middle",
          "yref": "y4"
         },
         {
          "opacity": 1,
          "sizex": 1,
          "sizey": 1,
          "source": "https://scontent.cdninstagram.com/v/t51.29350-15/320545525_695185555307175_3258750712324461089_n.jpg?_nc_cat=110&ccb=1-7&_nc_sid=8ae9d6&_nc_ohc=Zm6tGeaI4JoAX_njmqu&_nc_ht=scontent.cdninstagram.com&edm=AM6HXa8EAAAA&oh=00_AfBMVMuW5kybeCYZiECHen3smdIiHToJP3Np_Tlf9u2Hfg&oe=6405A2ED",
          "x": 0,
          "xanchor": "center",
          "xref": "x5",
          "y": 0,
          "yanchor": "middle",
          "yref": "y5"
         }
        ],
        "margin": {
         "b": 120,
         "l": 50,
         "r": 50
        },
        "plot_bgcolor": "white",
        "template": {
         "data": {
          "bar": [
           {
            "error_x": {
             "color": "#2a3f5f"
            },
            "error_y": {
             "color": "#2a3f5f"
            },
            "marker": {
             "line": {
              "color": "#E5ECF6",
              "width": 0.5
             },
             "pattern": {
              "fillmode": "overlay",
              "size": 10,
              "solidity": 0.2
             }
            },
            "type": "bar"
           }
          ],
          "barpolar": [
           {
            "marker": {
             "line": {
              "color": "#E5ECF6",
              "width": 0.5
             },
             "pattern": {
              "fillmode": "overlay",
              "size": 10,
              "solidity": 0.2
             }
            },
            "type": "barpolar"
           }
          ],
          "carpet": [
           {
            "aaxis": {
             "endlinecolor": "#2a3f5f",
             "gridcolor": "white",
             "linecolor": "white",
             "minorgridcolor": "white",
             "startlinecolor": "#2a3f5f"
            },
            "baxis": {
             "endlinecolor": "#2a3f5f",
             "gridcolor": "white",
             "linecolor": "white",
             "minorgridcolor": "white",
             "startlinecolor": "#2a3f5f"
            },
            "type": "carpet"
           }
          ],
          "choropleth": [
           {
            "colorbar": {
             "outlinewidth": 0,
             "ticks": ""
            },
            "type": "choropleth"
           }
          ],
          "contour": [
           {
            "colorbar": {
             "outlinewidth": 0,
             "ticks": ""
            },
            "colorscale": [
             [
              0,
              "#0d0887"
             ],
             [
              0.1111111111111111,
              "#46039f"
             ],
             [
              0.2222222222222222,
              "#7201a8"
             ],
             [
              0.3333333333333333,
              "#9c179e"
             ],
             [
              0.4444444444444444,
              "#bd3786"
             ],
             [
              0.5555555555555556,
              "#d8576b"
             ],
             [
              0.6666666666666666,
              "#ed7953"
             ],
             [
              0.7777777777777778,
              "#fb9f3a"
             ],
             [
              0.8888888888888888,
              "#fdca26"
             ],
             [
              1,
              "#f0f921"
             ]
            ],
            "type": "contour"
           }
          ],
          "contourcarpet": [
           {
            "colorbar": {
             "outlinewidth": 0,
             "ticks": ""
            },
            "type": "contourcarpet"
           }
          ],
          "heatmap": [
           {
            "colorbar": {
             "outlinewidth": 0,
             "ticks": ""
            },
            "colorscale": [
             [
              0,
              "#0d0887"
             ],
             [
              0.1111111111111111,
              "#46039f"
             ],
             [
              0.2222222222222222,
              "#7201a8"
             ],
             [
              0.3333333333333333,
              "#9c179e"
             ],
             [
              0.4444444444444444,
              "#bd3786"
             ],
             [
              0.5555555555555556,
              "#d8576b"
             ],
             [
              0.6666666666666666,
              "#ed7953"
             ],
             [
              0.7777777777777778,
              "#fb9f3a"
             ],
             [
              0.8888888888888888,
              "#fdca26"
             ],
             [
              1,
              "#f0f921"
             ]
            ],
            "type": "heatmap"
           }
          ],
          "heatmapgl": [
           {
            "colorbar": {
             "outlinewidth": 0,
             "ticks": ""
            },
            "colorscale": [
             [
              0,
              "#0d0887"
             ],
             [
              0.1111111111111111,
              "#46039f"
             ],
             [
              0.2222222222222222,
              "#7201a8"
             ],
             [
              0.3333333333333333,
              "#9c179e"
             ],
             [
              0.4444444444444444,
              "#bd3786"
             ],
             [
              0.5555555555555556,
              "#d8576b"
             ],
             [
              0.6666666666666666,
              "#ed7953"
             ],
             [
              0.7777777777777778,
              "#fb9f3a"
             ],
             [
              0.8888888888888888,
              "#fdca26"
             ],
             [
              1,
              "#f0f921"
             ]
            ],
            "type": "heatmapgl"
           }
          ],
          "histogram": [
           {
            "marker": {
             "pattern": {
              "fillmode": "overlay",
              "size": 10,
              "solidity": 0.2
             }
            },
            "type": "histogram"
           }
          ],
          "histogram2d": [
           {
            "colorbar": {
             "outlinewidth": 0,
             "ticks": ""
            },
            "colorscale": [
             [
              0,
              "#0d0887"
             ],
             [
              0.1111111111111111,
              "#46039f"
             ],
             [
              0.2222222222222222,
              "#7201a8"
             ],
             [
              0.3333333333333333,
              "#9c179e"
             ],
             [
              0.4444444444444444,
              "#bd3786"
             ],
             [
              0.5555555555555556,
              "#d8576b"
             ],
             [
              0.6666666666666666,
              "#ed7953"
             ],
             [
              0.7777777777777778,
              "#fb9f3a"
             ],
             [
              0.8888888888888888,
              "#fdca26"
             ],
             [
              1,
              "#f0f921"
             ]
            ],
            "type": "histogram2d"
           }
          ],
          "histogram2dcontour": [
           {
            "colorbar": {
             "outlinewidth": 0,
             "ticks": ""
            },
            "colorscale": [
             [
              0,
              "#0d0887"
             ],
             [
              0.1111111111111111,
              "#46039f"
             ],
             [
              0.2222222222222222,
              "#7201a8"
             ],
             [
              0.3333333333333333,
              "#9c179e"
             ],
             [
              0.4444444444444444,
              "#bd3786"
             ],
             [
              0.5555555555555556,
              "#d8576b"
             ],
             [
              0.6666666666666666,
              "#ed7953"
             ],
             [
              0.7777777777777778,
              "#fb9f3a"
             ],
             [
              0.8888888888888888,
              "#fdca26"
             ],
             [
              1,
              "#f0f921"
             ]
            ],
            "type": "histogram2dcontour"
           }
          ],
          "mesh3d": [
           {
            "colorbar": {
             "outlinewidth": 0,
             "ticks": ""
            },
            "type": "mesh3d"
           }
          ],
          "parcoords": [
           {
            "line": {
             "colorbar": {
              "outlinewidth": 0,
              "ticks": ""
             }
            },
            "type": "parcoords"
           }
          ],
          "pie": [
           {
            "automargin": true,
            "type": "pie"
           }
          ],
          "scatter": [
           {
            "fillpattern": {
             "fillmode": "overlay",
             "size": 10,
             "solidity": 0.2
            },
            "type": "scatter"
           }
          ],
          "scatter3d": [
           {
            "line": {
             "colorbar": {
              "outlinewidth": 0,
              "ticks": ""
             }
            },
            "marker": {
             "colorbar": {
              "outlinewidth": 0,
              "ticks": ""
             }
            },
            "type": "scatter3d"
           }
          ],
          "scattercarpet": [
           {
            "marker": {
             "colorbar": {
              "outlinewidth": 0,
              "ticks": ""
             }
            },
            "type": "scattercarpet"
           }
          ],
          "scattergeo": [
           {
            "marker": {
             "colorbar": {
              "outlinewidth": 0,
              "ticks": ""
             }
            },
            "type": "scattergeo"
           }
          ],
          "scattergl": [
           {
            "marker": {
             "colorbar": {
              "outlinewidth": 0,
              "ticks": ""
             }
            },
            "type": "scattergl"
           }
          ],
          "scattermapbox": [
           {
            "marker": {
             "colorbar": {
              "outlinewidth": 0,
              "ticks": ""
             }
            },
            "type": "scattermapbox"
           }
          ],
          "scatterpolar": [
           {
            "marker": {
             "colorbar": {
              "outlinewidth": 0,
              "ticks": ""
             }
            },
            "type": "scatterpolar"
           }
          ],
          "scatterpolargl": [
           {
            "marker": {
             "colorbar": {
              "outlinewidth": 0,
              "ticks": ""
             }
            },
            "type": "scatterpolargl"
           }
          ],
          "scatterternary": [
           {
            "marker": {
             "colorbar": {
              "outlinewidth": 0,
              "ticks": ""
             }
            },
            "type": "scatterternary"
           }
          ],
          "surface": [
           {
            "colorbar": {
             "outlinewidth": 0,
             "ticks": ""
            },
            "colorscale": [
             [
              0,
              "#0d0887"
             ],
             [
              0.1111111111111111,
              "#46039f"
             ],
             [
              0.2222222222222222,
              "#7201a8"
             ],
             [
              0.3333333333333333,
              "#9c179e"
             ],
             [
              0.4444444444444444,
              "#bd3786"
             ],
             [
              0.5555555555555556,
              "#d8576b"
             ],
             [
              0.6666666666666666,
              "#ed7953"
             ],
             [
              0.7777777777777778,
              "#fb9f3a"
             ],
             [
              0.8888888888888888,
              "#fdca26"
             ],
             [
              1,
              "#f0f921"
             ]
            ],
            "type": "surface"
           }
          ],
          "table": [
           {
            "cells": {
             "fill": {
              "color": "#EBF0F8"
             },
             "line": {
              "color": "white"
             }
            },
            "header": {
             "fill": {
              "color": "#C8D4E3"
             },
             "line": {
              "color": "white"
             }
            },
            "type": "table"
           }
          ]
         },
         "layout": {
          "annotationdefaults": {
           "arrowcolor": "#2a3f5f",
           "arrowhead": 0,
           "arrowwidth": 1
          },
          "autotypenumbers": "strict",
          "coloraxis": {
           "colorbar": {
            "outlinewidth": 0,
            "ticks": ""
           }
          },
          "colorscale": {
           "diverging": [
            [
             0,
             "#8e0152"
            ],
            [
             0.1,
             "#c51b7d"
            ],
            [
             0.2,
             "#de77ae"
            ],
            [
             0.3,
             "#f1b6da"
            ],
            [
             0.4,
             "#fde0ef"
            ],
            [
             0.5,
             "#f7f7f7"
            ],
            [
             0.6,
             "#e6f5d0"
            ],
            [
             0.7,
             "#b8e186"
            ],
            [
             0.8,
             "#7fbc41"
            ],
            [
             0.9,
             "#4d9221"
            ],
            [
             1,
             "#276419"
            ]
           ],
           "sequential": [
            [
             0,
             "#0d0887"
            ],
            [
             0.1111111111111111,
             "#46039f"
            ],
            [
             0.2222222222222222,
             "#7201a8"
            ],
            [
             0.3333333333333333,
             "#9c179e"
            ],
            [
             0.4444444444444444,
             "#bd3786"
            ],
            [
             0.5555555555555556,
             "#d8576b"
            ],
            [
             0.6666666666666666,
             "#ed7953"
            ],
            [
             0.7777777777777778,
             "#fb9f3a"
            ],
            [
             0.8888888888888888,
             "#fdca26"
            ],
            [
             1,
             "#f0f921"
            ]
           ],
           "sequentialminus": [
            [
             0,
             "#0d0887"
            ],
            [
             0.1111111111111111,
             "#46039f"
            ],
            [
             0.2222222222222222,
             "#7201a8"
            ],
            [
             0.3333333333333333,
             "#9c179e"
            ],
            [
             0.4444444444444444,
             "#bd3786"
            ],
            [
             0.5555555555555556,
             "#d8576b"
            ],
            [
             0.6666666666666666,
             "#ed7953"
            ],
            [
             0.7777777777777778,
             "#fb9f3a"
            ],
            [
             0.8888888888888888,
             "#fdca26"
            ],
            [
             1,
             "#f0f921"
            ]
           ]
          },
          "colorway": [
           "#636efa",
           "#EF553B",
           "#00cc96",
           "#ab63fa",
           "#FFA15A",
           "#19d3f3",
           "#FF6692",
           "#B6E880",
           "#FF97FF",
           "#FECB52"
          ],
          "font": {
           "color": "#2a3f5f"
          },
          "geo": {
           "bgcolor": "white",
           "lakecolor": "white",
           "landcolor": "#E5ECF6",
           "showlakes": true,
           "showland": true,
           "subunitcolor": "white"
          },
          "hoverlabel": {
           "align": "left"
          },
          "hovermode": "closest",
          "mapbox": {
           "style": "light"
          },
          "paper_bgcolor": "white",
          "plot_bgcolor": "#E5ECF6",
          "polar": {
           "angularaxis": {
            "gridcolor": "white",
            "linecolor": "white",
            "ticks": ""
           },
           "bgcolor": "#E5ECF6",
           "radialaxis": {
            "gridcolor": "white",
            "linecolor": "white",
            "ticks": ""
           }
          },
          "scene": {
           "xaxis": {
            "backgroundcolor": "#E5ECF6",
            "gridcolor": "white",
            "gridwidth": 2,
            "linecolor": "white",
            "showbackground": true,
            "ticks": "",
            "zerolinecolor": "white"
           },
           "yaxis": {
            "backgroundcolor": "#E5ECF6",
            "gridcolor": "white",
            "gridwidth": 2,
            "linecolor": "white",
            "showbackground": true,
            "ticks": "",
            "zerolinecolor": "white"
           },
           "zaxis": {
            "backgroundcolor": "#E5ECF6",
            "gridcolor": "white",
            "gridwidth": 2,
            "linecolor": "white",
            "showbackground": true,
            "ticks": "",
            "zerolinecolor": "white"
           }
          },
          "shapedefaults": {
           "line": {
            "color": "#2a3f5f"
           }
          },
          "ternary": {
           "aaxis": {
            "gridcolor": "white",
            "linecolor": "white",
            "ticks": ""
           },
           "baxis": {
            "gridcolor": "white",
            "linecolor": "white",
            "ticks": ""
           },
           "bgcolor": "#E5ECF6",
           "caxis": {
            "gridcolor": "white",
            "linecolor": "white",
            "ticks": ""
           }
          },
          "title": {
           "x": 0.05
          },
          "xaxis": {
           "automargin": true,
           "gridcolor": "white",
           "linecolor": "white",
           "ticks": "",
           "title": {
            "standoff": 15
           },
           "zerolinecolor": "white",
           "zerolinewidth": 2
          },
          "yaxis": {
           "automargin": true,
           "gridcolor": "white",
           "linecolor": "white",
           "ticks": "",
           "title": {
            "standoff": 15
           },
           "zerolinecolor": "white",
           "zerolinewidth": 2
          }
         }
        },
        "title": {
         "text": "Posts with highest number of likes",
         "x": 0.5,
         "xanchor": "center"
        },
        "xaxis": {
         "anchor": "y",
         "domain": [
          0,
          0.16799999999999998
         ],
         "range": [
          -0.5,
          0.5
         ],
         "showticklabels": false
        },
        "xaxis2": {
         "anchor": "y2",
         "domain": [
          0.208,
          0.376
         ],
         "range": [
          -0.5,
          0.5
         ],
         "showticklabels": false
        },
        "xaxis3": {
         "anchor": "y3",
         "domain": [
          0.416,
          0.584
         ],
         "range": [
          -0.5,
          0.5
         ],
         "showticklabels": false
        },
        "xaxis4": {
         "anchor": "y4",
         "domain": [
          0.624,
          0.792
         ],
         "range": [
          -0.5,
          0.5
         ],
         "showticklabels": false
        },
        "xaxis5": {
         "anchor": "y5",
         "domain": [
          0.832,
          1
         ],
         "range": [
          -0.5,
          0.5
         ],
         "showticklabels": false
        },
        "yaxis": {
         "anchor": "x",
         "domain": [
          0,
          1
         ],
         "range": [
          -0.5,
          0.5
         ],
         "showticklabels": false
        },
        "yaxis2": {
         "anchor": "x2",
         "domain": [
          0,
          1
         ],
         "range": [
          -0.5,
          0.5
         ],
         "showticklabels": false
        },
        "yaxis3": {
         "anchor": "x3",
         "domain": [
          0,
          1
         ],
         "range": [
          -0.5,
          0.5
         ],
         "showticklabels": false
        },
        "yaxis4": {
         "anchor": "x4",
         "domain": [
          0,
          1
         ],
         "range": [
          -0.5,
          0.5
         ],
         "showticklabels": false
        },
        "yaxis5": {
         "anchor": "x5",
         "domain": [
          0,
          1
         ],
         "range": [
          -0.5,
          0.5
         ],
         "showticklabels": false
        }
       }
      }
     },
     "metadata": {},
     "output_type": "display_data"
    }
   ],
   "source": [
    "from plotly.subplots import make_subplots\n",
    "import plotly.graph_objects as go\n",
    "def plot_images_tfidf(input_df, count_vector,\n",
    "        n=5, top=True, max_columns=5, streamlit=False, \n",
    "        caption_column='caption', timezone='Canada/Pacific'):\n",
    "    \"\"\"\n",
    "    Plot the images/video thumbnails of either the top or \n",
    "    worst performing instagram media (posts, reels, carousels).\n",
    "    The following data is shown for each resulting media item:\n",
    "        - Image/video thumbnail\n",
    "        - Time stamp of the post in the provided time zone or in UTC time.\n",
    "        - Number of likes and number of comments.\n",
    "        - 5 words with the highest Tf-idf scores.\n",
    "\n",
    "    Parameters:\n",
    "        - df: DataFrame with the processed data.\n",
    "        - count_vector: DataFrame with the count vectors.\n",
    "        - n (int): Number of images to show.\n",
    "        - top (bool): If True, plot images with the highest number of likes in \n",
    "            descending order. If False, plot images with the highest number of likes in\n",
    "            ascending order. sort_by = ['like_count', 'comments_count', 'timestamp']\n",
    "        - streamlit (bool): Whether or not the app runs on Streamlit. If False, then\n",
    "            it is run on local machine.\n",
    "        - timezone (str): Timezone parameter for the `.astimezone()` method.\n",
    "            e.g. 'Australia/Sydney', 'Canada/Pacific'\n",
    "    Returns:\n",
    "        - DataFrame containing the data of the posts in the figure.\n",
    "        - fig: Plotly figure object.\n",
    "    \"\"\"\n",
    "    tfidf = tfidf_transform(count_vector)\n",
    "    ncols = n if n<max_columns else max_columns\n",
    "    nrows = (n + ncols - 1) // ncols\n",
    "    sort_by = ['like_count', 'comments_count', 'timestamp']\n",
    "    # SH 2023-03-05 21:52\n",
    "    df = input_df.copy()\n",
    "    df.columns = df.columns.str.replace(caption_column, f'post_{caption_column}')\n",
    "    df = pd.concat([df, tfidf], axis=1)\n",
    "\n",
    "    posts = df.sort_values(by=sort_by, ascending=False if top else True).head(n).copy()\n",
    "    posts['thumbnail_url'].fillna(posts['media_url'], inplace=True)\n",
    "    if timezone:\n",
    "        print('Time zone:', timezone)\n",
    "        converted_timestamp = [timestamp.astimezone(timezone) for timestamp in pd.to_datetime(posts['timestamp'])]\n",
    "        titles = tuple(timestamp.strftime('%Y-%m-%d at %H:%M') for timestamp in converted_timestamp)\n",
    "    else:\n",
    "        titles = tuple(posts['timestamp'].dt.strftime('%Y-%m-%d at %H:%M').values.tolist())\n",
    "    fig = make_subplots(\n",
    "        rows=nrows, cols=ncols, \n",
    "        vertical_spacing=0.55/nrows\n",
    "        )\n",
    "    for index, (i, n_likes, n_comments, url, title) in enumerate(zip(posts.index,\n",
    "            posts['like_count'], posts['comments_count'], posts['thumbnail_url'],\n",
    "            titles)\n",
    "        ):\n",
    "        highest_tfidf = [word for word, value in tfidf.loc[i].sort_values(\n",
    "            ascending=False).head(5).items() if value > 0]\n",
    "        fig.add_layout_image(\n",
    "            x=0, y=0,\n",
    "            xanchor='center', yanchor='middle',\n",
    "            sizex=1, sizey=1,\n",
    "            row=index // ncols + 1,\n",
    "            col=index % ncols + 1,\n",
    "            xref=\"x\",\n",
    "            yref=\"y\",\n",
    "            opacity=1.0,\n",
    "            source=url\n",
    "        )\n",
    "        annotation_y_position = -0.075\n",
    "        fig.add_annotation(\n",
    "            xref=\"x domain\",\n",
    "            yref=\"y domain\",\n",
    "            x=0.5,\n",
    "            y=1.1,\n",
    "            text=title,\n",
    "            axref=\"x domain\",\n",
    "            ayref=\"y\",\n",
    "            ax=0.5,\n",
    "            ay=2,\n",
    "            arrowhead=2,\n",
    "            row=index // ncols + 1,\n",
    "            col=index % ncols + 1,\n",
    "        )\n",
    "        fig.add_annotation(\n",
    "            xref=\"x domain\",\n",
    "            yref=\"y domain\",\n",
    "            x=0.5,\n",
    "            y=annotation_y_position,\n",
    "            text=f'{n_likes} likes, {n_comments} comments',\n",
    "            axref=\"x domain\",\n",
    "            ayref=\"y\",\n",
    "            ax=0.5,\n",
    "            ay=2,\n",
    "            arrowhead=2,\n",
    "            row=index // ncols + 1,\n",
    "            col=index % ncols + 1,\n",
    "        )\n",
    "        annotation_y_position -= 0.1\n",
    "        fig.add_annotation(\n",
    "            xref=\"x domain\",\n",
    "            yref=\"y domain\",\n",
    "            x=0.5,\n",
    "            y=annotation_y_position,\n",
    "            text=f'Most unique words:',\n",
    "            axref=\"x domain\",\n",
    "            ayref=\"y\",\n",
    "            ax=0.5,\n",
    "            ay=2,\n",
    "            arrowhead=2,\n",
    "            row=index // ncols + 1,\n",
    "            col=index % ncols + 1,\n",
    "        )\n",
    "        for word in highest_tfidf:\n",
    "            annotation_y_position -= .075\n",
    "            fig.add_annotation(\n",
    "                xref=\"x domain\",\n",
    "                yref=\"y domain\",\n",
    "                x=0.5,\n",
    "                y=annotation_y_position,\n",
    "                text=word,\n",
    "                axref=\"x domain\",\n",
    "                ayref=\"y\",\n",
    "                ax=0.5,\n",
    "                ay=2,\n",
    "                arrowhead=2,\n",
    "                row=index // ncols + 1,\n",
    "                col=index % ncols + 1,\n",
    "                # hovertext=caption,\n",
    "            )\n",
    "    fig.update_xaxes(range=[-0.5,0.5], showticklabels=False)\n",
    "    fig.update_yaxes(range=[-0.5,0.5], showticklabels=False)\n",
    "    fig.update_layout(\n",
    "        title_text='Posts with highest number of likes' if top==True else 'Posts with fewest number of likes',\n",
    "        title_xanchor='center', title_x=0.5,\n",
    "        plot_bgcolor=\"white\", \n",
    "        height = 120 + nrows * 300,\n",
    "        margin_b=120, margin_l=50, margin_r=50,\n",
    "        )\n",
    "    if streamlit:\n",
    "        st.plotly_chart(fig, use_container_width=True)\n",
    "    else:\n",
    "        fig.show()\n",
    "    return posts.reset_index(drop=True), fig\n",
    "\n",
    "\n",
    "top_posts, fig = plot_images_tfidf(data_processed, count_vector)"
   ]
  },
  {
   "cell_type": "code",
   "execution_count": 135,
   "metadata": {},
   "outputs": [
    {
     "name": "stdout",
     "output_type": "stream",
     "text": [
      "Time zone: Canada/Pacific\n"
     ]
    },
    {
     "data": {
      "application/vnd.plotly.v1+json": {
       "config": {
        "plotlyServerURL": "https://plot.ly"
       },
       "data": [],
       "layout": {
        "annotations": [
         {
          "arrowhead": 2,
          "ax": 0.5,
          "axref": "x domain",
          "ay": 2,
          "ayref": "y",
          "text": "2023-02-08 at 11:21",
          "x": 0.5,
          "xref": "x domain",
          "y": 1.1,
          "yref": "y domain"
         },
         {
          "arrowhead": 2,
          "ax": 0.5,
          "axref": "x domain",
          "ay": 2,
          "ayref": "y",
          "text": "2 likes, 0 comments",
          "x": 0.5,
          "xref": "x domain",
          "y": -0.075,
          "yref": "y domain"
         },
         {
          "arrowhead": 2,
          "ax": 0.5,
          "axref": "x domain",
          "ay": 2,
          "ayref": "y",
          "text": "Most unique words:",
          "x": 0.5,
          "xref": "x domain",
          "y": -0.175,
          "yref": "y domain"
         },
         {
          "arrowhead": 2,
          "ax": 0.5,
          "axref": "x domain",
          "ay": 2,
          "ayref": "y",
          "text": "energy",
          "x": 0.5,
          "xref": "x domain",
          "y": -0.25,
          "yref": "y domain"
         },
         {
          "arrowhead": 2,
          "ax": 0.5,
          "axref": "x domain",
          "ay": 2,
          "ayref": "y",
          "text": "#testimonial",
          "x": 0.5,
          "xref": "x domain",
          "y": -0.325,
          "yref": "y domain"
         },
         {
          "arrowhead": 2,
          "ax": 0.5,
          "axref": "x domain",
          "ay": 2,
          "ayref": "y",
          "text": "devani",
          "x": 0.5,
          "xref": "x domain",
          "y": -0.4,
          "yref": "y domain"
         },
         {
          "arrowhead": 2,
          "ax": 0.5,
          "axref": "x domain",
          "ay": 2,
          "ayref": "y",
          "text": "task",
          "x": 0.5,
          "xref": "x domain",
          "y": -0.47500000000000003,
          "yref": "y domain"
         },
         {
          "arrowhead": 2,
          "ax": 0.5,
          "axref": "x domain",
          "ay": 2,
          "ayref": "y",
          "text": "#realpeople",
          "x": 0.5,
          "xref": "x domain",
          "y": -0.55,
          "yref": "y domain"
         },
         {
          "arrowhead": 2,
          "ax": 0.5,
          "axref": "x domain",
          "ay": 2,
          "ayref": "y",
          "text": "2022-05-07 at 13:54",
          "x": 0.5,
          "xref": "x2 domain",
          "y": 1.1,
          "yref": "y2 domain"
         },
         {
          "arrowhead": 2,
          "ax": 0.5,
          "axref": "x domain",
          "ay": 2,
          "ayref": "y",
          "text": "4 likes, 0 comments",
          "x": 0.5,
          "xref": "x2 domain",
          "y": -0.075,
          "yref": "y2 domain"
         },
         {
          "arrowhead": 2,
          "ax": 0.5,
          "axref": "x domain",
          "ay": 2,
          "ayref": "y",
          "text": "Most unique words:",
          "x": 0.5,
          "xref": "x2 domain",
          "y": -0.175,
          "yref": "y2 domain"
         },
         {
          "arrowhead": 2,
          "ax": 0.5,
          "axref": "x domain",
          "ay": 2,
          "ayref": "y",
          "text": "apply",
          "x": 0.5,
          "xref": "x2 domain",
          "y": -0.25,
          "yref": "y2 domain"
         },
         {
          "arrowhead": 2,
          "ax": 0.5,
          "axref": "x domain",
          "ay": 2,
          "ayref": "y",
          "text": "<number>",
          "x": 0.5,
          "xref": "x2 domain",
          "y": -0.325,
          "yref": "y2 domain"
         },
         {
          "arrowhead": 2,
          "ax": 0.5,
          "axref": "x domain",
          "ay": 2,
          "ayref": "y",
          "text": "youre",
          "x": 0.5,
          "xref": "x2 domain",
          "y": -0.4,
          "yref": "y2 domain"
         },
         {
          "arrowhead": 2,
          "ax": 0.5,
          "axref": "x domain",
          "ay": 2,
          "ayref": "y",
          "text": "lose",
          "x": 0.5,
          "xref": "x2 domain",
          "y": -0.47500000000000003,
          "yref": "y2 domain"
         },
         {
          "arrowhead": 2,
          "ax": 0.5,
          "axref": "x domain",
          "ay": 2,
          "ayref": "y",
          "text": "trish",
          "x": 0.5,
          "xref": "x2 domain",
          "y": -0.55,
          "yref": "y2 domain"
         },
         {
          "arrowhead": 2,
          "ax": 0.5,
          "axref": "x domain",
          "ay": 2,
          "ayref": "y",
          "text": "2022-09-15 at 12:14",
          "x": 0.5,
          "xref": "x3 domain",
          "y": 1.1,
          "yref": "y3 domain"
         },
         {
          "arrowhead": 2,
          "ax": 0.5,
          "axref": "x domain",
          "ay": 2,
          "ayref": "y",
          "text": "4 likes, 0 comments",
          "x": 0.5,
          "xref": "x3 domain",
          "y": -0.075,
          "yref": "y3 domain"
         },
         {
          "arrowhead": 2,
          "ax": 0.5,
          "axref": "x domain",
          "ay": 2,
          "ayref": "y",
          "text": "Most unique words:",
          "x": 0.5,
          "xref": "x3 domain",
          "y": -0.175,
          "yref": "y3 domain"
         },
         {
          "arrowhead": 2,
          "ax": 0.5,
          "axref": "x domain",
          "ay": 2,
          "ayref": "y",
          "text": "tasty",
          "x": 0.5,
          "xref": "x3 domain",
          "y": -0.25,
          "yref": "y3 domain"
         },
         {
          "arrowhead": 2,
          "ax": 0.5,
          "axref": "x domain",
          "ay": 2,
          "ayref": "y",
          "text": "recipe",
          "x": 0.5,
          "xref": "x3 domain",
          "y": -0.325,
          "yref": "y3 domain"
         },
         {
          "arrowhead": 2,
          "ax": 0.5,
          "axref": "x domain",
          "ay": 2,
          "ayref": "y",
          "text": "nutrition",
          "x": 0.5,
          "xref": "x3 domain",
          "y": -0.4,
          "yref": "y3 domain"
         },
         {
          "arrowhead": 2,
          "ax": 0.5,
          "axref": "x domain",
          "ay": 2,
          "ayref": "y",
          "text": "accountability",
          "x": 0.5,
          "xref": "x3 domain",
          "y": -0.47500000000000003,
          "yref": "y3 domain"
         },
         {
          "arrowhead": 2,
          "ax": 0.5,
          "axref": "x domain",
          "ay": 2,
          "ayref": "y",
          "text": "september",
          "x": 0.5,
          "xref": "x3 domain",
          "y": -0.55,
          "yref": "y3 domain"
         },
         {
          "arrowhead": 2,
          "ax": 0.5,
          "axref": "x domain",
          "ay": 2,
          "ayref": "y",
          "text": "2022-09-20 at 12:46",
          "x": 0.5,
          "xref": "x4 domain",
          "y": 1.1,
          "yref": "y4 domain"
         },
         {
          "arrowhead": 2,
          "ax": 0.5,
          "axref": "x domain",
          "ay": 2,
          "ayref": "y",
          "text": "4 likes, 0 comments",
          "x": 0.5,
          "xref": "x4 domain",
          "y": -0.075,
          "yref": "y4 domain"
         },
         {
          "arrowhead": 2,
          "ax": 0.5,
          "axref": "x domain",
          "ay": 2,
          "ayref": "y",
          "text": "Most unique words:",
          "x": 0.5,
          "xref": "x4 domain",
          "y": -0.175,
          "yref": "y4 domain"
         },
         {
          "arrowhead": 2,
          "ax": 0.5,
          "axref": "x domain",
          "ay": 2,
          "ayref": "y",
          "text": "nicole",
          "x": 0.5,
          "xref": "x4 domain",
          "y": -0.25,
          "yref": "y4 domain"
         },
         {
          "arrowhead": 2,
          "ax": 0.5,
          "axref": "x domain",
          "ay": 2,
          "ayref": "y",
          "text": "mindset",
          "x": 0.5,
          "xref": "x4 domain",
          "y": -0.325,
          "yref": "y4 domain"
         },
         {
          "arrowhead": 2,
          "ax": 0.5,
          "axref": "x domain",
          "ay": 2,
          "ayref": "y",
          "text": "feel",
          "x": 0.5,
          "xref": "x4 domain",
          "y": -0.4,
          "yref": "y4 domain"
         },
         {
          "arrowhead": 2,
          "ax": 0.5,
          "axref": "x domain",
          "ay": 2,
          "ayref": "y",
          "text": "work",
          "x": 0.5,
          "xref": "x4 domain",
          "y": -0.47500000000000003,
          "yref": "y4 domain"
         },
         {
          "arrowhead": 2,
          "ax": 0.5,
          "axref": "x domain",
          "ay": 2,
          "ayref": "y",
          "text": "week",
          "x": 0.5,
          "xref": "x4 domain",
          "y": -0.55,
          "yref": "y4 domain"
         },
         {
          "arrowhead": 2,
          "ax": 0.5,
          "axref": "x domain",
          "ay": 2,
          "ayref": "y",
          "text": "2022-09-25 at 01:01",
          "x": 0.5,
          "xref": "x5 domain",
          "y": 1.1,
          "yref": "y5 domain"
         },
         {
          "arrowhead": 2,
          "ax": 0.5,
          "axref": "x domain",
          "ay": 2,
          "ayref": "y",
          "text": "4 likes, 0 comments",
          "x": 0.5,
          "xref": "x5 domain",
          "y": -0.075,
          "yref": "y5 domain"
         },
         {
          "arrowhead": 2,
          "ax": 0.5,
          "axref": "x domain",
          "ay": 2,
          "ayref": "y",
          "text": "Most unique words:",
          "x": 0.5,
          "xref": "x5 domain",
          "y": -0.175,
          "yref": "y5 domain"
         },
         {
          "arrowhead": 2,
          "ax": 0.5,
          "axref": "x domain",
          "ay": 2,
          "ayref": "y",
          "text": "apply",
          "x": 0.5,
          "xref": "x5 domain",
          "y": -0.25,
          "yref": "y5 domain"
         },
         {
          "arrowhead": 2,
          "ax": 0.5,
          "axref": "x domain",
          "ay": 2,
          "ayref": "y",
          "text": "<number>",
          "x": 0.5,
          "xref": "x5 domain",
          "y": -0.325,
          "yref": "y5 domain"
         },
         {
          "arrowhead": 2,
          "ax": 0.5,
          "axref": "x domain",
          "ay": 2,
          "ayref": "y",
          "text": "youre",
          "x": 0.5,
          "xref": "x5 domain",
          "y": -0.4,
          "yref": "y5 domain"
         },
         {
          "arrowhead": 2,
          "ax": 0.5,
          "axref": "x domain",
          "ay": 2,
          "ayref": "y",
          "text": "surf",
          "x": 0.5,
          "xref": "x5 domain",
          "y": -0.47500000000000003,
          "yref": "y5 domain"
         },
         {
          "arrowhead": 2,
          "ax": 0.5,
          "axref": "x domain",
          "ay": 2,
          "ayref": "y",
          "text": "city",
          "x": 0.5,
          "xref": "x5 domain",
          "y": -0.55,
          "yref": "y5 domain"
         }
        ],
        "height": 420,
        "images": [
         {
          "opacity": 1,
          "sizex": 1,
          "sizey": 1,
          "source": "https://scontent.cdninstagram.com/v/t51.29350-15/329479262_737887244513061_8044152170266779504_n.jpg?_nc_cat=111&ccb=1-7&_nc_sid=8ae9d6&_nc_ohc=3e6t3se7lukAX-HmoSM&_nc_ht=scontent.cdninstagram.com&edm=AM6HXa8EAAAA&oh=00_AfAK6oyFuT1x2OdneTehP01OHlL4UKKPIK4noXwcUFZ0kQ&oe=64056F7C",
          "x": 0,
          "xanchor": "center",
          "xref": "x",
          "y": 0,
          "yanchor": "middle",
          "yref": "y"
         },
         {
          "opacity": 1,
          "sizex": 1,
          "sizey": 1,
          "source": "https://scontent.cdninstagram.com/v/t51.29350-15/279952486_772782610550975_2991905722345500146_n.jpg?_nc_cat=103&ccb=1-7&_nc_sid=8ae9d6&_nc_ohc=eVZzXIa5JVEAX90jGEG&_nc_oc=AQmUTkps3a76HSbKxPPVFXidZNHqGsNdaDPJx5WNgIo7p39aUGU3JtQRfijwgy-YF4Y21orVoLd5r2gQonhqiukg&_nc_ht=scontent.cdninstagram.com&edm=AM6HXa8EAAAA&oh=00_AfBlePGo01yTqlc3KbOpJUHesE-7Wm7TFQ2VWW3OcbkdWg&oe=64048B5E",
          "x": 0,
          "xanchor": "center",
          "xref": "x2",
          "y": 0,
          "yanchor": "middle",
          "yref": "y2"
         },
         {
          "opacity": 1,
          "sizex": 1,
          "sizey": 1,
          "source": "https://scontent.cdninstagram.com/v/t51.29350-15/306699120_2607222459409182_3870147304077924144_n.jpg?_nc_cat=110&ccb=1-7&_nc_sid=8ae9d6&_nc_ohc=WiDK8_wVqygAX9llkCr&_nc_ht=scontent.cdninstagram.com&edm=AM6HXa8EAAAA&oh=00_AfAM9AqLR5IzpadzhShEEYmnF1nJ00I5y-fZTN0zj4Hr2g&oe=64042352",
          "x": 0,
          "xanchor": "center",
          "xref": "x3",
          "y": 0,
          "yanchor": "middle",
          "yref": "y3"
         },
         {
          "opacity": 1,
          "sizex": 1,
          "sizey": 1,
          "source": "https://scontent.cdninstagram.com/v/t51.29350-15/306893611_502611288344056_5290393120767445626_n.jpg?_nc_cat=102&ccb=1-7&_nc_sid=8ae9d6&_nc_ohc=60mp5xWtFPkAX9p-JIT&_nc_ht=scontent.cdninstagram.com&edm=AM6HXa8EAAAA&oh=00_AfCto6vlbG9QP8s_3mKRHXu1URHw2vJTFrh-eCxcCYSPwA&oe=6404DEB7",
          "x": 0,
          "xanchor": "center",
          "xref": "x4",
          "y": 0,
          "yanchor": "middle",
          "yref": "y4"
         },
         {
          "opacity": 1,
          "sizex": 1,
          "sizey": 1,
          "source": "https://scontent.cdninstagram.com/v/t51.29350-15/308991222_551633813402448_6209645170898494144_n.jpg?_nc_cat=103&ccb=1-7&_nc_sid=8ae9d6&_nc_ohc=j6IhmgmoqjgAX8m2Yzk&_nc_ht=scontent.cdninstagram.com&edm=AM6HXa8EAAAA&oh=00_AfBf2kscLfDyNjf3oP-pJB1noD2FI3BGnWKwWnPp0XQuoQ&oe=6405D21D",
          "x": 0,
          "xanchor": "center",
          "xref": "x5",
          "y": 0,
          "yanchor": "middle",
          "yref": "y5"
         }
        ],
        "margin": {
         "b": 120,
         "l": 50,
         "r": 50
        },
        "plot_bgcolor": "white",
        "template": {
         "data": {
          "bar": [
           {
            "error_x": {
             "color": "#2a3f5f"
            },
            "error_y": {
             "color": "#2a3f5f"
            },
            "marker": {
             "line": {
              "color": "#E5ECF6",
              "width": 0.5
             },
             "pattern": {
              "fillmode": "overlay",
              "size": 10,
              "solidity": 0.2
             }
            },
            "type": "bar"
           }
          ],
          "barpolar": [
           {
            "marker": {
             "line": {
              "color": "#E5ECF6",
              "width": 0.5
             },
             "pattern": {
              "fillmode": "overlay",
              "size": 10,
              "solidity": 0.2
             }
            },
            "type": "barpolar"
           }
          ],
          "carpet": [
           {
            "aaxis": {
             "endlinecolor": "#2a3f5f",
             "gridcolor": "white",
             "linecolor": "white",
             "minorgridcolor": "white",
             "startlinecolor": "#2a3f5f"
            },
            "baxis": {
             "endlinecolor": "#2a3f5f",
             "gridcolor": "white",
             "linecolor": "white",
             "minorgridcolor": "white",
             "startlinecolor": "#2a3f5f"
            },
            "type": "carpet"
           }
          ],
          "choropleth": [
           {
            "colorbar": {
             "outlinewidth": 0,
             "ticks": ""
            },
            "type": "choropleth"
           }
          ],
          "contour": [
           {
            "colorbar": {
             "outlinewidth": 0,
             "ticks": ""
            },
            "colorscale": [
             [
              0,
              "#0d0887"
             ],
             [
              0.1111111111111111,
              "#46039f"
             ],
             [
              0.2222222222222222,
              "#7201a8"
             ],
             [
              0.3333333333333333,
              "#9c179e"
             ],
             [
              0.4444444444444444,
              "#bd3786"
             ],
             [
              0.5555555555555556,
              "#d8576b"
             ],
             [
              0.6666666666666666,
              "#ed7953"
             ],
             [
              0.7777777777777778,
              "#fb9f3a"
             ],
             [
              0.8888888888888888,
              "#fdca26"
             ],
             [
              1,
              "#f0f921"
             ]
            ],
            "type": "contour"
           }
          ],
          "contourcarpet": [
           {
            "colorbar": {
             "outlinewidth": 0,
             "ticks": ""
            },
            "type": "contourcarpet"
           }
          ],
          "heatmap": [
           {
            "colorbar": {
             "outlinewidth": 0,
             "ticks": ""
            },
            "colorscale": [
             [
              0,
              "#0d0887"
             ],
             [
              0.1111111111111111,
              "#46039f"
             ],
             [
              0.2222222222222222,
              "#7201a8"
             ],
             [
              0.3333333333333333,
              "#9c179e"
             ],
             [
              0.4444444444444444,
              "#bd3786"
             ],
             [
              0.5555555555555556,
              "#d8576b"
             ],
             [
              0.6666666666666666,
              "#ed7953"
             ],
             [
              0.7777777777777778,
              "#fb9f3a"
             ],
             [
              0.8888888888888888,
              "#fdca26"
             ],
             [
              1,
              "#f0f921"
             ]
            ],
            "type": "heatmap"
           }
          ],
          "heatmapgl": [
           {
            "colorbar": {
             "outlinewidth": 0,
             "ticks": ""
            },
            "colorscale": [
             [
              0,
              "#0d0887"
             ],
             [
              0.1111111111111111,
              "#46039f"
             ],
             [
              0.2222222222222222,
              "#7201a8"
             ],
             [
              0.3333333333333333,
              "#9c179e"
             ],
             [
              0.4444444444444444,
              "#bd3786"
             ],
             [
              0.5555555555555556,
              "#d8576b"
             ],
             [
              0.6666666666666666,
              "#ed7953"
             ],
             [
              0.7777777777777778,
              "#fb9f3a"
             ],
             [
              0.8888888888888888,
              "#fdca26"
             ],
             [
              1,
              "#f0f921"
             ]
            ],
            "type": "heatmapgl"
           }
          ],
          "histogram": [
           {
            "marker": {
             "pattern": {
              "fillmode": "overlay",
              "size": 10,
              "solidity": 0.2
             }
            },
            "type": "histogram"
           }
          ],
          "histogram2d": [
           {
            "colorbar": {
             "outlinewidth": 0,
             "ticks": ""
            },
            "colorscale": [
             [
              0,
              "#0d0887"
             ],
             [
              0.1111111111111111,
              "#46039f"
             ],
             [
              0.2222222222222222,
              "#7201a8"
             ],
             [
              0.3333333333333333,
              "#9c179e"
             ],
             [
              0.4444444444444444,
              "#bd3786"
             ],
             [
              0.5555555555555556,
              "#d8576b"
             ],
             [
              0.6666666666666666,
              "#ed7953"
             ],
             [
              0.7777777777777778,
              "#fb9f3a"
             ],
             [
              0.8888888888888888,
              "#fdca26"
             ],
             [
              1,
              "#f0f921"
             ]
            ],
            "type": "histogram2d"
           }
          ],
          "histogram2dcontour": [
           {
            "colorbar": {
             "outlinewidth": 0,
             "ticks": ""
            },
            "colorscale": [
             [
              0,
              "#0d0887"
             ],
             [
              0.1111111111111111,
              "#46039f"
             ],
             [
              0.2222222222222222,
              "#7201a8"
             ],
             [
              0.3333333333333333,
              "#9c179e"
             ],
             [
              0.4444444444444444,
              "#bd3786"
             ],
             [
              0.5555555555555556,
              "#d8576b"
             ],
             [
              0.6666666666666666,
              "#ed7953"
             ],
             [
              0.7777777777777778,
              "#fb9f3a"
             ],
             [
              0.8888888888888888,
              "#fdca26"
             ],
             [
              1,
              "#f0f921"
             ]
            ],
            "type": "histogram2dcontour"
           }
          ],
          "mesh3d": [
           {
            "colorbar": {
             "outlinewidth": 0,
             "ticks": ""
            },
            "type": "mesh3d"
           }
          ],
          "parcoords": [
           {
            "line": {
             "colorbar": {
              "outlinewidth": 0,
              "ticks": ""
             }
            },
            "type": "parcoords"
           }
          ],
          "pie": [
           {
            "automargin": true,
            "type": "pie"
           }
          ],
          "scatter": [
           {
            "fillpattern": {
             "fillmode": "overlay",
             "size": 10,
             "solidity": 0.2
            },
            "type": "scatter"
           }
          ],
          "scatter3d": [
           {
            "line": {
             "colorbar": {
              "outlinewidth": 0,
              "ticks": ""
             }
            },
            "marker": {
             "colorbar": {
              "outlinewidth": 0,
              "ticks": ""
             }
            },
            "type": "scatter3d"
           }
          ],
          "scattercarpet": [
           {
            "marker": {
             "colorbar": {
              "outlinewidth": 0,
              "ticks": ""
             }
            },
            "type": "scattercarpet"
           }
          ],
          "scattergeo": [
           {
            "marker": {
             "colorbar": {
              "outlinewidth": 0,
              "ticks": ""
             }
            },
            "type": "scattergeo"
           }
          ],
          "scattergl": [
           {
            "marker": {
             "colorbar": {
              "outlinewidth": 0,
              "ticks": ""
             }
            },
            "type": "scattergl"
           }
          ],
          "scattermapbox": [
           {
            "marker": {
             "colorbar": {
              "outlinewidth": 0,
              "ticks": ""
             }
            },
            "type": "scattermapbox"
           }
          ],
          "scatterpolar": [
           {
            "marker": {
             "colorbar": {
              "outlinewidth": 0,
              "ticks": ""
             }
            },
            "type": "scatterpolar"
           }
          ],
          "scatterpolargl": [
           {
            "marker": {
             "colorbar": {
              "outlinewidth": 0,
              "ticks": ""
             }
            },
            "type": "scatterpolargl"
           }
          ],
          "scatterternary": [
           {
            "marker": {
             "colorbar": {
              "outlinewidth": 0,
              "ticks": ""
             }
            },
            "type": "scatterternary"
           }
          ],
          "surface": [
           {
            "colorbar": {
             "outlinewidth": 0,
             "ticks": ""
            },
            "colorscale": [
             [
              0,
              "#0d0887"
             ],
             [
              0.1111111111111111,
              "#46039f"
             ],
             [
              0.2222222222222222,
              "#7201a8"
             ],
             [
              0.3333333333333333,
              "#9c179e"
             ],
             [
              0.4444444444444444,
              "#bd3786"
             ],
             [
              0.5555555555555556,
              "#d8576b"
             ],
             [
              0.6666666666666666,
              "#ed7953"
             ],
             [
              0.7777777777777778,
              "#fb9f3a"
             ],
             [
              0.8888888888888888,
              "#fdca26"
             ],
             [
              1,
              "#f0f921"
             ]
            ],
            "type": "surface"
           }
          ],
          "table": [
           {
            "cells": {
             "fill": {
              "color": "#EBF0F8"
             },
             "line": {
              "color": "white"
             }
            },
            "header": {
             "fill": {
              "color": "#C8D4E3"
             },
             "line": {
              "color": "white"
             }
            },
            "type": "table"
           }
          ]
         },
         "layout": {
          "annotationdefaults": {
           "arrowcolor": "#2a3f5f",
           "arrowhead": 0,
           "arrowwidth": 1
          },
          "autotypenumbers": "strict",
          "coloraxis": {
           "colorbar": {
            "outlinewidth": 0,
            "ticks": ""
           }
          },
          "colorscale": {
           "diverging": [
            [
             0,
             "#8e0152"
            ],
            [
             0.1,
             "#c51b7d"
            ],
            [
             0.2,
             "#de77ae"
            ],
            [
             0.3,
             "#f1b6da"
            ],
            [
             0.4,
             "#fde0ef"
            ],
            [
             0.5,
             "#f7f7f7"
            ],
            [
             0.6,
             "#e6f5d0"
            ],
            [
             0.7,
             "#b8e186"
            ],
            [
             0.8,
             "#7fbc41"
            ],
            [
             0.9,
             "#4d9221"
            ],
            [
             1,
             "#276419"
            ]
           ],
           "sequential": [
            [
             0,
             "#0d0887"
            ],
            [
             0.1111111111111111,
             "#46039f"
            ],
            [
             0.2222222222222222,
             "#7201a8"
            ],
            [
             0.3333333333333333,
             "#9c179e"
            ],
            [
             0.4444444444444444,
             "#bd3786"
            ],
            [
             0.5555555555555556,
             "#d8576b"
            ],
            [
             0.6666666666666666,
             "#ed7953"
            ],
            [
             0.7777777777777778,
             "#fb9f3a"
            ],
            [
             0.8888888888888888,
             "#fdca26"
            ],
            [
             1,
             "#f0f921"
            ]
           ],
           "sequentialminus": [
            [
             0,
             "#0d0887"
            ],
            [
             0.1111111111111111,
             "#46039f"
            ],
            [
             0.2222222222222222,
             "#7201a8"
            ],
            [
             0.3333333333333333,
             "#9c179e"
            ],
            [
             0.4444444444444444,
             "#bd3786"
            ],
            [
             0.5555555555555556,
             "#d8576b"
            ],
            [
             0.6666666666666666,
             "#ed7953"
            ],
            [
             0.7777777777777778,
             "#fb9f3a"
            ],
            [
             0.8888888888888888,
             "#fdca26"
            ],
            [
             1,
             "#f0f921"
            ]
           ]
          },
          "colorway": [
           "#636efa",
           "#EF553B",
           "#00cc96",
           "#ab63fa",
           "#FFA15A",
           "#19d3f3",
           "#FF6692",
           "#B6E880",
           "#FF97FF",
           "#FECB52"
          ],
          "font": {
           "color": "#2a3f5f"
          },
          "geo": {
           "bgcolor": "white",
           "lakecolor": "white",
           "landcolor": "#E5ECF6",
           "showlakes": true,
           "showland": true,
           "subunitcolor": "white"
          },
          "hoverlabel": {
           "align": "left"
          },
          "hovermode": "closest",
          "mapbox": {
           "style": "light"
          },
          "paper_bgcolor": "white",
          "plot_bgcolor": "#E5ECF6",
          "polar": {
           "angularaxis": {
            "gridcolor": "white",
            "linecolor": "white",
            "ticks": ""
           },
           "bgcolor": "#E5ECF6",
           "radialaxis": {
            "gridcolor": "white",
            "linecolor": "white",
            "ticks": ""
           }
          },
          "scene": {
           "xaxis": {
            "backgroundcolor": "#E5ECF6",
            "gridcolor": "white",
            "gridwidth": 2,
            "linecolor": "white",
            "showbackground": true,
            "ticks": "",
            "zerolinecolor": "white"
           },
           "yaxis": {
            "backgroundcolor": "#E5ECF6",
            "gridcolor": "white",
            "gridwidth": 2,
            "linecolor": "white",
            "showbackground": true,
            "ticks": "",
            "zerolinecolor": "white"
           },
           "zaxis": {
            "backgroundcolor": "#E5ECF6",
            "gridcolor": "white",
            "gridwidth": 2,
            "linecolor": "white",
            "showbackground": true,
            "ticks": "",
            "zerolinecolor": "white"
           }
          },
          "shapedefaults": {
           "line": {
            "color": "#2a3f5f"
           }
          },
          "ternary": {
           "aaxis": {
            "gridcolor": "white",
            "linecolor": "white",
            "ticks": ""
           },
           "baxis": {
            "gridcolor": "white",
            "linecolor": "white",
            "ticks": ""
           },
           "bgcolor": "#E5ECF6",
           "caxis": {
            "gridcolor": "white",
            "linecolor": "white",
            "ticks": ""
           }
          },
          "title": {
           "x": 0.05
          },
          "xaxis": {
           "automargin": true,
           "gridcolor": "white",
           "linecolor": "white",
           "ticks": "",
           "title": {
            "standoff": 15
           },
           "zerolinecolor": "white",
           "zerolinewidth": 2
          },
          "yaxis": {
           "automargin": true,
           "gridcolor": "white",
           "linecolor": "white",
           "ticks": "",
           "title": {
            "standoff": 15
           },
           "zerolinecolor": "white",
           "zerolinewidth": 2
          }
         }
        },
        "title": {
         "text": "Posts with fewest number of likes",
         "x": 0.5,
         "xanchor": "center"
        },
        "xaxis": {
         "anchor": "y",
         "domain": [
          0,
          0.16799999999999998
         ],
         "range": [
          -0.5,
          0.5
         ],
         "showticklabels": false
        },
        "xaxis2": {
         "anchor": "y2",
         "domain": [
          0.208,
          0.376
         ],
         "range": [
          -0.5,
          0.5
         ],
         "showticklabels": false
        },
        "xaxis3": {
         "anchor": "y3",
         "domain": [
          0.416,
          0.584
         ],
         "range": [
          -0.5,
          0.5
         ],
         "showticklabels": false
        },
        "xaxis4": {
         "anchor": "y4",
         "domain": [
          0.624,
          0.792
         ],
         "range": [
          -0.5,
          0.5
         ],
         "showticklabels": false
        },
        "xaxis5": {
         "anchor": "y5",
         "domain": [
          0.832,
          1
         ],
         "range": [
          -0.5,
          0.5
         ],
         "showticklabels": false
        },
        "yaxis": {
         "anchor": "x",
         "domain": [
          0,
          1
         ],
         "range": [
          -0.5,
          0.5
         ],
         "showticklabels": false
        },
        "yaxis2": {
         "anchor": "x2",
         "domain": [
          0,
          1
         ],
         "range": [
          -0.5,
          0.5
         ],
         "showticklabels": false
        },
        "yaxis3": {
         "anchor": "x3",
         "domain": [
          0,
          1
         ],
         "range": [
          -0.5,
          0.5
         ],
         "showticklabels": false
        },
        "yaxis4": {
         "anchor": "x4",
         "domain": [
          0,
          1
         ],
         "range": [
          -0.5,
          0.5
         ],
         "showticklabels": false
        },
        "yaxis5": {
         "anchor": "x5",
         "domain": [
          0,
          1
         ],
         "range": [
          -0.5,
          0.5
         ],
         "showticklabels": false
        }
       }
      }
     },
     "metadata": {},
     "output_type": "display_data"
    }
   ],
   "source": [
    "bottom_posts, fig_bottom = plot_images_tfidf(data_processed, count_vector, top=False)"
   ]
  },
  {
   "cell_type": "code",
   "execution_count": 136,
   "metadata": {},
   "outputs": [
    {
     "data": {
      "text/plain": [
       "'https://video.cdninstagram.com/o1/v/t16/f1/m82/43474E1AD9BC19BAEE84FA4BA76079AA_video_dashinit.mp4?efg=eyJ2ZW5jb2RlX3RhZyI6InZ0c192b2RfdXJsZ2VuLjcyMC5jbGlwcyJ9&_nc_ht=video.cdninstagram.com&_nc_cat=103&vs=1557881478059002_3784848049&_nc_vs=HBksFQIYT2lnX3hwdl9yZWVsc19wZXJtYW5lbnRfcHJvZC80MzQ3NEUxQUQ5QkMxOUJBRUU4NEZBNEJBNzYwNzlBQV92aWRlb19kYXNoaW5pdC5tcDQVAALIAQAVABgkR0Yzc3BCTk1QNGVXNGhvREFIa3hFOGZyR1d0M2JxX0VBQUFGFQICyAEAKAAYABsBiAd1c2Vfb2lsATEVAAAm2u327Kr33j8VAigCQzMsF0BWfrhR64UfGBJkYXNoX2Jhc2VsaW5lXzFfdjERAHUAAA%3D%3D&ccb=9-4&oh=00_AfCpyRXEV-WYNr1NXsRuOcHS84s80pu2bIjEshizKq69wg&oe=6401E09C&_nc_sid=ea0b6e&_nc_rid=40b9bdac3e'"
      ]
     },
     "execution_count": 136,
     "metadata": {},
     "output_type": "execute_result"
    }
   ],
   "source": [
    "bottom_posts.loc[0, 'media_url']"
   ]
  },
  {
   "cell_type": "code",
   "execution_count": 140,
   "metadata": {},
   "outputs": [
    {
     "data": {
      "text/plain": [
       "0    ✅ lack energy complete day day task  ✅ affect ...\n",
       "1    expire tonight  invitation woman sick fad diet...\n",
       "2    september strong sassy programme go better edu...\n",
       "3    nicole change mindset become confident <Number...\n",
       "4    expire tonight  invitation woman sick fad diet...\n",
       "Name: post_caption, dtype: object"
      ]
     },
     "execution_count": 140,
     "metadata": {},
     "output_type": "execute_result"
    }
   ],
   "source": [
    "bottom_posts['post_caption']"
   ]
  },
  {
   "cell_type": "code",
   "execution_count": null,
   "metadata": {},
   "outputs": [],
   "source": []
  },
  {
   "cell_type": "code",
   "execution_count": null,
   "metadata": {},
   "outputs": [],
   "source": []
  },
  {
   "cell_type": "code",
   "execution_count": null,
   "metadata": {},
   "outputs": [],
   "source": []
  },
  {
   "cell_type": "code",
   "execution_count": null,
   "metadata": {},
   "outputs": [],
   "source": []
  },
  {
   "cell_type": "code",
   "execution_count": null,
   "metadata": {},
   "outputs": [],
   "source": []
  },
  {
   "cell_type": "code",
   "execution_count": null,
   "metadata": {},
   "outputs": [],
   "source": []
  },
  {
   "cell_type": "code",
   "execution_count": null,
   "metadata": {},
   "outputs": [],
   "source": []
  },
  {
   "cell_type": "code",
   "execution_count": null,
   "metadata": {},
   "outputs": [],
   "source": []
  },
  {
   "cell_type": "code",
   "execution_count": null,
   "metadata": {},
   "outputs": [],
   "source": []
  },
  {
   "cell_type": "code",
   "execution_count": null,
   "metadata": {},
   "outputs": [],
   "source": []
  },
  {
   "cell_type": "code",
   "execution_count": null,
   "metadata": {},
   "outputs": [],
   "source": []
  },
  {
   "cell_type": "markdown",
   "metadata": {},
   "source": [
    "# *End of Page*"
   ]
  }
 ],
 "metadata": {
  "kernelspec": {
   "display_name": "Python 3.9.13 64-bit",
   "language": "python",
   "name": "python3"
  },
  "language_info": {
   "codemirror_mode": {
    "name": "ipython",
    "version": 3
   },
   "file_extension": ".py",
   "mimetype": "text/x-python",
   "name": "python",
   "nbconvert_exporter": "python",
   "pygments_lexer": "ipython3",
   "version": "3.9.13"
  },
  "orig_nbformat": 4,
  "vscode": {
   "interpreter": {
    "hash": "11938c6bc6919ae2720b4d5011047913343b08a43b18698fd82dedb0d4417594"
   }
  }
 },
 "nbformat": 4,
 "nbformat_minor": 2
}
