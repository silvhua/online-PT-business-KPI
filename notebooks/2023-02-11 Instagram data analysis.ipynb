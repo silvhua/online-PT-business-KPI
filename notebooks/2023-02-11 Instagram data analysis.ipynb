{
 "cells": [
  {
   "cell_type": "markdown",
   "metadata": {},
   "source": [
    "# Title\n",
    "[]()"
   ]
  },
  {
   "cell_type": "code",
   "execution_count": 22,
   "metadata": {},
   "outputs": [],
   "source": [
    "import requests\n",
    "import json\n",
    "from pandas import json_normalize  \n",
    "import pandas as pd\n",
    "import sys\n",
    "sys.path.append(r\"C:\\Users\\silvh\\OneDrive\\lighthouse\\custom_python\")\n",
    "sys.path.append(r\"C:\\Users\\silvh\\OneDrive\\lighthouse\\portfolio-projects\\online-PT-social-media-NLP\\src\")\n",
    "from silvhua import *\n",
    "from custom_nlp import *\n",
    "import pickle\n",
    "import os\n"
   ]
  },
  {
   "cell_type": "code",
   "execution_count": 19,
   "metadata": {},
   "outputs": [],
   "source": [
    "from FB_scripts import *"
   ]
  },
  {
   "cell_type": "code",
   "execution_count": 20,
   "metadata": {},
   "outputs": [],
   "source": [
    "with open(\"credentials.json\") as f:\n",
    "    credentials = json.load(f)"
   ]
  },
  {
   "attachments": {},
   "cell_type": "markdown",
   "metadata": {},
   "source": [
    "# Pull my IG posts from 2022\n",
    "Repeat this because in the previous (2023-02-08) notebook, it kept pulling the last page until the number of pages was met, even though the last page of results was reached in fewer pages"
   ]
  },
  {
   "cell_type": "code",
   "execution_count": 21,
   "metadata": {},
   "outputs": [
    {
     "name": "stdout",
     "output_type": "stream",
     "text": [
      "https://graph.facebook.com/v15.0/17841403231458630/media?fields=timestamp%2Ccaption%2Clike_count%2Ccomments_count%2Cmedia_type%2Cmedia_product_type%2Cmedia_url%2Cpermalink%2Cid%2Cthumbnail_url%2Ccomments%7Btimestamp%2Ctext%2Cusername%2Clike_count%2Creplies%7Btimestamp%2Ctext%2Cusername%2Clike_count%7D%7D&since=1641024000.0&until=1672473600.0\n",
      "Requesting page 1...\n",
      "\tResponse status code:  200\n",
      "Requesting page 2...\n",
      "\tResponse status code:  200\n",
      "Number of posts: 41\n",
      "File saved:  C:/Users/silvh/OneDrive/lighthouse/portfolio-projects/online-PT-social-media-NLP/data/interim/my_ig_posts_2022_pulled_2023-02-11.csv\n",
      "Time completed: 2023-02-11 18:10:25.600068\n",
      "File saved:  C:/Users/silvh/OneDrive/lighthouse/portfolio-projects/online-PT-social-media-NLP/data/raw/my_ig_posts_2022_pulled_2023-02-11.sav\n",
      "Time completed: 2023-02-11 18:10:25.605068\n"
     ]
    }
   ],
   "source": [
    "df2022, response_json2022 = get_user_ig_post_text(credentials['ig_user_id'], credentials['access_token'],\n",
    "        pages=50, since='2022-01-01', until='2022-12-31', filename='my_ig_posts_2022_pulled_2023-02-11')"
   ]
  },
  {
   "cell_type": "code",
   "execution_count": 23,
   "metadata": {},
   "outputs": [
    {
     "data": {
      "text/plain": [
       "(41, 11)"
      ]
     },
     "execution_count": 23,
     "metadata": {},
     "output_type": "execute_result"
    }
   ],
   "source": [
    "df2022.shape"
   ]
  },
  {
   "cell_type": "markdown",
   "metadata": {},
   "source": [
    "# Process post data"
   ]
  },
  {
   "cell_type": "code",
   "execution_count": 6,
   "metadata": {},
   "outputs": [],
   "source": [
    "def process_df_timestamp(input_df, timestamp_colum='timestamp'):\n",
    "    \"\"\"\n",
    "    Convert dates in the json-derived dataframe from Facebook API read requests\n",
    "    into different formats.\n",
    "\n",
    "    Parameters: \n",
    "        - input_df : DataFrame with the timestamp of the data.\n",
    "        - timestamp_column (str): Name of the column with the timestamp.\n",
    "    \"\"\"\n",
    "    df = input_df.reset_index(drop=True)\n",
    "    regex_date = r'.+T'\n",
    "    df['timestamp'] = pd.to_datetime(df['timestamp'])\n",
    "    df['date'] = df['timestamp'].dt.date\n",
    "    df['year'] = df['timestamp'].dt.year\n",
    "    df['month'] = df['timestamp'].dt.month\n",
    "    df['week_of_year'] = df['timestamp'].dt.isocalendar().week\n",
    "\n",
    "    df['day_of_week'] = df['timestamp'].dt.dayofweek\n",
    "    df['time'] = df['timestamp'].dt.time\n",
    "    df['hour'] = df['timestamp'].dt.hour\n",
    "    return df"
   ]
  },
  {
   "cell_type": "code",
   "execution_count": 19,
   "metadata": {},
   "outputs": [
    {
     "data": {
      "text/html": [
       "<div>\n",
       "<style scoped>\n",
       "    .dataframe tbody tr th:only-of-type {\n",
       "        vertical-align: middle;\n",
       "    }\n",
       "\n",
       "    .dataframe tbody tr th {\n",
       "        vertical-align: top;\n",
       "    }\n",
       "\n",
       "    .dataframe thead th {\n",
       "        text-align: right;\n",
       "    }\n",
       "</style>\n",
       "<table border=\"1\" class=\"dataframe\">\n",
       "  <thead>\n",
       "    <tr style=\"text-align: right;\">\n",
       "      <th></th>\n",
       "      <th>timestamp</th>\n",
       "      <th>caption</th>\n",
       "      <th>like_count</th>\n",
       "      <th>comments_count</th>\n",
       "      <th>media_type</th>\n",
       "      <th>media_product_type</th>\n",
       "      <th>media_url</th>\n",
       "      <th>permalink</th>\n",
       "      <th>id</th>\n",
       "      <th>comments.data</th>\n",
       "      <th>thumbnail_url</th>\n",
       "      <th>date</th>\n",
       "      <th>year</th>\n",
       "      <th>month</th>\n",
       "      <th>week_of_year</th>\n",
       "      <th>day_of_week</th>\n",
       "      <th>time</th>\n",
       "      <th>hour</th>\n",
       "    </tr>\n",
       "  </thead>\n",
       "  <tbody>\n",
       "    <tr>\n",
       "      <th>0</th>\n",
       "      <td>2023-01-30 20:26:58+00:00</td>\n",
       "      <td>I did a lot of quantitative analyses throughou...</td>\n",
       "      <td>7</td>\n",
       "      <td>2</td>\n",
       "      <td>IMAGE</td>\n",
       "      <td>FEED</td>\n",
       "      <td>https://scontent.cdninstagram.com/v/t51.29350-...</td>\n",
       "      <td>https://www.instagram.com/p/CoDXzgaS2-g/</td>\n",
       "      <td>17964472544229149</td>\n",
       "      <td>[{'timestamp': '2023-01-31T05:29:14+0000', 'te...</td>\n",
       "      <td>NaN</td>\n",
       "      <td>2023-01-30</td>\n",
       "      <td>2023</td>\n",
       "      <td>1</td>\n",
       "      <td>5</td>\n",
       "      <td>0</td>\n",
       "      <td>20:26:58</td>\n",
       "      <td>20</td>\n",
       "    </tr>\n",
       "    <tr>\n",
       "      <th>1</th>\n",
       "      <td>2023-01-20 19:38:19+00:00</td>\n",
       "      <td>If you've been to a Lululemon store recently, ...</td>\n",
       "      <td>1</td>\n",
       "      <td>0</td>\n",
       "      <td>IMAGE</td>\n",
       "      <td>FEED</td>\n",
       "      <td>https://scontent.cdninstagram.com/v/t51.29350-...</td>\n",
       "      <td>https://www.instagram.com/p/CnpiSZEP982/</td>\n",
       "      <td>18324686224070369</td>\n",
       "      <td>NaN</td>\n",
       "      <td>NaN</td>\n",
       "      <td>2023-01-20</td>\n",
       "      <td>2023</td>\n",
       "      <td>1</td>\n",
       "      <td>3</td>\n",
       "      <td>4</td>\n",
       "      <td>19:38:19</td>\n",
       "      <td>19</td>\n",
       "    </tr>\n",
       "    <tr>\n",
       "      <th>2</th>\n",
       "      <td>2023-01-18 18:32:47+00:00</td>\n",
       "      <td>What’s your favourite fitness tech, app, or se...</td>\n",
       "      <td>0</td>\n",
       "      <td>0</td>\n",
       "      <td>IMAGE</td>\n",
       "      <td>FEED</td>\n",
       "      <td>https://scontent.cdninstagram.com/v/t51.29350-...</td>\n",
       "      <td>https://www.instagram.com/p/CnkRMwXPDRX/</td>\n",
       "      <td>18269437663142607</td>\n",
       "      <td>NaN</td>\n",
       "      <td>NaN</td>\n",
       "      <td>2023-01-18</td>\n",
       "      <td>2023</td>\n",
       "      <td>1</td>\n",
       "      <td>3</td>\n",
       "      <td>2</td>\n",
       "      <td>18:32:47</td>\n",
       "      <td>18</td>\n",
       "    </tr>\n",
       "  </tbody>\n",
       "</table>\n",
       "</div>"
      ],
      "text/plain": [
       "                  timestamp  \\\n",
       "0 2023-01-30 20:26:58+00:00   \n",
       "1 2023-01-20 19:38:19+00:00   \n",
       "2 2023-01-18 18:32:47+00:00   \n",
       "\n",
       "                                             caption  like_count  \\\n",
       "0  I did a lot of quantitative analyses throughou...           7   \n",
       "1  If you've been to a Lululemon store recently, ...           1   \n",
       "2  What’s your favourite fitness tech, app, or se...           0   \n",
       "\n",
       "   comments_count media_type media_product_type  \\\n",
       "0               2      IMAGE               FEED   \n",
       "1               0      IMAGE               FEED   \n",
       "2               0      IMAGE               FEED   \n",
       "\n",
       "                                           media_url  \\\n",
       "0  https://scontent.cdninstagram.com/v/t51.29350-...   \n",
       "1  https://scontent.cdninstagram.com/v/t51.29350-...   \n",
       "2  https://scontent.cdninstagram.com/v/t51.29350-...   \n",
       "\n",
       "                                  permalink                 id  \\\n",
       "0  https://www.instagram.com/p/CoDXzgaS2-g/  17964472544229149   \n",
       "1  https://www.instagram.com/p/CnpiSZEP982/  18324686224070369   \n",
       "2  https://www.instagram.com/p/CnkRMwXPDRX/  18269437663142607   \n",
       "\n",
       "                                       comments.data thumbnail_url  \\\n",
       "0  [{'timestamp': '2023-01-31T05:29:14+0000', 'te...           NaN   \n",
       "1                                                NaN           NaN   \n",
       "2                                                NaN           NaN   \n",
       "\n",
       "         date  year  month  week_of_year  day_of_week      time  hour  \n",
       "0  2023-01-30  2023      1             5            0  20:26:58    20  \n",
       "1  2023-01-20  2023      1             3            4  19:38:19    19  \n",
       "2  2023-01-18  2023      1             3            2  18:32:47    18  "
      ]
     },
     "execution_count": 19,
     "metadata": {},
     "output_type": "execute_result"
    }
   ],
   "source": [
    "process_df_timestamp(df_test).head(3)"
   ]
  },
  {
   "cell_type": "code",
   "execution_count": 15,
   "metadata": {},
   "outputs": [
    {
     "name": "stdout",
     "output_type": "stream",
     "text": [
      "['be', 'be', 'be', 'squat', 'squat', 'squat', 'apple', 'apples']\n",
      "['am', 'is', 'wa', 'squat', 'squatting', 'squat', 'apple', 'apple']\n"
     ]
    }
   ],
   "source": [
    "from nltk.stem import WordNetLemmatizer\n",
    "wnl = WordNetLemmatizer()\n",
    "doc = 'am is was squat squatting squats apple apples'\n",
    "print([wnl.lemmatize(word, pos='v') for word in doc.split()])\n",
    "print([wnl.lemmatize(word, pos='n') for word in doc.split()])\n",
    "# doc.split()"
   ]
  },
  {
   "cell_type": "code",
   "execution_count": 22,
   "metadata": {},
   "outputs": [
    {
     "data": {
      "text/plain": [
       "['be', 'be', 'be', 'squat', 'squat', 'squat', 'apple', 'apple']"
      ]
     },
     "execution_count": 22,
     "metadata": {},
     "output_type": "execute_result"
    }
   ],
   "source": [
    "doc2 = [wnl.lemmatize(word, pos='v') for word in doc.split()]\n",
    "# ''.join([word+' ' for word in doc2])\n",
    "[wnl.lemmatize(word, pos='n') for word in doc2]"
   ]
  },
  {
   "cell_type": "code",
   "execution_count": 23,
   "metadata": {},
   "outputs": [
    {
     "data": {
      "text/plain": [
       "['be', 'be', 'wa', 'squat', 'squat', 'squat', 'apple', 'apple']"
      ]
     },
     "execution_count": 23,
     "metadata": {},
     "output_type": "execute_result"
    }
   ],
   "source": [
    "doc3 = [wnl.lemmatize(word, pos='n') for word in doc.split()]\n",
    "# ''.join([word+' ' for word in doc2])\n",
    "[wnl.lemmatize(word, pos='v') for word in doc3]"
   ]
  },
  {
   "cell_type": "code",
   "execution_count": 27,
   "metadata": {},
   "outputs": [
    {
     "name": "stdout",
     "output_type": "stream",
     "text": [
      "['be', 'be', 'be', 'squat', 'squat', 'squat', 'apple', 'apples', 'shoulder', 'shoulder', 'posture', 'run']\n"
     ]
    },
    {
     "data": {
      "text/plain": [
       "['be',\n",
       " 'be',\n",
       " 'be',\n",
       " 'squat',\n",
       " 'squat',\n",
       " 'squat',\n",
       " 'apple',\n",
       " 'apple',\n",
       " 'shoulder',\n",
       " 'shoulder',\n",
       " 'posture',\n",
       " 'run']"
      ]
     },
     "execution_count": 27,
     "metadata": {},
     "output_type": "execute_result"
    }
   ],
   "source": [
    "doc_b = 'am is was squat squatting squats apple apples shoulders shouldering posturing running'\n",
    "doc_b2 = [wnl.lemmatize(word, pos='v') for word in doc_b.split()]\n",
    "print(doc_b2)\n",
    "[wnl.lemmatize(word, pos='n') for word in doc_b2]"
   ]
  },
  {
   "cell_type": "code",
   "execution_count": 29,
   "metadata": {},
   "outputs": [
    {
     "data": {
      "text/plain": [
       "['glute', 'glut', 'gluteus', 'le']"
      ]
     },
     "execution_count": 29,
     "metadata": {},
     "output_type": "execute_result"
    }
   ],
   "source": [
    "from nltk.stem import WordNetLemmatizer\n",
    "wnl = WordNetLemmatizer()\n",
    "doc_c = 'glute glutes gluteus less'\n",
    "doc_c2 = [wnl.lemmatize(word, pos='v') for word in doc_c.split()]\n",
    "[wnl.lemmatize(word, pos='n') for word in doc_c2]"
   ]
  },
  {
   "cell_type": "code",
   "execution_count": 30,
   "metadata": {},
   "outputs": [
    {
     "data": {
      "text/plain": [
       "'le'"
      ]
     },
     "execution_count": 30,
     "metadata": {},
     "output_type": "execute_result"
    }
   ],
   "source": [
    "wnl.lemmatize('less', pos='n')"
   ]
  },
  {
   "cell_type": "code",
   "execution_count": 32,
   "metadata": {},
   "outputs": [
    {
     "data": {
      "text/plain": [
       "'glut'"
      ]
     },
     "execution_count": 32,
     "metadata": {},
     "output_type": "execute_result"
    }
   ],
   "source": [
    "wnl.lemmatize('glutes', pos='v')"
   ]
  },
  {
   "attachments": {},
   "cell_type": "markdown",
   "metadata": {},
   "source": [
    "## `preprocess_post_text` and `post_preprocessing`"
   ]
  },
  {
   "cell_type": "code",
   "execution_count": 35,
   "metadata": {},
   "outputs": [
    {
     "data": {
      "text/plain": [
       "['i',\n",
       " 'me',\n",
       " 'my',\n",
       " 'myself',\n",
       " 'we',\n",
       " 'our',\n",
       " 'ours',\n",
       " 'ourselves',\n",
       " 'you',\n",
       " \"you're\",\n",
       " \"you've\",\n",
       " \"you'll\",\n",
       " \"you'd\",\n",
       " 'your',\n",
       " 'yours',\n",
       " 'yourself',\n",
       " 'yourselves',\n",
       " 'he',\n",
       " 'him',\n",
       " 'his',\n",
       " 'himself',\n",
       " 'she',\n",
       " \"she's\",\n",
       " 'her',\n",
       " 'hers',\n",
       " 'herself',\n",
       " 'it',\n",
       " \"it's\",\n",
       " 'its',\n",
       " 'itself',\n",
       " 'they',\n",
       " 'them',\n",
       " 'their',\n",
       " 'theirs',\n",
       " 'themselves',\n",
       " 'what',\n",
       " 'which',\n",
       " 'who',\n",
       " 'whom',\n",
       " 'this',\n",
       " 'that',\n",
       " \"that'll\",\n",
       " 'these',\n",
       " 'those',\n",
       " 'am',\n",
       " 'is',\n",
       " 'are',\n",
       " 'was',\n",
       " 'were',\n",
       " 'be',\n",
       " 'been',\n",
       " 'being',\n",
       " 'have',\n",
       " 'has',\n",
       " 'had',\n",
       " 'having',\n",
       " 'do',\n",
       " 'does',\n",
       " 'did',\n",
       " 'doing',\n",
       " 'a',\n",
       " 'an',\n",
       " 'the',\n",
       " 'and',\n",
       " 'but',\n",
       " 'if',\n",
       " 'or',\n",
       " 'because',\n",
       " 'as',\n",
       " 'until',\n",
       " 'while',\n",
       " 'of',\n",
       " 'at',\n",
       " 'by',\n",
       " 'for',\n",
       " 'with',\n",
       " 'about',\n",
       " 'against',\n",
       " 'between',\n",
       " 'into',\n",
       " 'through',\n",
       " 'during',\n",
       " 'before',\n",
       " 'after',\n",
       " 'above',\n",
       " 'below',\n",
       " 'to',\n",
       " 'from',\n",
       " 'up',\n",
       " 'down',\n",
       " 'in',\n",
       " 'out',\n",
       " 'on',\n",
       " 'off',\n",
       " 'over',\n",
       " 'under',\n",
       " 'again',\n",
       " 'further',\n",
       " 'then',\n",
       " 'once',\n",
       " 'here',\n",
       " 'there',\n",
       " 'when',\n",
       " 'where',\n",
       " 'why',\n",
       " 'how',\n",
       " 'all',\n",
       " 'any',\n",
       " 'both',\n",
       " 'each',\n",
       " 'few',\n",
       " 'more',\n",
       " 'most',\n",
       " 'other',\n",
       " 'some',\n",
       " 'such',\n",
       " 'no',\n",
       " 'nor',\n",
       " 'not',\n",
       " 'only',\n",
       " 'own',\n",
       " 'same',\n",
       " 'so',\n",
       " 'than',\n",
       " 'too',\n",
       " 'very',\n",
       " 's',\n",
       " 't',\n",
       " 'can',\n",
       " 'will',\n",
       " 'just',\n",
       " 'don',\n",
       " \"don't\",\n",
       " 'should',\n",
       " \"should've\",\n",
       " 'now',\n",
       " 'd',\n",
       " 'll',\n",
       " 'm',\n",
       " 'o',\n",
       " 're',\n",
       " 've',\n",
       " 'y',\n",
       " 'ain',\n",
       " 'aren',\n",
       " \"aren't\",\n",
       " 'couldn',\n",
       " \"couldn't\",\n",
       " 'didn',\n",
       " \"didn't\",\n",
       " 'doesn',\n",
       " \"doesn't\",\n",
       " 'hadn',\n",
       " \"hadn't\",\n",
       " 'hasn',\n",
       " \"hasn't\",\n",
       " 'haven',\n",
       " \"haven't\",\n",
       " 'isn',\n",
       " \"isn't\",\n",
       " 'ma',\n",
       " 'mightn',\n",
       " \"mightn't\",\n",
       " 'mustn',\n",
       " \"mustn't\",\n",
       " 'needn',\n",
       " \"needn't\",\n",
       " 'shan',\n",
       " \"shan't\",\n",
       " 'shouldn',\n",
       " \"shouldn't\",\n",
       " 'wasn',\n",
       " \"wasn't\",\n",
       " 'weren',\n",
       " \"weren't\",\n",
       " 'won',\n",
       " \"won't\",\n",
       " 'wouldn',\n",
       " \"wouldn't\"]"
      ]
     },
     "execution_count": 35,
     "metadata": {},
     "output_type": "execute_result"
    }
   ],
   "source": [
    "from nltk.corpus import stopwords\n",
    "stopwords.words('english')"
   ]
  },
  {
   "cell_type": "code",
   "execution_count": 94,
   "metadata": {},
   "outputs": [],
   "source": [
    "import re\n",
    "import numpy as np\n",
    "from nltk.tokenize import word_tokenize\n",
    "import string\n",
    "from nltk.stem import WordNetLemmatizer\n",
    "import unicodedata\n",
    "from nltk.corpus import stopwords\n",
    "def preprocess_post_text(doc):\n",
    "    \"\"\"\n",
    "    Prepare data from text documents for NLP:\n",
    "    - Convert to lowercase\n",
    "    - Remove formatting\n",
    "    - Remove all the special characters\n",
    "    - Remove all single characters\n",
    "    - Substitute multiple spaces with single space\n",
    "\n",
    "    Parameters:\n",
    "    doc (string): Document.\n",
    "\n",
    "    Returns: Processed doc.\n",
    "    \"\"\"\n",
    "    wnl = WordNetLemmatizer()\n",
    "    try:\n",
    "        # Remove apostrophes before tokenization to preserve contractions like \"should've\"\n",
    "        doc = re.sub(r\"(\\b\\w+)'(\\w+\\b)\", r'\\1\\2', doc)\n",
    "\n",
    "        # Split text into single words (also gets rid of extra white spaces)\n",
    "        words = word_tokenize(doc)\n",
    "\n",
    "        # Remove text formatting\n",
    "        words = [unicodedata.normalize('NFKD', word) for word in words]\n",
    "        \n",
    "        # Convert to lower case\n",
    "        words = [word.lower() for word in words]\n",
    "\n",
    "        # Remove stop words\n",
    "        stop_words = set(stopwords.words('english'))\n",
    "        words = [word for word in words if not word in stop_words]\n",
    "\n",
    "        # Lemmatize words (must be done after conversion to lower case)\n",
    "        words = [wnl.lemmatize(word, pos='v') for word in words]\n",
    "        words = [wnl.lemmatize(word, pos='n') for word in words]\n",
    "        \n",
    "        # join words back together as a string\n",
    "        words = ''.join([word+' ' for word in words])\n",
    "\n",
    "        # Join @ and # to the subsequent word to retain handles and hashtags\n",
    "        words = re.sub(r'@ \\w+', 'zzzHandle', words)\n",
    "        words = re.sub(r'# (\\w+)', r'zzzHashtag\\1', words)\n",
    "\n",
    "        # Remove any URLs \n",
    "        words = re.sub(r'\\w*\\.+\\w*', '', words) # Remove periods in middle of word\n",
    "        words = re.sub(r'\\w*/+\\w*', '', words) # remove forward slash in middle of word\n",
    "        words = re.sub(r'\\w*/+\\w*', '', words)\n",
    "\n",
    "        # Replace hypthens with spaces\n",
    "        words = re.sub(r'(\\w+)-(\\w+)*', r'\\1 \\2', words)\n",
    "        words = re.sub(r'(\\w+)-(\\w+)*', r'\\1 \\2', words)\n",
    "\n",
    "        # Remove numbers\n",
    "        words = re.sub(r'\\d:\\d\\d[\\-a-zA-Z]*','zzzTime', words) # Time of day\n",
    "        words = re.sub(r'\\b\\d+\\b', 'zzzNumber', words)\n",
    "        words = re.sub(r'\\b\\d+\\w+\\b', 'zzzNumber', words) #Number with letters\n",
    "\n",
    "        # remove special characters\n",
    "        non_hashtag_punctuation = ''.join([char for char in string.punctuation if char not in '#@'])\n",
    "        words = ''.join([char for char in words if char not in non_hashtag_punctuation])\n",
    "\n",
    "        return words\n",
    "    except: # In case value is nan\n",
    "        return 'zzzEmpty'\n",
    "\n",
    "from sklearn.feature_extraction.text import CountVectorizer\n",
    "from custom_nlp import *\n",
    "def post_preprocessing(input_df, text_column='caption', n_top_to_print=10,\n",
    "    filename=None,\n",
    "    path=r'C:\\Users\\silvh\\OneDrive\\lighthouse\\portfolio-projects\\online-PT-social-media-NLP\\data\\interim', **kwargs):\n",
    "    \"\"\"\n",
    "    Process Instagram post text contained in a dataframe:\n",
    "    - Preprocess the data by parsing the dates and preprocessing the post captions.\n",
    "    - Vectorize caption with CountVectorizer.\n",
    "    - Indicate hashtags.\n",
    "\n",
    "    Parameters:\n",
    "        - input_df: DataFrame with the raw data from the API request.\n",
    "        - text_column (str): Name of the column containing the Instagram caption.\n",
    "        - n_top_to_print (int): Number of top words to print. Default is 10.\n",
    "        - filename (str, optional): Name of filename for saving the outputs.\n",
    "        - path (raw string, optional): Windows directory filepath.\n",
    "    Optional parmeters: Parameters for CountVectorizer: \n",
    "        - token_pattern: Default = r\"(?u)\\b\\w\\w+\\b\"\n",
    "        - ngram_range: Default = (1,1)\n",
    "        - max_df, min_df: Default = 1.0, 1\n",
    "        - max_features: Default = None\n",
    "    Returns:\n",
    "        - df: DataFrame of the processed input data.\n",
    "        - vector_df: DataFrame of the vectors. Each row represents 1 post caption.\n",
    "        - vect: CountVectorizer object.\n",
    "    \"\"\"\n",
    "    df = process_df_timestamp(input_df)\n",
    "    df[text_column] = df[text_column].apply(lambda x: preprocess_post_text(x))\n",
    "\n",
    "    # kwargs\n",
    "    # stop_words = kwargs.get('stop_words', 'english') # SH 2023-02-11 19:17 remove\n",
    "    token_pattern = kwargs.get('token_pattern', r\"(?u)\\b\\w\\w+\\b\")\n",
    "    ngram_range = kwargs.get('ngram_range', (1,1))\n",
    "    max_df = kwargs.get('max_df', 1.0)\n",
    "    min_df = kwargs.get('min_df', 1)\n",
    "    max_features = kwargs.get('max_features', None)\n",
    "    \n",
    "    print('Token pattern:', token_pattern)\n",
    "\n",
    "    vect = CountVectorizer(\n",
    "            # stop_words=stop_words, # SH 2023-02-11 19:17 remove\n",
    "            token_pattern=token_pattern,\n",
    "            ngram_range=ngram_range,\n",
    "            max_df=max_df,\n",
    "            min_df=min_df,\n",
    "            max_features=max_features\n",
    "        )\n",
    "    vect.fit(df['caption'])\n",
    "    vector = vect.transform(df['caption'])\n",
    "    print('Shape of vector array: ', vector.shape)\n",
    "    vector_df = pd.DataFrame(vector.toarray(), columns=vect.get_feature_names_out())\n",
    "\n",
    "    # Replace zzz tags with brackets \n",
    "    vector_df.columns = vector_df.columns.str.replace(r'zzzhashtag(\\w+)', r'#\\1', regex=True)\n",
    "    vector_df.columns = vector_df.columns.str.replace(r'zzz(\\w+)', r'<\\1>', regex=True)\n",
    "    df['caption'] = df['caption'].apply(lambda x: re.sub(r'zzzHashtag(\\w+)', r'#\\1', x))\n",
    "    df['caption'] = df['caption'].apply(lambda x: re.sub(r'zzz(\\w+)', r'<\\1>', x))\n",
    "    print(f'\\nTop {n_top_to_print} words:')\n",
    "    print(vector_df.sum().sort_values(ascending=False).head(n_top_to_print))\n",
    "    print('Time processed:', datetime.now())\n",
    "    if filename:\n",
    "        try:\n",
    "            save_csv(df,filename+'_processed',path)\n",
    "            savepickle(vector_df, filename, path=path)\n",
    "            savepickle(vect, filename+'_CountVectorizer_object', path=path)\n",
    "        except:\n",
    "            print('Unable to save outputs')\n",
    "\n",
    "    return df, vector_df, vect"
   ]
  },
  {
   "cell_type": "markdown",
   "metadata": {},
   "source": [
    "# Analyze post insights"
   ]
  },
  {
   "cell_type": "code",
   "execution_count": 79,
   "metadata": {},
   "outputs": [
    {
     "name": "stdout",
     "output_type": "stream",
     "text": [
      "Dataframe shape:  (41, 11)\n",
      "Time completed: 2023-02-11 20:04:39.660326\n"
     ]
    }
   ],
   "source": [
    "path = r'C:\\Users\\silvh\\OneDrive\\lighthouse\\portfolio-projects\\online-PT-social-media-NLP\\data\\interim'\n",
    "df2022 = load_csv('my_ig_posts_2022_pulled_2023-02-11.csv', path, column1_as_index=True)"
   ]
  },
  {
   "cell_type": "code",
   "execution_count": 93,
   "metadata": {},
   "outputs": [
    {
     "data": {
      "text/plain": [
       "array([\"With power comes responsibility.\\n\\nIn the fitness space, people get excited about how AI can analyze movement, but what I am most excited about is how to use AI to help people adopt healthier lifestyles--we generally know it's important to exercise, but doing it is challenging.\\n\\nIf Netflix and YouTube can recommend content you'll find interesting, how can a health app recommend a health practice that you'll adopt to improve your health long term?\\n\\nThe recommendation will likely need to account for and adapt to your preferences, personality, knowledge/skills, and life stage. It also must be the right level of difficulty: If it's too challenging, you'll get discouraged and give up. If it's too easy, you might not get much benefit or lose motivation.\\n\\nWhat application of AI are you most excited about? \\n\\n@aiforgood_foundation\"],\n",
       "      dtype=object)"
      ]
     },
     "execution_count": 93,
     "metadata": {},
     "output_type": "execute_result"
    }
   ],
   "source": [
    "df2022.loc[1,'caption'].head(1).values"
   ]
  },
  {
   "cell_type": "code",
   "execution_count": 95,
   "metadata": {},
   "outputs": [
    {
     "name": "stdout",
     "output_type": "stream",
     "text": [
      "Token pattern: (?u)\\b\\w\\w+\\b\n",
      "Shape of vector array:  (41, 660)\n",
      "\n",
      "Top 10 words:\n",
      "<number>    30\n",
      "time        14\n",
      "good        11\n",
      "exercise    11\n",
      "train        9\n",
      "get          9\n",
      "work         9\n",
      "muscle       9\n",
      "people       9\n",
      "day          8\n",
      "dtype: int64\n",
      "Time processed: 2023-02-11 20:22:22.976832\n",
      "File saved:  C:/Users/silvh/OneDrive/lighthouse/portfolio-projects/online-PT-social-media-NLP/data/interim/my_ig_posts_2022_pulled_2023-02-11_processed.csv\n",
      "Time completed: 2023-02-11 20:22:22.997830\n",
      "File saved:  C:/Users/silvh/OneDrive/lighthouse/portfolio-projects/online-PT-social-media-NLP/data/interim/my_ig_posts_2022_pulled_2023-02-11.sav\n",
      "Time completed: 2023-02-11 20:22:23.001827\n",
      "File saved:  C:/Users/silvh/OneDrive/lighthouse/portfolio-projects/online-PT-social-media-NLP/data/interim/my_ig_posts_2022_pulled_2023-02-11_CountVectorizer_object.sav\n",
      "Time completed: 2023-02-11 20:22:23.003850\n"
     ]
    }
   ],
   "source": [
    "df2022_processed, count_vector, vect = post_preprocessing(df2022, \n",
    "            filename='my_ig_posts_2022_pulled_2023-02-11')"
   ]
  },
  {
   "cell_type": "code",
   "execution_count": 81,
   "metadata": {},
   "outputs": [
    {
     "data": {
      "text/plain": [
       "set()"
      ]
     },
     "execution_count": 81,
     "metadata": {},
     "output_type": "execute_result"
    }
   ],
   "source": [
    "vect.stop_words_"
   ]
  },
  {
   "cell_type": "code",
   "execution_count": 82,
   "metadata": {},
   "outputs": [
    {
     "name": "stdout",
     "output_type": "stream",
     "text": [
      "None\n"
     ]
    }
   ],
   "source": [
    "stopwords = vect.get_stop_words()\n",
    "print(stopwords)"
   ]
  },
  {
   "cell_type": "code",
   "execution_count": 83,
   "metadata": {},
   "outputs": [
    {
     "ename": "ImportError",
     "evalue": "cannot import name 'stop_words' from 'sklearn.feature_extraction' (C:\\Users\\silvh\\AppData\\Roaming\\Python\\Python39\\site-packages\\sklearn\\feature_extraction\\__init__.py)",
     "output_type": "error",
     "traceback": [
      "\u001b[1;31m---------------------------------------------------------------------------\u001b[0m",
      "\u001b[1;31mImportError\u001b[0m                               Traceback (most recent call last)",
      "Cell \u001b[1;32mIn [83], line 1\u001b[0m\n\u001b[1;32m----> 1\u001b[0m \u001b[39mfrom\u001b[39;00m \u001b[39msklearn\u001b[39;00m\u001b[39m.\u001b[39;00m\u001b[39mfeature_extraction\u001b[39;00m \u001b[39mimport\u001b[39;00m stop_words\n\u001b[0;32m      3\u001b[0m \u001b[39mprint\u001b[39m(stop_words\u001b[39m.\u001b[39mENGLISH_STOP_WORDS)\n",
      "\u001b[1;31mImportError\u001b[0m: cannot import name 'stop_words' from 'sklearn.feature_extraction' (C:\\Users\\silvh\\AppData\\Roaming\\Python\\Python39\\site-packages\\sklearn\\feature_extraction\\__init__.py)"
     ]
    }
   ],
   "source": [
    "from sklearn.feature_extraction import stop_words\n",
    "\n",
    "print(stop_words.ENGLISH_STOP_WORDS)"
   ]
  },
  {
   "attachments": {},
   "cell_type": "markdown",
   "metadata": {},
   "source": [
    "## `BoW_EDA`"
   ]
  },
  {
   "cell_type": "code",
   "execution_count": null,
   "metadata": {},
   "outputs": [],
   "source": [
    "import seaborn as sns\n",
    "import matplotlib_inline.backend_inline\n",
    "\n",
    "def BoW_eda(df, n=30, text_column='caption', drop=['<number>'], context='paper', title_suffix=None,\n",
    "    filename=None, path=r'C:\\Users\\silvh\\OneDrive\\data science job search\\content'):\n",
    "    sns.reset_defaults()    \n",
    "    %matplotlib inline\n",
    "    matplotlib_inline.backend_inline.set_matplotlib_formats('retina')\n",
    "    plt.rcParams['savefig.dpi'] = 300\n",
    "    \n",
    "    sns.set_theme(context=context, style='ticks')\n",
    "    df = df.drop(columns=drop)\n",
    "    top_n = df.sum().sort_values(ascending=False).head(n).sort_values()\n",
    "    # ax = sns.barplot(df[top_n.index.tolist()], estimator='sum',errorbar=None) # this works but gives deprecated warning\n",
    "    fig, ax = plt.subplots()\n",
    "    ax.barh(top_n.index, top_n)\n",
    "    ax.set_yticks(top_n.index) # This line suppresses the warning \"UserWarning: FixedFormatter should only be used together with FixedLocator\"\n",
    "    # ax.set_yticklabels(top_n.index, rotation=30, ha='right', rotation_mode='anchor')\n",
    "    title = f'Top {n} words in Instagram posts'\n",
    "    if title_suffix:\n",
    "        title = f'{title}: {title_suffix}'\n",
    "    ax.set(xlabel='Count', ylabel='Word', title=title)\n",
    "    ax.axis('tight')\n",
    "    if filename:\n",
    "        try:\n",
    "            path = f'{path}/'.replace('\\\\','/')\n",
    "            fig.savefig(path+filename, bbox_inches='tight')\n",
    "            print('Saved: ', path+filename)\n",
    "        except:\n",
    "            print('Unable to save outputs')\n",
    "    print('Time completed:', datetime.now())\n",
    "\n",
    "    return top_n\n"
   ]
  },
  {
   "cell_type": "code",
   "execution_count": 96,
   "metadata": {},
   "outputs": [
    {
     "name": "stdout",
     "output_type": "stream",
     "text": [
      "Saved:  C:/Users/silvh/OneDrive/data science job search/content/instagram BoW 2022.png\n",
      "Time completed: 2023-02-11 20:22:50.413104\n"
     ]
    },
    {
     "data": {
      "image/png": "[encoded data removed]",
      "text/plain": [
       "<Figure size 640x480 with 1 Axes>"
      ]
     },
     "metadata": {
      "image/png": {
       "height": 448,
       "width": 602
      }
     },
     "output_type": "display_data"
    }
   ],
   "source": [
    "top_25 = BoW_eda(count_vector, n=25, title_suffix='2022', filename='instagram BoW 2022.png')"
   ]
  },
  {
   "cell_type": "code",
   "execution_count": 97,
   "metadata": {},
   "outputs": [
    {
     "data": {
      "text/plain": [
       "['ab',\n",
       " 'ability',\n",
       " 'abundance',\n",
       " 'accept',\n",
       " 'accord',\n",
       " 'account',\n",
       " 'activation',\n",
       " 'active',\n",
       " 'activity',\n",
       " 'adapt',\n",
       " 'add',\n",
       " 'adequate',\n",
       " 'adjust',\n",
       " 'adopt',\n",
       " 'advance',\n",
       " 'afternoon',\n",
       " 'age',\n",
       " 'ai',\n",
       " 'aim',\n",
       " 'algorithm',\n",
       " 'align',\n",
       " 'allow',\n",
       " 'along',\n",
       " 'already',\n",
       " 'also',\n",
       " 'always',\n",
       " 'amazon',\n",
       " 'amount',\n",
       " 'amusement',\n",
       " 'analyze',\n",
       " 'anchor',\n",
       " 'anf',\n",
       " 'ankle',\n",
       " 'announce',\n",
       " 'anterior',\n",
       " 'apartment',\n",
       " 'app',\n",
       " 'appear',\n",
       " 'appearance',\n",
       " 'application',\n",
       " 'apply',\n",
       " 'apps',\n",
       " 'area',\n",
       " 'arm',\n",
       " 'armpit',\n",
       " 'art',\n",
       " 'artificial',\n",
       " 'asian',\n",
       " 'ask',\n",
       " 'assort',\n",
       " 'athlete',\n",
       " 'attempt',\n",
       " 'audiobook',\n",
       " 'august',\n",
       " 'avoid',\n",
       " 'away',\n",
       " 'baby',\n",
       " 'back',\n",
       " 'balance',\n",
       " 'banana',\n",
       " 'band',\n",
       " 'bang',\n",
       " 'bare',\n",
       " 'based',\n",
       " 'basically',\n",
       " 'become',\n",
       " 'benefit',\n",
       " 'best',\n",
       " 'better',\n",
       " 'biggest',\n",
       " 'bike',\n",
       " 'bio',\n",
       " 'bite',\n",
       " 'bloc',\n",
       " 'body',\n",
       " 'bones',\n",
       " 'book',\n",
       " 'bother',\n",
       " 'brain',\n",
       " 'bread',\n",
       " 'break',\n",
       " 'bring',\n",
       " 'buck',\n",
       " 'bus',\n",
       " 'business',\n",
       " 'butt',\n",
       " 'butter',\n",
       " 'cable',\n",
       " 'cake',\n",
       " 'cal',\n",
       " 'calorie',\n",
       " 'cardio',\n",
       " 'care',\n",
       " 'career',\n",
       " 'carte',\n",
       " 'cathy',\n",
       " 'challenge',\n",
       " 'championship',\n",
       " 'change',\n",
       " 'chat',\n",
       " 'check',\n",
       " 'cheese',\n",
       " 'cheesecake',\n",
       " 'chocolate',\n",
       " 'choose',\n",
       " 'city',\n",
       " 'class',\n",
       " 'client',\n",
       " 'close',\n",
       " 'club',\n",
       " 'coach',\n",
       " 'combo',\n",
       " 'come',\n",
       " 'comedy',\n",
       " 'comment',\n",
       " 'communicator',\n",
       " 'competition',\n",
       " 'computer',\n",
       " 'confident',\n",
       " 'congrats',\n",
       " 'connection',\n",
       " 'constantly',\n",
       " 'content',\n",
       " 'context',\n",
       " 'continue',\n",
       " 'cool',\n",
       " 'core',\n",
       " 'cottage',\n",
       " 'could',\n",
       " 'counteract',\n",
       " 'couple',\n",
       " 'crave',\n",
       " 'cream',\n",
       " 'create',\n",
       " 'cue',\n",
       " 'cuff',\n",
       " 'curd',\n",
       " 'current',\n",
       " 'cycle',\n",
       " 'dagger',\n",
       " 'dance',\n",
       " 'danger',\n",
       " 'data',\n",
       " 'daughter',\n",
       " 'day',\n",
       " 'deadlift',\n",
       " 'decision',\n",
       " 'deg',\n",
       " 'delicious',\n",
       " 'demo',\n",
       " 'denny',\n",
       " 'design',\n",
       " 'desk',\n",
       " 'despite',\n",
       " 'destruction',\n",
       " 'develop',\n",
       " 'difference',\n",
       " 'difficulty',\n",
       " 'diploma',\n",
       " 'discourage',\n",
       " 'discus',\n",
       " 'distinguish',\n",
       " 'dont',\n",
       " 'driver',\n",
       " 'drop',\n",
       " 'dry',\n",
       " 'dumbbell',\n",
       " 'durian',\n",
       " 'easier',\n",
       " 'easily',\n",
       " 'easy',\n",
       " 'edge',\n",
       " 'education',\n",
       " 'effect',\n",
       " 'eight',\n",
       " 'embark',\n",
       " 'emphasize',\n",
       " 'energy',\n",
       " 'enough',\n",
       " 'ensure',\n",
       " 'episode',\n",
       " 'eric',\n",
       " 'error',\n",
       " 'essential',\n",
       " 'even',\n",
       " 'every',\n",
       " 'everyday',\n",
       " 'excite',\n",
       " 'exercise',\n",
       " 'exerciser',\n",
       " 'experience',\n",
       " 'experiment',\n",
       " 'expert',\n",
       " 'explore',\n",
       " 'extend',\n",
       " 'face',\n",
       " 'facing',\n",
       " 'fall',\n",
       " 'fatigue',\n",
       " 'fear',\n",
       " 'feature',\n",
       " 'fee',\n",
       " 'feel',\n",
       " 'felt',\n",
       " 'female',\n",
       " 'fest',\n",
       " 'fill',\n",
       " 'finally',\n",
       " 'find',\n",
       " 'finish',\n",
       " 'first',\n",
       " 'fit',\n",
       " 'fitness',\n",
       " 'flavour',\n",
       " 'floor',\n",
       " 'fo',\n",
       " 'fold',\n",
       " 'follow',\n",
       " 'foot',\n",
       " 'for',\n",
       " 'force',\n",
       " 'form',\n",
       " 'fountain',\n",
       " 'frailty',\n",
       " 'free',\n",
       " 'friend',\n",
       " 'front',\n",
       " 'functional',\n",
       " 'generally',\n",
       " 'get',\n",
       " 'give',\n",
       " 'glue',\n",
       " 'glut',\n",
       " 'go',\n",
       " 'goal',\n",
       " 'good',\n",
       " 'gradually',\n",
       " 'group',\n",
       " 'guess',\n",
       " 'guidance',\n",
       " 'gym',\n",
       " 'habit',\n",
       " 'hair',\n",
       " 'hand',\n",
       " 'handstand',\n",
       " 'hang',\n",
       " 'happen',\n",
       " 'happiness',\n",
       " 'happy',\n",
       " 'health',\n",
       " 'healthier',\n",
       " 'healthy',\n",
       " 'heat',\n",
       " 'heel',\n",
       " 'help',\n",
       " 'here',\n",
       " 'hide',\n",
       " 'high',\n",
       " 'hike',\n",
       " 'hinge',\n",
       " 'hip',\n",
       " 'hit',\n",
       " 'hold',\n",
       " 'hollow',\n",
       " 'horizontal',\n",
       " 'hotel',\n",
       " 'hour',\n",
       " 'house',\n",
       " 'ice',\n",
       " 'icicle',\n",
       " 'idea',\n",
       " 'ideal',\n",
       " 'imbalance',\n",
       " 'importance',\n",
       " 'important',\n",
       " 'impress',\n",
       " 'improve',\n",
       " 'improvement',\n",
       " 'improvisers',\n",
       " 'in',\n",
       " 'include',\n",
       " 'increase',\n",
       " 'individual',\n",
       " 'industry',\n",
       " 'inequality',\n",
       " 'inevitable',\n",
       " 'informed',\n",
       " 'inherently',\n",
       " 'inqualities',\n",
       " 'instead',\n",
       " 'instrument',\n",
       " 'intelligence',\n",
       " 'interest',\n",
       " 'intro',\n",
       " 'investment',\n",
       " 'jerk',\n",
       " 'job',\n",
       " 'join',\n",
       " 'julie',\n",
       " 'katy',\n",
       " 'keep',\n",
       " 'kettlebell',\n",
       " 'key',\n",
       " 'kg',\n",
       " 'kid',\n",
       " 'kinesiologist',\n",
       " 'kinesiology',\n",
       " 'knee',\n",
       " 'know',\n",
       " 'la',\n",
       " 'large',\n",
       " 'last',\n",
       " 'le',\n",
       " 'learn',\n",
       " 'leave',\n",
       " 'leg',\n",
       " 'let',\n",
       " 'level',\n",
       " 'life',\n",
       " 'lifestyle',\n",
       " 'lift',\n",
       " 'like',\n",
       " 'likely',\n",
       " 'linearly',\n",
       " 'link',\n",
       " 'lit',\n",
       " 'little',\n",
       " 'long',\n",
       " 'lose',\n",
       " 'lot',\n",
       " 'love',\n",
       " 'low',\n",
       " 'lower',\n",
       " 'main',\n",
       " 'maintain',\n",
       " 'make',\n",
       " 'manage',\n",
       " 'manufacturer',\n",
       " 'many',\n",
       " 'marry',\n",
       " 'mask',\n",
       " 'master',\n",
       " 'mastery',\n",
       " 'math',\n",
       " 'mean',\n",
       " 'meet',\n",
       " 'messier',\n",
       " 'might',\n",
       " 'milkman',\n",
       " 'minute',\n",
       " 'mirror',\n",
       " 'mobility',\n",
       " 'monitor',\n",
       " 'month',\n",
       " 'mostly',\n",
       " 'motivate',\n",
       " 'motivation',\n",
       " 'motor',\n",
       " 'move',\n",
       " 'movement',\n",
       " 'much',\n",
       " 'mural',\n",
       " 'muscle',\n",
       " 'must',\n",
       " 'name',\n",
       " 'national',\n",
       " 'nearby',\n",
       " 'necessity',\n",
       " 'need',\n",
       " 'neighbor',\n",
       " 'neil',\n",
       " 'netflix',\n",
       " 'never',\n",
       " 'new',\n",
       " 'next',\n",
       " 'nifty',\n",
       " 'non',\n",
       " 'none',\n",
       " 'normal',\n",
       " 'nutrition',\n",
       " 'nutritious',\n",
       " 'old',\n",
       " 'olympic',\n",
       " 'on',\n",
       " 'one',\n",
       " 'online',\n",
       " 'open',\n",
       " 'opportunity',\n",
       " 'organization',\n",
       " 'others',\n",
       " 'overhead',\n",
       " 'pain',\n",
       " 'paleo',\n",
       " 'parent',\n",
       " 'part',\n",
       " 'particularly',\n",
       " 'passionate',\n",
       " 'pattern',\n",
       " 'pay',\n",
       " 'peanut',\n",
       " 'people',\n",
       " 'per',\n",
       " 'perfect',\n",
       " 'perform',\n",
       " 'performance',\n",
       " 'perpetuate',\n",
       " 'persistence',\n",
       " 'person',\n",
       " 'personal',\n",
       " 'personality',\n",
       " 'perspective',\n",
       " 'photo',\n",
       " 'place',\n",
       " 'plank',\n",
       " 'plate',\n",
       " 'plateau',\n",
       " 'platform',\n",
       " 'podcast',\n",
       " 'pop',\n",
       " 'position',\n",
       " 'post',\n",
       " 'posture',\n",
       " 'power',\n",
       " 'pr',\n",
       " 'practice',\n",
       " 'practise',\n",
       " 'preference',\n",
       " 'pressure',\n",
       " 'probably',\n",
       " 'product',\n",
       " 'professional',\n",
       " 'program',\n",
       " 'progress',\n",
       " 'promise',\n",
       " 'promote',\n",
       " 'protein',\n",
       " 'provide',\n",
       " 'public',\n",
       " 'puff',\n",
       " 'pull',\n",
       " 'purple',\n",
       " 'push',\n",
       " 'put',\n",
       " 'quality',\n",
       " 'question',\n",
       " 'read',\n",
       " 'realize',\n",
       " 'recent',\n",
       " 'recipe',\n",
       " 'recognize',\n",
       " 'recognized',\n",
       " 'recommend',\n",
       " 'recommendation',\n",
       " 'record',\n",
       " 'recovery',\n",
       " 'reduce',\n",
       " 'regress',\n",
       " 'relate',\n",
       " 'relistening',\n",
       " 'remain',\n",
       " 'replace',\n",
       " 'represent',\n",
       " 'resistance',\n",
       " 'resource',\n",
       " 'responsibility',\n",
       " 'rest',\n",
       " 'return',\n",
       " 'reveal',\n",
       " 'revelation',\n",
       " 'rib',\n",
       " 'right',\n",
       " 'role',\n",
       " 'roof',\n",
       " 'rotator',\n",
       " 'row',\n",
       " 'run',\n",
       " 'sandwich',\n",
       " 'save',\n",
       " 'saw',\n",
       " 'scale',\n",
       " 'schedule',\n",
       " 'science',\n",
       " 'scientist',\n",
       " 'sector',\n",
       " 'sedentary',\n",
       " 'see',\n",
       " 'seek',\n",
       " 'seem',\n",
       " 'serratus',\n",
       " 'serve',\n",
       " 'session',\n",
       " 'set',\n",
       " 'sharp',\n",
       " 'shift',\n",
       " 'short',\n",
       " 'shoulder',\n",
       " 'similar',\n",
       " 'simply',\n",
       " 'since',\n",
       " 'single',\n",
       " 'skill',\n",
       " 'sleep',\n",
       " 'small',\n",
       " 'smarter',\n",
       " 'smoke',\n",
       " 'social',\n",
       " 'someone',\n",
       " 'soreness',\n",
       " 'space',\n",
       " 'special',\n",
       " 'specialize',\n",
       " 'specific',\n",
       " 'spine',\n",
       " 'split',\n",
       " 'sport',\n",
       " 'sprain',\n",
       " 'squat',\n",
       " 'stability',\n",
       " 'stabilize',\n",
       " 'stage',\n",
       " 'stand',\n",
       " 'standard',\n",
       " 'start',\n",
       " 'stay',\n",
       " 'stem',\n",
       " 'step',\n",
       " 'steroid',\n",
       " 'still',\n",
       " 'stoop',\n",
       " 'stop',\n",
       " 'storytelling',\n",
       " 'strategy',\n",
       " 'strength',\n",
       " 'strengthen',\n",
       " 'stress',\n",
       " 'strive',\n",
       " 'stronger',\n",
       " 'subtle',\n",
       " 'sugar',\n",
       " 'suitable',\n",
       " 'summer',\n",
       " 'super',\n",
       " 'support',\n",
       " 'surprise',\n",
       " 'suzanne',\n",
       " 'sweetener',\n",
       " 'systematically',\n",
       " 'take',\n",
       " 'target',\n",
       " 'tasty',\n",
       " 'tech',\n",
       " 'technique',\n",
       " 'technology',\n",
       " 'tell',\n",
       " 'tend',\n",
       " 'tense',\n",
       " 'tensing',\n",
       " 'tension',\n",
       " 'term',\n",
       " 'thank',\n",
       " 'thigh',\n",
       " 'thing',\n",
       " 'think',\n",
       " 'thoracic',\n",
       " 'throughout',\n",
       " 'thus',\n",
       " 'ticket',\n",
       " 'tiger',\n",
       " 'tight',\n",
       " 'time',\n",
       " 'tip',\n",
       " 'toddler',\n",
       " 'topic',\n",
       " 'towards',\n",
       " 'track',\n",
       " 'train',\n",
       " 'trainer',\n",
       " 'trapezius',\n",
       " 'try',\n",
       " 'tv',\n",
       " 'tweak',\n",
       " 'twist',\n",
       " 'two',\n",
       " 'type',\n",
       " 'ube',\n",
       " 'understand',\n",
       " 'unstable',\n",
       " 'upper',\n",
       " 'use',\n",
       " 'vanish',\n",
       " 'variation',\n",
       " 'various',\n",
       " 'version',\n",
       " 'vertical',\n",
       " 'video',\n",
       " 'vision',\n",
       " 'visualization',\n",
       " 'walk',\n",
       " 'wall',\n",
       " 'want',\n",
       " 'warm',\n",
       " 'watch',\n",
       " 'way',\n",
       " 'weapon',\n",
       " 'wednesday',\n",
       " 'weed',\n",
       " 'week',\n",
       " 'weight',\n",
       " 'whatever',\n",
       " 'whip',\n",
       " 'woman',\n",
       " 'word',\n",
       " 'work',\n",
       " 'workout',\n",
       " 'would',\n",
       " 'write',\n",
       " 'yam',\n",
       " 'year',\n",
       " 'yell',\n",
       " 'youll',\n",
       " 'youtube',\n",
       " '<empty>',\n",
       " '<handle>',\n",
       " '#2',\n",
       " '#academic',\n",
       " '#bananabread',\n",
       " '#bloctigercomedyfest',\n",
       " '#cheesecake',\n",
       " '#cook',\n",
       " '#datascience',\n",
       " '#dessert',\n",
       " '#durian',\n",
       " '#easyrecipes',\n",
       " '#engineer',\n",
       " '#foodporn',\n",
       " '#handstand',\n",
       " '#healthydesserts',\n",
       " '#healthyrecipes',\n",
       " '#homeworkout',\n",
       " '#ketorecipes',\n",
       " '#kinesiology',\n",
       " '#lazycook',\n",
       " '#lighthouselabs',\n",
       " '#lowcarbdesserts',\n",
       " '#lowfatdesserts',\n",
       " '#lunarnewyear',\n",
       " '#medicine',\n",
       " '#personaltrainer',\n",
       " '#protein',\n",
       " '#proteincheesecake',\n",
       " '#research',\n",
       " '#science',\n",
       " '#scientist',\n",
       " '#stem',\n",
       " '#technology',\n",
       " '#vancouver',\n",
       " '#voluptacommunity',\n",
       " '#workout',\n",
       " '#yvr',\n",
       " '<number>']"
      ]
     },
     "execution_count": 97,
     "metadata": {},
     "output_type": "execute_result"
    }
   ],
   "source": [
    "count_vector.columns.tolist()"
   ]
  },
  {
   "cell_type": "code",
   "execution_count": 98,
   "metadata": {},
   "outputs": [
    {
     "data": {
      "text/plain": [
       "Index(['timestamp', 'caption', 'like_count', 'comments_count', 'media_type',\n",
       "       'media_product_type', 'media_url', 'permalink', 'id', 'comments.data',\n",
       "       'thumbnail_url', 'date', 'year', 'month', 'week_of_year', 'day_of_week',\n",
       "       'time', 'hour'],\n",
       "      dtype='object')"
      ]
     },
     "execution_count": 98,
     "metadata": {},
     "output_type": "execute_result"
    }
   ],
   "source": [
    "df2022_processed.columns"
   ]
  },
  {
   "cell_type": "code",
   "execution_count": 99,
   "metadata": {},
   "outputs": [
    {
     "name": "stdout",
     "output_type": "stream",
     "text": [
      "['https://scontent.cdninstagram.com/v/t51.29350-15/322778200_3359512214268300_8037939719050379800_n.jpg?_nc_cat=102&ccb=1-7&_nc_sid=8ae9d6&_nc_ohc=ufWpuEajkfcAX8VRx99&_nc_oc=AQnMwYgdVNWdFUZlU8ExJKqi0RvQkhMR3M9dE0ckc7Y8fRfKXmWg4Em48WwptGMeaT4-ySscV1qFImp3oe6PZy2d&_nc_ht=scontent.cdninstagram.com&edm=AM6HXa8EAAAA&oh=00_AfDiTBBEdFcujzku_o3pvHLtFAOhcekVRjennaNeqhPVSw&oe=63ED3330']\n"
     ]
    }
   ],
   "source": [
    "print(df2022_processed['media_url'].head(1).values)"
   ]
  },
  {
   "cell_type": "code",
   "execution_count": 63,
   "metadata": {},
   "outputs": [
    {
     "data": {
      "text/html": [
       "<div>\n",
       "<style scoped>\n",
       "    .dataframe tbody tr th:only-of-type {\n",
       "        vertical-align: middle;\n",
       "    }\n",
       "\n",
       "    .dataframe tbody tr th {\n",
       "        vertical-align: top;\n",
       "    }\n",
       "\n",
       "    .dataframe thead th {\n",
       "        text-align: right;\n",
       "    }\n",
       "</style>\n",
       "<table border=\"1\" class=\"dataframe\">\n",
       "  <thead>\n",
       "    <tr style=\"text-align: right;\">\n",
       "      <th></th>\n",
       "      <th>total_comments_count</th>\n",
       "      <th>mean_comments_count</th>\n",
       "    </tr>\n",
       "    <tr>\n",
       "      <th>month</th>\n",
       "      <th></th>\n",
       "      <th></th>\n",
       "    </tr>\n",
       "  </thead>\n",
       "  <tbody>\n",
       "    <tr>\n",
       "      <th>1</th>\n",
       "      <td>294</td>\n",
       "      <td>2.000000</td>\n",
       "    </tr>\n",
       "    <tr>\n",
       "      <th>2</th>\n",
       "      <td>196</td>\n",
       "      <td>0.666667</td>\n",
       "    </tr>\n",
       "    <tr>\n",
       "      <th>3</th>\n",
       "      <td>637</td>\n",
       "      <td>4.333333</td>\n",
       "    </tr>\n",
       "    <tr>\n",
       "      <th>4</th>\n",
       "      <td>196</td>\n",
       "      <td>4.000000</td>\n",
       "    </tr>\n",
       "    <tr>\n",
       "      <th>6</th>\n",
       "      <td>49</td>\n",
       "      <td>0.328859</td>\n",
       "    </tr>\n",
       "    <tr>\n",
       "      <th>7</th>\n",
       "      <td>9</td>\n",
       "      <td>1.285714</td>\n",
       "    </tr>\n",
       "    <tr>\n",
       "      <th>8</th>\n",
       "      <td>1</td>\n",
       "      <td>0.500000</td>\n",
       "    </tr>\n",
       "    <tr>\n",
       "      <th>9</th>\n",
       "      <td>20</td>\n",
       "      <td>4.000000</td>\n",
       "    </tr>\n",
       "    <tr>\n",
       "      <th>12</th>\n",
       "      <td>17</td>\n",
       "      <td>1.888889</td>\n",
       "    </tr>\n",
       "  </tbody>\n",
       "</table>\n",
       "</div>"
      ],
      "text/plain": [
       "       total_comments_count  mean_comments_count\n",
       "month                                           \n",
       "1                       294             2.000000\n",
       "2                       196             0.666667\n",
       "3                       637             4.333333\n",
       "4                       196             4.000000\n",
       "6                        49             0.328859\n",
       "7                         9             1.285714\n",
       "8                         1             0.500000\n",
       "9                        20             4.000000\n",
       "12                       17             1.888889"
      ]
     },
     "execution_count": 63,
     "metadata": {},
     "output_type": "execute_result"
    }
   ],
   "source": [
    "df2022_processed.groupby(['month']).agg(total_comments_count=('comments_count','sum'), \n",
    "                            mean_comments_count=('comments_count','mean'))"
   ]
  },
  {
   "attachments": {},
   "cell_type": "markdown",
   "metadata": {},
   "source": [
    "Things to explore:\n",
    "* Which words improve engagement?\n",
    "* Engagement as a time series:\n",
    "    * time of day\n",
    "    * day of week\n",
    "    * time of year\n",
    "* Which topics have best engagement?\n",
    "* Posts with most and least engagment\n",
    "    * Image\n",
    "    * Unique words\n",
    "    * Top \n",
    "\n",
    "Engagement based on Tf-idf"
   ]
  },
  {
   "attachments": {},
   "cell_type": "markdown",
   "metadata": {},
   "source": [
    "# tfidf_transform"
   ]
  },
  {
   "cell_type": "code",
   "execution_count": 107,
   "metadata": {},
   "outputs": [
    {
     "data": {
      "text/plain": [
       "40    0.065557\n",
       "21    0.000000\n",
       "23    0.000000\n",
       "Name: ab, dtype: float64"
      ]
     },
     "execution_count": 107,
     "metadata": {},
     "output_type": "execute_result"
    }
   ],
   "source": [
    "from sklearn.feature_extraction.text import TfidfTransformer\n",
    "def tfidf_transform(count_vector):\n",
    "    vectorizer = TfidfTransformer()\n",
    "    tfidf= pd.DataFrame(\n",
    "        vectorizer.fit_transform(count_vector).toarray(), \n",
    "        columns=vectorizer.get_feature_names_out()\n",
    "        )\n",
    "    return tfidf\n",
    "\n",
    "tfidf = tfidf_transform(count_vector)\n",
    "tfidf['ab'].sort_values(ascending=False).head(3)"
   ]
  },
  {
   "cell_type": "code",
   "execution_count": 111,
   "metadata": {},
   "outputs": [
    {
     "data": {
      "text/plain": [
       "'get fear  first handstand hold wall facing handstand basically advance plank  emphasize shoulder stability standard plank  benefit handstand  even desk job  • train core glut support healthy back  • help maintain good posture  handstand  need adequate overhead mobility thoracic mobility  dont tend challenge enough day day activity  use lose    • strengthen muscle help improve posture keep shoulder pain free  rotator cuff  serratus anterior  lower trapezius  step  <Number>  keep ab tight walk hand foot handstand position  <Number>  hold  push floor away keep shoulder muscle active  <Number>  ensure good core stability keep rib pull towards spine  word  maintain good hollow body position  muscle butt front thigh also tense  upper body core  <Number>  goal bring hand close wall  start horizontal position need gradually work towards vertical position improve strength stability  whatever position choose  always push floor away keep rib pull towards spine  give try  leave comment go  #stem #science #technology #engineer #medicine #scientist #research #academic #homeworkout #vancouver #yvr #personaltrainer #kinesiology posture '"
      ]
     },
     "execution_count": 111,
     "metadata": {},
     "output_type": "execute_result"
    }
   ],
   "source": [
    "df2022_processed.loc[40, 'caption']"
   ]
  },
  {
   "cell_type": "code",
   "execution_count": 116,
   "metadata": {},
   "outputs": [
    {
     "data": {
      "text/plain": [
       "youll         0.324060\n",
       "excite        0.291573\n",
       "ai            0.268523\n",
       "health        0.268523\n",
       "recommend     0.216040\n",
       "                ...   \n",
       "functional    0.000000\n",
       "glue          0.000000\n",
       "glut          0.000000\n",
       "go            0.000000\n",
       "<number>      0.000000\n",
       "Name: 1, Length: 660, dtype: float64"
      ]
     },
     "execution_count": 116,
     "metadata": {},
     "output_type": "execute_result"
    }
   ],
   "source": [
    "tfidf.loc[1].sort_values(ascending=False)"
   ]
  },
  {
   "attachments": {},
   "cell_type": "markdown",
   "metadata": {},
   "source": [
    "# Display image from URL\n",
    "https://plotly.com/python/imshow/"
   ]
  },
  {
   "cell_type": "code",
   "execution_count": 1,
   "metadata": {},
   "outputs": [],
   "source": [
    "import plotly.express as px\n",
    "from skimage import io"
   ]
  },
  {
   "cell_type": "code",
   "execution_count": 2,
   "metadata": {},
   "outputs": [
    {
     "data": {
      "application/vnd.plotly.v1+json": {
       "config": {
        "plotlyServerURL": "https://plot.ly"
       },
       "data": [
        {
         "hovertemplate": "x: %{x}<br>y: %{y}<br>color: [%{z[0]}, %{z[1]}, %{z[2]}]<extra></extra>",
         "name": "0",
         "source": "data:image/png;base64,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",
         "type": "image",
         "xaxis": "x",
         "yaxis": "y"
        }
       ],
       "layout": {
        "margin": {
         "t": 60
        },
        "template": {
         "data": {
          "bar": [
           {
            "error_x": {
             "color": "#2a3f5f"
            },
            "error_y": {
             "color": "#2a3f5f"
            },
            "marker": {
             "line": {
              "color": "#E5ECF6",
              "width": 0.5
             },
             "pattern": {
              "fillmode": "overlay",
              "size": 10,
              "solidity": 0.2
             }
            },
            "type": "bar"
           }
          ],
          "barpolar": [
           {
            "marker": {
             "line": {
              "color": "#E5ECF6",
              "width": 0.5
             },
             "pattern": {
              "fillmode": "overlay",
              "size": 10,
              "solidity": 0.2
             }
            },
            "type": "barpolar"
           }
          ],
          "carpet": [
           {
            "aaxis": {
             "endlinecolor": "#2a3f5f",
             "gridcolor": "white",
             "linecolor": "white",
             "minorgridcolor": "white",
             "startlinecolor": "#2a3f5f"
            },
            "baxis": {
             "endlinecolor": "#2a3f5f",
             "gridcolor": "white",
             "linecolor": "white",
             "minorgridcolor": "white",
             "startlinecolor": "#2a3f5f"
            },
            "type": "carpet"
           }
          ],
          "choropleth": [
           {
            "colorbar": {
             "outlinewidth": 0,
             "ticks": ""
            },
            "type": "choropleth"
           }
          ],
          "contour": [
           {
            "colorbar": {
             "outlinewidth": 0,
             "ticks": ""
            },
            "colorscale": [
             [
              0,
              "#0d0887"
             ],
             [
              0.1111111111111111,
              "#46039f"
             ],
             [
              0.2222222222222222,
              "#7201a8"
             ],
             [
              0.3333333333333333,
              "#9c179e"
             ],
             [
              0.4444444444444444,
              "#bd3786"
             ],
             [
              0.5555555555555556,
              "#d8576b"
             ],
             [
              0.6666666666666666,
              "#ed7953"
             ],
             [
              0.7777777777777778,
              "#fb9f3a"
             ],
             [
              0.8888888888888888,
              "#fdca26"
             ],
             [
              1,
              "#f0f921"
             ]
            ],
            "type": "contour"
           }
          ],
          "contourcarpet": [
           {
            "colorbar": {
             "outlinewidth": 0,
             "ticks": ""
            },
            "type": "contourcarpet"
           }
          ],
          "heatmap": [
           {
            "colorbar": {
             "outlinewidth": 0,
             "ticks": ""
            },
            "colorscale": [
             [
              0,
              "#0d0887"
             ],
             [
              0.1111111111111111,
              "#46039f"
             ],
             [
              0.2222222222222222,
              "#7201a8"
             ],
             [
              0.3333333333333333,
              "#9c179e"
             ],
             [
              0.4444444444444444,
              "#bd3786"
             ],
             [
              0.5555555555555556,
              "#d8576b"
             ],
             [
              0.6666666666666666,
              "#ed7953"
             ],
             [
              0.7777777777777778,
              "#fb9f3a"
             ],
             [
              0.8888888888888888,
              "#fdca26"
             ],
             [
              1,
              "#f0f921"
             ]
            ],
            "type": "heatmap"
           }
          ],
          "heatmapgl": [
           {
            "colorbar": {
             "outlinewidth": 0,
             "ticks": ""
            },
            "colorscale": [
             [
              0,
              "#0d0887"
             ],
             [
              0.1111111111111111,
              "#46039f"
             ],
             [
              0.2222222222222222,
              "#7201a8"
             ],
             [
              0.3333333333333333,
              "#9c179e"
             ],
             [
              0.4444444444444444,
              "#bd3786"
             ],
             [
              0.5555555555555556,
              "#d8576b"
             ],
             [
              0.6666666666666666,
              "#ed7953"
             ],
             [
              0.7777777777777778,
              "#fb9f3a"
             ],
             [
              0.8888888888888888,
              "#fdca26"
             ],
             [
              1,
              "#f0f921"
             ]
            ],
            "type": "heatmapgl"
           }
          ],
          "histogram": [
           {
            "marker": {
             "pattern": {
              "fillmode": "overlay",
              "size": 10,
              "solidity": 0.2
             }
            },
            "type": "histogram"
           }
          ],
          "histogram2d": [
           {
            "colorbar": {
             "outlinewidth": 0,
             "ticks": ""
            },
            "colorscale": [
             [
              0,
              "#0d0887"
             ],
             [
              0.1111111111111111,
              "#46039f"
             ],
             [
              0.2222222222222222,
              "#7201a8"
             ],
             [
              0.3333333333333333,
              "#9c179e"
             ],
             [
              0.4444444444444444,
              "#bd3786"
             ],
             [
              0.5555555555555556,
              "#d8576b"
             ],
             [
              0.6666666666666666,
              "#ed7953"
             ],
             [
              0.7777777777777778,
              "#fb9f3a"
             ],
             [
              0.8888888888888888,
              "#fdca26"
             ],
             [
              1,
              "#f0f921"
             ]
            ],
            "type": "histogram2d"
           }
          ],
          "histogram2dcontour": [
           {
            "colorbar": {
             "outlinewidth": 0,
             "ticks": ""
            },
            "colorscale": [
             [
              0,
              "#0d0887"
             ],
             [
              0.1111111111111111,
              "#46039f"
             ],
             [
              0.2222222222222222,
              "#7201a8"
             ],
             [
              0.3333333333333333,
              "#9c179e"
             ],
             [
              0.4444444444444444,
              "#bd3786"
             ],
             [
              0.5555555555555556,
              "#d8576b"
             ],
             [
              0.6666666666666666,
              "#ed7953"
             ],
             [
              0.7777777777777778,
              "#fb9f3a"
             ],
             [
              0.8888888888888888,
              "#fdca26"
             ],
             [
              1,
              "#f0f921"
             ]
            ],
            "type": "histogram2dcontour"
           }
          ],
          "mesh3d": [
           {
            "colorbar": {
             "outlinewidth": 0,
             "ticks": ""
            },
            "type": "mesh3d"
           }
          ],
          "parcoords": [
           {
            "line": {
             "colorbar": {
              "outlinewidth": 0,
              "ticks": ""
             }
            },
            "type": "parcoords"
           }
          ],
          "pie": [
           {
            "automargin": true,
            "type": "pie"
           }
          ],
          "scatter": [
           {
            "fillpattern": {
             "fillmode": "overlay",
             "size": 10,
             "solidity": 0.2
            },
            "type": "scatter"
           }
          ],
          "scatter3d": [
           {
            "line": {
             "colorbar": {
              "outlinewidth": 0,
              "ticks": ""
             }
            },
            "marker": {
             "colorbar": {
              "outlinewidth": 0,
              "ticks": ""
             }
            },
            "type": "scatter3d"
           }
          ],
          "scattercarpet": [
           {
            "marker": {
             "colorbar": {
              "outlinewidth": 0,
              "ticks": ""
             }
            },
            "type": "scattercarpet"
           }
          ],
          "scattergeo": [
           {
            "marker": {
             "colorbar": {
              "outlinewidth": 0,
              "ticks": ""
             }
            },
            "type": "scattergeo"
           }
          ],
          "scattergl": [
           {
            "marker": {
             "colorbar": {
              "outlinewidth": 0,
              "ticks": ""
             }
            },
            "type": "scattergl"
           }
          ],
          "scattermapbox": [
           {
            "marker": {
             "colorbar": {
              "outlinewidth": 0,
              "ticks": ""
             }
            },
            "type": "scattermapbox"
           }
          ],
          "scatterpolar": [
           {
            "marker": {
             "colorbar": {
              "outlinewidth": 0,
              "ticks": ""
             }
            },
            "type": "scatterpolar"
           }
          ],
          "scatterpolargl": [
           {
            "marker": {
             "colorbar": {
              "outlinewidth": 0,
              "ticks": ""
             }
            },
            "type": "scatterpolargl"
           }
          ],
          "scatterternary": [
           {
            "marker": {
             "colorbar": {
              "outlinewidth": 0,
              "ticks": ""
             }
            },
            "type": "scatterternary"
           }
          ],
          "surface": [
           {
            "colorbar": {
             "outlinewidth": 0,
             "ticks": ""
            },
            "colorscale": [
             [
              0,
              "#0d0887"
             ],
             [
              0.1111111111111111,
              "#46039f"
             ],
             [
              0.2222222222222222,
              "#7201a8"
             ],
             [
              0.3333333333333333,
              "#9c179e"
             ],
             [
              0.4444444444444444,
              "#bd3786"
             ],
             [
              0.5555555555555556,
              "#d8576b"
             ],
             [
              0.6666666666666666,
              "#ed7953"
             ],
             [
              0.7777777777777778,
              "#fb9f3a"
             ],
             [
              0.8888888888888888,
              "#fdca26"
             ],
             [
              1,
              "#f0f921"
             ]
            ],
            "type": "surface"
           }
          ],
          "table": [
           {
            "cells": {
             "fill": {
              "color": "#EBF0F8"
             },
             "line": {
              "color": "white"
             }
            },
            "header": {
             "fill": {
              "color": "#C8D4E3"
             },
             "line": {
              "color": "white"
             }
            },
            "type": "table"
           }
          ]
         },
         "layout": {
          "annotationdefaults": {
           "arrowcolor": "#2a3f5f",
           "arrowhead": 0,
           "arrowwidth": 1
          },
          "autotypenumbers": "strict",
          "coloraxis": {
           "colorbar": {
            "outlinewidth": 0,
            "ticks": ""
           }
          },
          "colorscale": {
           "diverging": [
            [
             0,
             "#8e0152"
            ],
            [
             0.1,
             "#c51b7d"
            ],
            [
             0.2,
             "#de77ae"
            ],
            [
             0.3,
             "#f1b6da"
            ],
            [
             0.4,
             "#fde0ef"
            ],
            [
             0.5,
             "#f7f7f7"
            ],
            [
             0.6,
             "#e6f5d0"
            ],
            [
             0.7,
             "#b8e186"
            ],
            [
             0.8,
             "#7fbc41"
            ],
            [
             0.9,
             "#4d9221"
            ],
            [
             1,
             "#276419"
            ]
           ],
           "sequential": [
            [
             0,
             "#0d0887"
            ],
            [
             0.1111111111111111,
             "#46039f"
            ],
            [
             0.2222222222222222,
             "#7201a8"
            ],
            [
             0.3333333333333333,
             "#9c179e"
            ],
            [
             0.4444444444444444,
             "#bd3786"
            ],
            [
             0.5555555555555556,
             "#d8576b"
            ],
            [
             0.6666666666666666,
             "#ed7953"
            ],
            [
             0.7777777777777778,
             "#fb9f3a"
            ],
            [
             0.8888888888888888,
             "#fdca26"
            ],
            [
             1,
             "#f0f921"
            ]
           ],
           "sequentialminus": [
            [
             0,
             "#0d0887"
            ],
            [
             0.1111111111111111,
             "#46039f"
            ],
            [
             0.2222222222222222,
             "#7201a8"
            ],
            [
             0.3333333333333333,
             "#9c179e"
            ],
            [
             0.4444444444444444,
             "#bd3786"
            ],
            [
             0.5555555555555556,
             "#d8576b"
            ],
            [
             0.6666666666666666,
             "#ed7953"
            ],
            [
             0.7777777777777778,
             "#fb9f3a"
            ],
            [
             0.8888888888888888,
             "#fdca26"
            ],
            [
             1,
             "#f0f921"
            ]
           ]
          },
          "colorway": [
           "#636efa",
           "#EF553B",
           "#00cc96",
           "#ab63fa",
           "#FFA15A",
           "#19d3f3",
           "#FF6692",
           "#B6E880",
           "#FF97FF",
           "#FECB52"
          ],
          "font": {
           "color": "#2a3f5f"
          },
          "geo": {
           "bgcolor": "white",
           "lakecolor": "white",
           "landcolor": "#E5ECF6",
           "showlakes": true,
           "showland": true,
           "subunitcolor": "white"
          },
          "hoverlabel": {
           "align": "left"
          },
          "hovermode": "closest",
          "mapbox": {
           "style": "light"
          },
          "paper_bgcolor": "white",
          "plot_bgcolor": "#E5ECF6",
          "polar": {
           "angularaxis": {
            "gridcolor": "white",
            "linecolor": "white",
            "ticks": ""
           },
           "bgcolor": "#E5ECF6",
           "radialaxis": {
            "gridcolor": "white",
            "linecolor": "white",
            "ticks": ""
           }
          },
          "scene": {
           "xaxis": {
            "backgroundcolor": "#E5ECF6",
            "gridcolor": "white",
            "gridwidth": 2,
            "linecolor": "white",
            "showbackground": true,
            "ticks": "",
            "zerolinecolor": "white"
           },
           "yaxis": {
            "backgroundcolor": "#E5ECF6",
            "gridcolor": "white",
            "gridwidth": 2,
            "linecolor": "white",
            "showbackground": true,
            "ticks": "",
            "zerolinecolor": "white"
           },
           "zaxis": {
            "backgroundcolor": "#E5ECF6",
            "gridcolor": "white",
            "gridwidth": 2,
            "linecolor": "white",
            "showbackground": true,
            "ticks": "",
            "zerolinecolor": "white"
           }
          },
          "shapedefaults": {
           "line": {
            "color": "#2a3f5f"
           }
          },
          "ternary": {
           "aaxis": {
            "gridcolor": "white",
            "linecolor": "white",
            "ticks": ""
           },
           "baxis": {
            "gridcolor": "white",
            "linecolor": "white",
            "ticks": ""
           },
           "bgcolor": "#E5ECF6",
           "caxis": {
            "gridcolor": "white",
            "linecolor": "white",
            "ticks": ""
           }
          },
          "title": {
           "x": 0.05
          },
          "xaxis": {
           "automargin": true,
           "gridcolor": "white",
           "linecolor": "white",
           "ticks": "",
           "title": {
            "standoff": 15
           },
           "zerolinecolor": "white",
           "zerolinewidth": 2
          },
          "yaxis": {
           "automargin": true,
           "gridcolor": "white",
           "linecolor": "white",
           "ticks": "",
           "title": {
            "standoff": 15
           },
           "zerolinecolor": "white",
           "zerolinewidth": 2
          }
         }
        },
        "xaxis": {
         "anchor": "y",
         "domain": [
          0,
          1
         ]
        },
        "yaxis": {
         "anchor": "x",
         "domain": [
          0,
          1
         ]
        }
       }
      }
     },
     "metadata": {},
     "output_type": "display_data"
    }
   ],
   "source": [
    "url='https://scontent.cdninstagram.com/v/t51.29350-15/321072428_5156993421067071_8697996024193895709_n.jpg?_nc_cat=110&ccb=1-7&_nc_sid=8ae9d6&_nc_ohc=bRwhYh0svV0AX9aFin_&_nc_ht=scontent.cdninstagram.com&edm=AM6HXa8EAAAA&oh=00_AfDQsOX-udBxLwlg4oah2zNGU-nHWix3apSl-D04cSZEgQ&oe=63ECA89F'\n",
    "\n",
    "img = io.imread(url)\n",
    "fig = px.imshow(img)\n",
    "fig.show()"
   ]
  },
  {
   "attachments": {},
   "cell_type": "markdown",
   "metadata": {},
   "source": [
    "## Load processed data as dataframe"
   ]
  },
  {
   "cell_type": "code",
   "execution_count": 23,
   "metadata": {},
   "outputs": [
    {
     "name": "stdout",
     "output_type": "stream",
     "text": [
      "Dataframe shape:  (41, 18)\n",
      "Time completed: 2023-02-11 22:08:31.114114\n"
     ]
    }
   ],
   "source": [
    "path = r'C:\\Users\\silvh\\OneDrive\\lighthouse\\portfolio-projects\\online-PT-social-media-NLP\\data\\interim'\n",
    "df2022_processed = load_csv('my_ig_posts_2022_pulled_2023-02-11_processed.csv', path, column1_as_index=True)"
   ]
  },
  {
   "cell_type": "code",
   "execution_count": 24,
   "metadata": {},
   "outputs": [
    {
     "data": {
      "text/html": [
       "<div>\n",
       "<style scoped>\n",
       "    .dataframe tbody tr th:only-of-type {\n",
       "        vertical-align: middle;\n",
       "    }\n",
       "\n",
       "    .dataframe tbody tr th {\n",
       "        vertical-align: top;\n",
       "    }\n",
       "\n",
       "    .dataframe thead th {\n",
       "        text-align: right;\n",
       "    }\n",
       "</style>\n",
       "<table border=\"1\" class=\"dataframe\">\n",
       "  <thead>\n",
       "    <tr style=\"text-align: right;\">\n",
       "      <th></th>\n",
       "      <th>timestamp</th>\n",
       "      <th>caption</th>\n",
       "      <th>like_count</th>\n",
       "      <th>comments_count</th>\n",
       "      <th>media_type</th>\n",
       "      <th>media_product_type</th>\n",
       "      <th>media_url</th>\n",
       "      <th>permalink</th>\n",
       "      <th>id</th>\n",
       "      <th>comments.data</th>\n",
       "      <th>thumbnail_url</th>\n",
       "      <th>date</th>\n",
       "      <th>year</th>\n",
       "      <th>month</th>\n",
       "      <th>week_of_year</th>\n",
       "      <th>day_of_week</th>\n",
       "      <th>time</th>\n",
       "      <th>hour</th>\n",
       "    </tr>\n",
       "  </thead>\n",
       "  <tbody>\n",
       "    <tr>\n",
       "      <th>0</th>\n",
       "      <td>2022-12-30 02:05:19+00:00</td>\n",
       "      <td>💛</td>\n",
       "      <td>30</td>\n",
       "      <td>0</td>\n",
       "      <td>CAROUSEL_ALBUM</td>\n",
       "      <td>FEED</td>\n",
       "      <td>https://scontent.cdninstagram.com/v/t51.29350-...</td>\n",
       "      <td>https://www.instagram.com/p/CmxlFotJyli/</td>\n",
       "      <td>18336168253034275</td>\n",
       "      <td>NaN</td>\n",
       "      <td>NaN</td>\n",
       "      <td>2022-12-30</td>\n",
       "      <td>2022</td>\n",
       "      <td>12</td>\n",
       "      <td>52</td>\n",
       "      <td>4</td>\n",
       "      <td>02:05:19</td>\n",
       "      <td>2</td>\n",
       "    </tr>\n",
       "    <tr>\n",
       "      <th>1</th>\n",
       "      <td>2022-12-27 20:48:37+00:00</td>\n",
       "      <td>power come responsibility  fitness space  peop...</td>\n",
       "      <td>5</td>\n",
       "      <td>2</td>\n",
       "      <td>IMAGE</td>\n",
       "      <td>FEED</td>\n",
       "      <td>https://scontent.cdninstagram.com/v/t51.29350-...</td>\n",
       "      <td>https://www.instagram.com/p/Cmr3QXSSDdE/</td>\n",
       "      <td>18033248329425680</td>\n",
       "      <td>[{'timestamp': '2022-12-27T21:04:59+0000', 'te...</td>\n",
       "      <td>NaN</td>\n",
       "      <td>2022-12-27</td>\n",
       "      <td>2022</td>\n",
       "      <td>12</td>\n",
       "      <td>52</td>\n",
       "      <td>1</td>\n",
       "      <td>20:48:37</td>\n",
       "      <td>20</td>\n",
       "    </tr>\n",
       "    <tr>\n",
       "      <th>2</th>\n",
       "      <td>2022-12-27 03:31:51+00:00</td>\n",
       "      <td>podcast fee mostly fill podcast data science  ...</td>\n",
       "      <td>5</td>\n",
       "      <td>1</td>\n",
       "      <td>IMAGE</td>\n",
       "      <td>FEED</td>\n",
       "      <td>https://scontent.cdninstagram.com/v/t51.29350-...</td>\n",
       "      <td>https://www.instagram.com/p/CmqAm0tL1u1/</td>\n",
       "      <td>17980063225869664</td>\n",
       "      <td>[{'timestamp': '2022-12-28T16:45:59+0000', 'te...</td>\n",
       "      <td>NaN</td>\n",
       "      <td>2022-12-27</td>\n",
       "      <td>2022</td>\n",
       "      <td>12</td>\n",
       "      <td>52</td>\n",
       "      <td>1</td>\n",
       "      <td>03:31:51</td>\n",
       "      <td>3</td>\n",
       "    </tr>\n",
       "  </tbody>\n",
       "</table>\n",
       "</div>"
      ],
      "text/plain": [
       "                   timestamp  \\\n",
       "0  2022-12-30 02:05:19+00:00   \n",
       "1  2022-12-27 20:48:37+00:00   \n",
       "2  2022-12-27 03:31:51+00:00   \n",
       "\n",
       "                                             caption  like_count  \\\n",
       "0                                                 💛           30   \n",
       "1  power come responsibility  fitness space  peop...           5   \n",
       "2  podcast fee mostly fill podcast data science  ...           5   \n",
       "\n",
       "   comments_count      media_type media_product_type  \\\n",
       "0               0  CAROUSEL_ALBUM               FEED   \n",
       "1               2           IMAGE               FEED   \n",
       "2               1           IMAGE               FEED   \n",
       "\n",
       "                                           media_url  \\\n",
       "0  https://scontent.cdninstagram.com/v/t51.29350-...   \n",
       "1  https://scontent.cdninstagram.com/v/t51.29350-...   \n",
       "2  https://scontent.cdninstagram.com/v/t51.29350-...   \n",
       "\n",
       "                                  permalink                 id  \\\n",
       "0  https://www.instagram.com/p/CmxlFotJyli/  18336168253034275   \n",
       "1  https://www.instagram.com/p/Cmr3QXSSDdE/  18033248329425680   \n",
       "2  https://www.instagram.com/p/CmqAm0tL1u1/  17980063225869664   \n",
       "\n",
       "                                       comments.data thumbnail_url  \\\n",
       "0                                                NaN           NaN   \n",
       "1  [{'timestamp': '2022-12-27T21:04:59+0000', 'te...           NaN   \n",
       "2  [{'timestamp': '2022-12-28T16:45:59+0000', 'te...           NaN   \n",
       "\n",
       "         date  year  month  week_of_year  day_of_week      time  hour  \n",
       "0  2022-12-30  2022     12            52            4  02:05:19     2  \n",
       "1  2022-12-27  2022     12            52            1  20:48:37    20  \n",
       "2  2022-12-27  2022     12            52            1  03:31:51     3  "
      ]
     },
     "execution_count": 24,
     "metadata": {},
     "output_type": "execute_result"
    }
   ],
   "source": [
    "df2022_processed.head(3)"
   ]
  },
  {
   "attachments": {},
   "cell_type": "markdown",
   "metadata": {},
   "source": [
    "## Plot images"
   ]
  },
  {
   "cell_type": "code",
   "execution_count": 51,
   "metadata": {},
   "outputs": [
    {
     "name": "stdout",
     "output_type": "stream",
     "text": [
      "0 : https://scontent.cdninstagram.com/v/t51.29350-15/306944615_628329095522932_7384461444504562161_n.jpg?_nc_cat=110&ccb=1-7&_nc_sid=8ae9d6&_nc_ohc=diZ9vtlM2Z0AX-JPmY0&_nc_ht=scontent.cdninstagram.com&edm=AM6HXa8EAAAA&oh=00_AfCS7ZIsr7QxsRgdJat0RoBPzxr4ki5qGjx4UA_TjfOU5w&oe=63ED145F\n",
      "1 : https://scontent.cdninstagram.com/v/t51.29350-15/272823187_296325119146031_3389369555818353560_n.jpg?_nc_cat=108&ccb=1-7&_nc_sid=8ae9d6&_nc_ohc=GK2rf1Hn638AX-cAkHL&_nc_ht=scontent.cdninstagram.com&edm=AM6HXa8EAAAA&oh=00_AfBgNqOF4r5iogBn6GYwOc0nknDKcZ-oKl6LYpRQBVeWJQ&oe=63EC848E\n"
     ]
    },
    {
     "data": {
      "application/vnd.plotly.v1+json": {
       "config": {
        "plotlyServerURL": "https://plot.ly"
       },
       "data": [],
       "layout": {
        "template": {
         "data": {
          "bar": [
           {
            "error_x": {
             "color": "#2a3f5f"
            },
            "error_y": {
             "color": "#2a3f5f"
            },
            "marker": {
             "line": {
              "color": "#E5ECF6",
              "width": 0.5
             },
             "pattern": {
              "fillmode": "overlay",
              "size": 10,
              "solidity": 0.2
             }
            },
            "type": "bar"
           }
          ],
          "barpolar": [
           {
            "marker": {
             "line": {
              "color": "#E5ECF6",
              "width": 0.5
             },
             "pattern": {
              "fillmode": "overlay",
              "size": 10,
              "solidity": 0.2
             }
            },
            "type": "barpolar"
           }
          ],
          "carpet": [
           {
            "aaxis": {
             "endlinecolor": "#2a3f5f",
             "gridcolor": "white",
             "linecolor": "white",
             "minorgridcolor": "white",
             "startlinecolor": "#2a3f5f"
            },
            "baxis": {
             "endlinecolor": "#2a3f5f",
             "gridcolor": "white",
             "linecolor": "white",
             "minorgridcolor": "white",
             "startlinecolor": "#2a3f5f"
            },
            "type": "carpet"
           }
          ],
          "choropleth": [
           {
            "colorbar": {
             "outlinewidth": 0,
             "ticks": ""
            },
            "type": "choropleth"
           }
          ],
          "contour": [
           {
            "colorbar": {
             "outlinewidth": 0,
             "ticks": ""
            },
            "colorscale": [
             [
              0,
              "#0d0887"
             ],
             [
              0.1111111111111111,
              "#46039f"
             ],
             [
              0.2222222222222222,
              "#7201a8"
             ],
             [
              0.3333333333333333,
              "#9c179e"
             ],
             [
              0.4444444444444444,
              "#bd3786"
             ],
             [
              0.5555555555555556,
              "#d8576b"
             ],
             [
              0.6666666666666666,
              "#ed7953"
             ],
             [
              0.7777777777777778,
              "#fb9f3a"
             ],
             [
              0.8888888888888888,
              "#fdca26"
             ],
             [
              1,
              "#f0f921"
             ]
            ],
            "type": "contour"
           }
          ],
          "contourcarpet": [
           {
            "colorbar": {
             "outlinewidth": 0,
             "ticks": ""
            },
            "type": "contourcarpet"
           }
          ],
          "heatmap": [
           {
            "colorbar": {
             "outlinewidth": 0,
             "ticks": ""
            },
            "colorscale": [
             [
              0,
              "#0d0887"
             ],
             [
              0.1111111111111111,
              "#46039f"
             ],
             [
              0.2222222222222222,
              "#7201a8"
             ],
             [
              0.3333333333333333,
              "#9c179e"
             ],
             [
              0.4444444444444444,
              "#bd3786"
             ],
             [
              0.5555555555555556,
              "#d8576b"
             ],
             [
              0.6666666666666666,
              "#ed7953"
             ],
             [
              0.7777777777777778,
              "#fb9f3a"
             ],
             [
              0.8888888888888888,
              "#fdca26"
             ],
             [
              1,
              "#f0f921"
             ]
            ],
            "type": "heatmap"
           }
          ],
          "heatmapgl": [
           {
            "colorbar": {
             "outlinewidth": 0,
             "ticks": ""
            },
            "colorscale": [
             [
              0,
              "#0d0887"
             ],
             [
              0.1111111111111111,
              "#46039f"
             ],
             [
              0.2222222222222222,
              "#7201a8"
             ],
             [
              0.3333333333333333,
              "#9c179e"
             ],
             [
              0.4444444444444444,
              "#bd3786"
             ],
             [
              0.5555555555555556,
              "#d8576b"
             ],
             [
              0.6666666666666666,
              "#ed7953"
             ],
             [
              0.7777777777777778,
              "#fb9f3a"
             ],
             [
              0.8888888888888888,
              "#fdca26"
             ],
             [
              1,
              "#f0f921"
             ]
            ],
            "type": "heatmapgl"
           }
          ],
          "histogram": [
           {
            "marker": {
             "pattern": {
              "fillmode": "overlay",
              "size": 10,
              "solidity": 0.2
             }
            },
            "type": "histogram"
           }
          ],
          "histogram2d": [
           {
            "colorbar": {
             "outlinewidth": 0,
             "ticks": ""
            },
            "colorscale": [
             [
              0,
              "#0d0887"
             ],
             [
              0.1111111111111111,
              "#46039f"
             ],
             [
              0.2222222222222222,
              "#7201a8"
             ],
             [
              0.3333333333333333,
              "#9c179e"
             ],
             [
              0.4444444444444444,
              "#bd3786"
             ],
             [
              0.5555555555555556,
              "#d8576b"
             ],
             [
              0.6666666666666666,
              "#ed7953"
             ],
             [
              0.7777777777777778,
              "#fb9f3a"
             ],
             [
              0.8888888888888888,
              "#fdca26"
             ],
             [
              1,
              "#f0f921"
             ]
            ],
            "type": "histogram2d"
           }
          ],
          "histogram2dcontour": [
           {
            "colorbar": {
             "outlinewidth": 0,
             "ticks": ""
            },
            "colorscale": [
             [
              0,
              "#0d0887"
             ],
             [
              0.1111111111111111,
              "#46039f"
             ],
             [
              0.2222222222222222,
              "#7201a8"
             ],
             [
              0.3333333333333333,
              "#9c179e"
             ],
             [
              0.4444444444444444,
              "#bd3786"
             ],
             [
              0.5555555555555556,
              "#d8576b"
             ],
             [
              0.6666666666666666,
              "#ed7953"
             ],
             [
              0.7777777777777778,
              "#fb9f3a"
             ],
             [
              0.8888888888888888,
              "#fdca26"
             ],
             [
              1,
              "#f0f921"
             ]
            ],
            "type": "histogram2dcontour"
           }
          ],
          "mesh3d": [
           {
            "colorbar": {
             "outlinewidth": 0,
             "ticks": ""
            },
            "type": "mesh3d"
           }
          ],
          "parcoords": [
           {
            "line": {
             "colorbar": {
              "outlinewidth": 0,
              "ticks": ""
             }
            },
            "type": "parcoords"
           }
          ],
          "pie": [
           {
            "automargin": true,
            "type": "pie"
           }
          ],
          "scatter": [
           {
            "fillpattern": {
             "fillmode": "overlay",
             "size": 10,
             "solidity": 0.2
            },
            "type": "scatter"
           }
          ],
          "scatter3d": [
           {
            "line": {
             "colorbar": {
              "outlinewidth": 0,
              "ticks": ""
             }
            },
            "marker": {
             "colorbar": {
              "outlinewidth": 0,
              "ticks": ""
             }
            },
            "type": "scatter3d"
           }
          ],
          "scattercarpet": [
           {
            "marker": {
             "colorbar": {
              "outlinewidth": 0,
              "ticks": ""
             }
            },
            "type": "scattercarpet"
           }
          ],
          "scattergeo": [
           {
            "marker": {
             "colorbar": {
              "outlinewidth": 0,
              "ticks": ""
             }
            },
            "type": "scattergeo"
           }
          ],
          "scattergl": [
           {
            "marker": {
             "colorbar": {
              "outlinewidth": 0,
              "ticks": ""
             }
            },
            "type": "scattergl"
           }
          ],
          "scattermapbox": [
           {
            "marker": {
             "colorbar": {
              "outlinewidth": 0,
              "ticks": ""
             }
            },
            "type": "scattermapbox"
           }
          ],
          "scatterpolar": [
           {
            "marker": {
             "colorbar": {
              "outlinewidth": 0,
              "ticks": ""
             }
            },
            "type": "scatterpolar"
           }
          ],
          "scatterpolargl": [
           {
            "marker": {
             "colorbar": {
              "outlinewidth": 0,
              "ticks": ""
             }
            },
            "type": "scatterpolargl"
           }
          ],
          "scatterternary": [
           {
            "marker": {
             "colorbar": {
              "outlinewidth": 0,
              "ticks": ""
             }
            },
            "type": "scatterternary"
           }
          ],
          "surface": [
           {
            "colorbar": {
             "outlinewidth": 0,
             "ticks": ""
            },
            "colorscale": [
             [
              0,
              "#0d0887"
             ],
             [
              0.1111111111111111,
              "#46039f"
             ],
             [
              0.2222222222222222,
              "#7201a8"
             ],
             [
              0.3333333333333333,
              "#9c179e"
             ],
             [
              0.4444444444444444,
              "#bd3786"
             ],
             [
              0.5555555555555556,
              "#d8576b"
             ],
             [
              0.6666666666666666,
              "#ed7953"
             ],
             [
              0.7777777777777778,
              "#fb9f3a"
             ],
             [
              0.8888888888888888,
              "#fdca26"
             ],
             [
              1,
              "#f0f921"
             ]
            ],
            "type": "surface"
           }
          ],
          "table": [
           {
            "cells": {
             "fill": {
              "color": "#EBF0F8"
             },
             "line": {
              "color": "white"
             }
            },
            "header": {
             "fill": {
              "color": "#C8D4E3"
             },
             "line": {
              "color": "white"
             }
            },
            "type": "table"
           }
          ]
         },
         "layout": {
          "annotationdefaults": {
           "arrowcolor": "#2a3f5f",
           "arrowhead": 0,
           "arrowwidth": 1
          },
          "autotypenumbers": "strict",
          "coloraxis": {
           "colorbar": {
            "outlinewidth": 0,
            "ticks": ""
           }
          },
          "colorscale": {
           "diverging": [
            [
             0,
             "#8e0152"
            ],
            [
             0.1,
             "#c51b7d"
            ],
            [
             0.2,
             "#de77ae"
            ],
            [
             0.3,
             "#f1b6da"
            ],
            [
             0.4,
             "#fde0ef"
            ],
            [
             0.5,
             "#f7f7f7"
            ],
            [
             0.6,
             "#e6f5d0"
            ],
            [
             0.7,
             "#b8e186"
            ],
            [
             0.8,
             "#7fbc41"
            ],
            [
             0.9,
             "#4d9221"
            ],
            [
             1,
             "#276419"
            ]
           ],
           "sequential": [
            [
             0,
             "#0d0887"
            ],
            [
             0.1111111111111111,
             "#46039f"
            ],
            [
             0.2222222222222222,
             "#7201a8"
            ],
            [
             0.3333333333333333,
             "#9c179e"
            ],
            [
             0.4444444444444444,
             "#bd3786"
            ],
            [
             0.5555555555555556,
             "#d8576b"
            ],
            [
             0.6666666666666666,
             "#ed7953"
            ],
            [
             0.7777777777777778,
             "#fb9f3a"
            ],
            [
             0.8888888888888888,
             "#fdca26"
            ],
            [
             1,
             "#f0f921"
            ]
           ],
           "sequentialminus": [
            [
             0,
             "#0d0887"
            ],
            [
             0.1111111111111111,
             "#46039f"
            ],
            [
             0.2222222222222222,
             "#7201a8"
            ],
            [
             0.3333333333333333,
             "#9c179e"
            ],
            [
             0.4444444444444444,
             "#bd3786"
            ],
            [
             0.5555555555555556,
             "#d8576b"
            ],
            [
             0.6666666666666666,
             "#ed7953"
            ],
            [
             0.7777777777777778,
             "#fb9f3a"
            ],
            [
             0.8888888888888888,
             "#fdca26"
            ],
            [
             1,
             "#f0f921"
            ]
           ]
          },
          "colorway": [
           "#636efa",
           "#EF553B",
           "#00cc96",
           "#ab63fa",
           "#FFA15A",
           "#19d3f3",
           "#FF6692",
           "#B6E880",
           "#FF97FF",
           "#FECB52"
          ],
          "font": {
           "color": "#2a3f5f"
          },
          "geo": {
           "bgcolor": "white",
           "lakecolor": "white",
           "landcolor": "#E5ECF6",
           "showlakes": true,
           "showland": true,
           "subunitcolor": "white"
          },
          "hoverlabel": {
           "align": "left"
          },
          "hovermode": "closest",
          "mapbox": {
           "style": "light"
          },
          "paper_bgcolor": "white",
          "plot_bgcolor": "#E5ECF6",
          "polar": {
           "angularaxis": {
            "gridcolor": "white",
            "linecolor": "white",
            "ticks": ""
           },
           "bgcolor": "#E5ECF6",
           "radialaxis": {
            "gridcolor": "white",
            "linecolor": "white",
            "ticks": ""
           }
          },
          "scene": {
           "xaxis": {
            "backgroundcolor": "#E5ECF6",
            "gridcolor": "white",
            "gridwidth": 2,
            "linecolor": "white",
            "showbackground": true,
            "ticks": "",
            "zerolinecolor": "white"
           },
           "yaxis": {
            "backgroundcolor": "#E5ECF6",
            "gridcolor": "white",
            "gridwidth": 2,
            "linecolor": "white",
            "showbackground": true,
            "ticks": "",
            "zerolinecolor": "white"
           },
           "zaxis": {
            "backgroundcolor": "#E5ECF6",
            "gridcolor": "white",
            "gridwidth": 2,
            "linecolor": "white",
            "showbackground": true,
            "ticks": "",
            "zerolinecolor": "white"
           }
          },
          "shapedefaults": {
           "line": {
            "color": "#2a3f5f"
           }
          },
          "ternary": {
           "aaxis": {
            "gridcolor": "white",
            "linecolor": "white",
            "ticks": ""
           },
           "baxis": {
            "gridcolor": "white",
            "linecolor": "white",
            "ticks": ""
           },
           "bgcolor": "#E5ECF6",
           "caxis": {
            "gridcolor": "white",
            "linecolor": "white",
            "ticks": ""
           }
          },
          "title": {
           "x": 0.05
          },
          "xaxis": {
           "automargin": true,
           "gridcolor": "white",
           "linecolor": "white",
           "ticks": "",
           "title": {
            "standoff": 15
           },
           "zerolinecolor": "white",
           "zerolinewidth": 2
          },
          "yaxis": {
           "automargin": true,
           "gridcolor": "white",
           "linecolor": "white",
           "ticks": "",
           "title": {
            "standoff": 15
           },
           "zerolinecolor": "white",
           "zerolinewidth": 2
          }
         }
        },
        "xaxis": {
         "anchor": "y",
         "domain": [
          0,
          0.45
         ]
        },
        "xaxis2": {
         "anchor": "y2",
         "domain": [
          0.55,
          1
         ]
        },
        "yaxis": {
         "anchor": "x",
         "domain": [
          0,
          1
         ]
        },
        "yaxis2": {
         "anchor": "x2",
         "domain": [
          0,
          1
         ]
        }
       }
      }
     },
     "metadata": {},
     "output_type": "display_data"
    }
   ],
   "source": [
    "from plotly.subplots import make_subplots\n",
    "import plotly.graph_objects as go\n",
    "from skimage import io\n",
    "\n",
    "def plot_images(df, n=5, top=True):\n",
    "    ncols = n if n<5 else 5\n",
    "    nrows = (n + ncols - 1) // ncols\n",
    "    sort_by = ['like_count']\n",
    "    posts = df.sort_values(by=sort_by, ascending=False if top else True).head(n)\n",
    "    posts['thumbnail_url'].fillna(posts['media_url'], inplace=True)\n",
    "\n",
    "    fig = make_subplots(rows=nrows, cols=ncols)\n",
    "    # fig.add_trace(go.Image(z=img), 1,1)\n",
    "    for index, url in enumerate(posts['thumbnail_url']):\n",
    "        print(index,':', url)\n",
    "        # print(index, post)\n",
    "    fig.show()\n",
    "    return posts\n",
    "\n",
    "posts = plot_images(df2022_processed, n=2)"
   ]
  },
  {
   "cell_type": "code",
   "execution_count": 52,
   "metadata": {},
   "outputs": [
    {
     "data": {
      "text/html": [
       "<div>\n",
       "<style scoped>\n",
       "    .dataframe tbody tr th:only-of-type {\n",
       "        vertical-align: middle;\n",
       "    }\n",
       "\n",
       "    .dataframe tbody tr th {\n",
       "        vertical-align: top;\n",
       "    }\n",
       "\n",
       "    .dataframe thead th {\n",
       "        text-align: right;\n",
       "    }\n",
       "</style>\n",
       "<table border=\"1\" class=\"dataframe\">\n",
       "  <thead>\n",
       "    <tr style=\"text-align: right;\">\n",
       "      <th></th>\n",
       "      <th>timestamp</th>\n",
       "      <th>caption</th>\n",
       "      <th>like_count</th>\n",
       "      <th>comments_count</th>\n",
       "      <th>media_type</th>\n",
       "      <th>media_product_type</th>\n",
       "      <th>media_url</th>\n",
       "      <th>permalink</th>\n",
       "      <th>id</th>\n",
       "      <th>comments.data</th>\n",
       "      <th>thumbnail_url</th>\n",
       "      <th>date</th>\n",
       "      <th>year</th>\n",
       "      <th>month</th>\n",
       "      <th>week_of_year</th>\n",
       "      <th>day_of_week</th>\n",
       "      <th>time</th>\n",
       "      <th>hour</th>\n",
       "    </tr>\n",
       "  </thead>\n",
       "  <tbody>\n",
       "    <tr>\n",
       "      <th>11</th>\n",
       "      <td>2022-09-16 19:44:31+00:00</td>\n",
       "      <td>yell improve strength  thank &lt;Handle&gt;  coach t...</td>\n",
       "      <td>201</td>\n",
       "      <td>8</td>\n",
       "      <td>VIDEO</td>\n",
       "      <td>REELS</td>\n",
       "      <td>https://video.cdninstagram.com/v/t50.33967-16/...</td>\n",
       "      <td>https://www.instagram.com/reel/CilGehzAgG3/</td>\n",
       "      <td>17959530130960346</td>\n",
       "      <td>[{'timestamp': '2022-10-25T19:20:29+0000', 'te...</td>\n",
       "      <td>https://scontent.cdninstagram.com/v/t51.29350-...</td>\n",
       "      <td>2022-09-16</td>\n",
       "      <td>2022</td>\n",
       "      <td>9</td>\n",
       "      <td>37</td>\n",
       "      <td>4</td>\n",
       "      <td>19:44:31</td>\n",
       "      <td>19</td>\n",
       "    </tr>\n",
       "    <tr>\n",
       "      <th>39</th>\n",
       "      <td>2022-01-29 23:37:52+00:00</td>\n",
       "      <td>couple time someone ￼recognized mask  impress ...</td>\n",
       "      <td>64</td>\n",
       "      <td>4</td>\n",
       "      <td>IMAGE</td>\n",
       "      <td>FEED</td>\n",
       "      <td>https://scontent.cdninstagram.com/v/t51.29350-...</td>\n",
       "      <td>https://www.instagram.com/p/CZVStgnvrAn/</td>\n",
       "      <td>18148518601242451</td>\n",
       "      <td>[{'timestamp': '2022-01-30T01:26:16+0000', 'te...</td>\n",
       "      <td>https://scontent.cdninstagram.com/v/t51.29350-...</td>\n",
       "      <td>2022-01-29</td>\n",
       "      <td>2022</td>\n",
       "      <td>1</td>\n",
       "      <td>4</td>\n",
       "      <td>5</td>\n",
       "      <td>23:37:52</td>\n",
       "      <td>23</td>\n",
       "    </tr>\n",
       "  </tbody>\n",
       "</table>\n",
       "</div>"
      ],
      "text/plain": [
       "                    timestamp  \\\n",
       "11  2022-09-16 19:44:31+00:00   \n",
       "39  2022-01-29 23:37:52+00:00   \n",
       "\n",
       "                                              caption  like_count  \\\n",
       "11  yell improve strength  thank <Handle>  coach t...         201   \n",
       "39  couple time someone ￼recognized mask  impress ...          64   \n",
       "\n",
       "    comments_count media_type media_product_type  \\\n",
       "11               8      VIDEO              REELS   \n",
       "39               4      IMAGE               FEED   \n",
       "\n",
       "                                            media_url  \\\n",
       "11  https://video.cdninstagram.com/v/t50.33967-16/...   \n",
       "39  https://scontent.cdninstagram.com/v/t51.29350-...   \n",
       "\n",
       "                                      permalink                 id  \\\n",
       "11  https://www.instagram.com/reel/CilGehzAgG3/  17959530130960346   \n",
       "39     https://www.instagram.com/p/CZVStgnvrAn/  18148518601242451   \n",
       "\n",
       "                                        comments.data  \\\n",
       "11  [{'timestamp': '2022-10-25T19:20:29+0000', 'te...   \n",
       "39  [{'timestamp': '2022-01-30T01:26:16+0000', 'te...   \n",
       "\n",
       "                                        thumbnail_url        date  year  \\\n",
       "11  https://scontent.cdninstagram.com/v/t51.29350-...  2022-09-16  2022   \n",
       "39  https://scontent.cdninstagram.com/v/t51.29350-...  2022-01-29  2022   \n",
       "\n",
       "    month  week_of_year  day_of_week      time  hour  \n",
       "11      9            37            4  19:44:31    19  \n",
       "39      1             4            5  23:37:52    23  "
      ]
     },
     "execution_count": 52,
     "metadata": {},
     "output_type": "execute_result"
    }
   ],
   "source": [
    "posts"
   ]
  },
  {
   "cell_type": "code",
   "execution_count": 20,
   "metadata": {},
   "outputs": [
    {
     "name": "stdout",
     "output_type": "stream",
     "text": [
      "2\n"
     ]
    },
    {
     "data": {
      "text/plain": [
       "3"
      ]
     },
     "execution_count": 20,
     "metadata": {},
     "output_type": "execute_result"
    }
   ],
   "source": [
    "print((6+4)//5)\n",
    "((15+4)//5)"
   ]
  },
  {
   "cell_type": "code",
   "execution_count": null,
   "metadata": {},
   "outputs": [],
   "source": []
  },
  {
   "cell_type": "code",
   "execution_count": null,
   "metadata": {},
   "outputs": [],
   "source": []
  },
  {
   "cell_type": "code",
   "execution_count": null,
   "metadata": {},
   "outputs": [],
   "source": []
  },
  {
   "cell_type": "code",
   "execution_count": null,
   "metadata": {},
   "outputs": [],
   "source": []
  },
  {
   "cell_type": "code",
   "execution_count": null,
   "metadata": {},
   "outputs": [],
   "source": []
  },
  {
   "cell_type": "code",
   "execution_count": null,
   "metadata": {},
   "outputs": [],
   "source": []
  },
  {
   "cell_type": "code",
   "execution_count": null,
   "metadata": {},
   "outputs": [],
   "source": []
  },
  {
   "cell_type": "code",
   "execution_count": null,
   "metadata": {},
   "outputs": [],
   "source": []
  },
  {
   "cell_type": "code",
   "execution_count": null,
   "metadata": {},
   "outputs": [],
   "source": []
  },
  {
   "cell_type": "code",
   "execution_count": null,
   "metadata": {},
   "outputs": [],
   "source": []
  },
  {
   "cell_type": "code",
   "execution_count": null,
   "metadata": {},
   "outputs": [],
   "source": []
  },
  {
   "cell_type": "code",
   "execution_count": null,
   "metadata": {},
   "outputs": [],
   "source": []
  },
  {
   "cell_type": "code",
   "execution_count": null,
   "metadata": {},
   "outputs": [],
   "source": []
  },
  {
   "cell_type": "markdown",
   "metadata": {},
   "source": [
    "# *End of Page*"
   ]
  }
 ],
 "metadata": {
  "kernelspec": {
   "display_name": "Python 3",
   "language": "python",
   "name": "python3"
  },
  "language_info": {
   "codemirror_mode": {
    "name": "ipython",
    "version": 3
   },
   "file_extension": ".py",
   "mimetype": "text/x-python",
   "name": "python",
   "nbconvert_exporter": "python",
   "pygments_lexer": "ipython3",
   "version": "3.9.13"
  },
  "orig_nbformat": 4,
  "vscode": {
   "interpreter": {
    "hash": "86576fc1f72bb8252e2f1578cc878ed2c12b40840637cdef083c8fb979cf67d3"
   }
  }
 },
 "nbformat": 4,
 "nbformat_minor": 2
}
