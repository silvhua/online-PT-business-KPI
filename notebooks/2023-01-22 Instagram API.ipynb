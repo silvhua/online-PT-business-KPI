{
 "cells": [
  {
   "cell_type": "markdown",
   "metadata": {},
   "source": [
    "# Title\n",
    "[]()"
   ]
  },
  {
   "cell_type": "code",
   "execution_count": 1,
   "metadata": {},
   "outputs": [],
   "source": [
    "import pandas as pd\n",
    "import sys\n",
    "sys.path.append(r\"C:\\Users\\silvh\\OneDrive\\lighthouse\\custom_python\")\n",
    "from silvhua import *\n",
    "import pickle\n",
    "import os\n",
    "import requests\n",
    "import json\n",
    "from pandas import json_normalize  "
   ]
  },
  {
   "cell_type": "code",
   "execution_count": 7,
   "metadata": {},
   "outputs": [],
   "source": [
    "sys.path.append(r'C:\\ProgramData\\Anaconda3\\Scripts')\n",
    "sys.path.append(r'C:\\ProgramData\\Anaconda3')\n",
    "sys.path.append(r'C:\\ProgramData\\Anaconda3\\Library\\bin')"
   ]
  },
  {
   "cell_type": "code",
   "execution_count": 12,
   "metadata": {},
   "outputs": [],
   "source": [
    "with open(\"credentials.json\") as f:\n",
    "    credentials = json.load(f)\n",
    "# user_id = os.environ['fb_user_id']"
   ]
  },
  {
   "cell_type": "code",
   "execution_count": null,
   "metadata": {},
   "outputs": [],
   "source": [
    "def get_user_ig_post(ig_user_id, access_token, pages=5, filename=None,\n",
    "    json_path=r'C:\\Users\\silvh\\OneDrive\\lighthouse\\portfolio-projects\\online-PT-social-media-NLP\\data\\raw',\n",
    "    csv_path=r'C:\\Users\\silvh\\OneDrive\\lighthouse\\portfolio-projects\\online-PT-social-media-NLP\\data\\interim'):\n",
    "    user_id = str(ig_user_id)\n",
    "    url_root = \"https://graph.facebook.com/v15.0/\"\n",
    "    # url_without_token = f'{url_root}{ig_user_id}/media?fields=caption%2Ccomments_count%2Cis_shared_to_feed%2Clike_count%2Cmedia_type%2Cmedia_url%2Cmedia_product_type%2Cpermalink%2Ctimestamp%2Ccomments&access_token='\n",
    "    # url_without_token = f'{url_root}{ig_user_id}/media?fields=caption,comments_count,is_shared_to_feed,like_count,media_type,media_url,media_product_type,permalink,timestamp,comments&access_token='\n",
    "    url_without_token = f'{url_root}{ig_user_id}/media?access_token='\n",
    "    url = url_without_token+access_token\n",
    "    print(url_without_token)\n",
    "    response_json_dict = dict()\n",
    "    df_list = []\n",
    "    for page in range(1,pages+1):\n",
    "        response = requests.get(url)\n",
    "        print('Response status code: ',response.status_code)\n",
    "        response_json_dict[page] = response.json()\n",
    "        df_list.append(json_normalize(response_json_dict[page], record_path='data'))\n",
    "        try:\n",
    "            url = response_json_dict[page]['paging']['next']\n",
    "        except: \n",
    "            pass\n",
    "    df = pd.concat(df_list)\n",
    "    print('Number of posts:',len(df))\n",
    "    if filename:\n",
    "        try:\n",
    "            save_csv(df,filename,csv_path)\n",
    "            savepickle(response_json_dict,filename,'sav',json_path)\n",
    "        except:\n",
    "            print('Unable to save outputs')\n",
    "    return df, response_json_dict\n",
    "\n",
    "df_test, response_json_test = get_user_ig_post(credentials['ig_user_id'], \n",
    "        access_token, pages=2, filename='my_ig_posts_2p_2023-01-22')\n",
    "\"\"\"\n",
    "SH 2023-01-22 23:14\n",
    "SSLError: Can't connect to HTTPS URL because the SSL module is not available.\n",
    "\n",
    "During handling of the above exception, another exception occurred:\n",
    "\n",
    "MaxRetryError                             Traceback (most recent call last)\n",
    "File ~\\AppData\\Roaming\\Python\\Python39\\site-packages\\requests\\adapters.py:489, in HTTPAdapter.send(self, request, stream, timeout, verify, cert, proxies)\n",
    "    488 if not chunked:\n",
    "...\n",
    "--> 563         raise SSLError(e, request=request)\n",
    "    565     raise ConnectionError(e, request=request)\n",
    "    567 except ClosedPoolError as e:\n",
    "\n",
    "SSLError: HTTPSConnectionPool(host='graph.facebook.com', port=443): Max retries exceeded with url: /v15.0/17841403231458630?access_token=EAAKEofVXnvEBAFkvIH79iHq39i7tiYOe5LBMvO6kr7pq4iHleW1d763MxoYi2ZANGb3pHm1jwdFZBy2IYsMdBZAV45L3RCnjqjsdVEZA2ui8gkswqWaSZCfBFLeaK0muSbWOGo2Lf6Vu24XaHLZAQVtpfToXT1auPo6s65LOEpMceS6URnnxcDKLEnKdvnKvbCqkVwDEJo57wDxEk80q9JknNcZBKnMzhGEHaNXn7SVeFt9BHdOMfqtPCC8kky2VHwZD (Caused by SSLError(\"Can't connect to HTTPS URL because the SSL module is not available.\"))\n",
    "\"\"\""
   ]
  },
  {
   "cell_type": "code",
   "execution_count": null,
   "metadata": {},
   "outputs": [],
   "source": []
  },
  {
   "cell_type": "code",
   "execution_count": null,
   "metadata": {},
   "outputs": [],
   "source": []
  },
  {
   "cell_type": "code",
   "execution_count": null,
   "metadata": {},
   "outputs": [],
   "source": []
  },
  {
   "cell_type": "code",
   "execution_count": null,
   "metadata": {},
   "outputs": [],
   "source": []
  },
  {
   "cell_type": "code",
   "execution_count": null,
   "metadata": {},
   "outputs": [],
   "source": []
  },
  {
   "cell_type": "code",
   "execution_count": null,
   "metadata": {},
   "outputs": [],
   "source": []
  },
  {
   "cell_type": "code",
   "execution_count": null,
   "metadata": {},
   "outputs": [],
   "source": []
  },
  {
   "cell_type": "code",
   "execution_count": null,
   "metadata": {},
   "outputs": [],
   "source": []
  },
  {
   "cell_type": "code",
   "execution_count": null,
   "metadata": {},
   "outputs": [],
   "source": []
  },
  {
   "cell_type": "code",
   "execution_count": null,
   "metadata": {},
   "outputs": [],
   "source": []
  },
  {
   "cell_type": "code",
   "execution_count": null,
   "metadata": {},
   "outputs": [],
   "source": []
  },
  {
   "cell_type": "code",
   "execution_count": null,
   "metadata": {},
   "outputs": [],
   "source": []
  },
  {
   "cell_type": "code",
   "execution_count": null,
   "metadata": {},
   "outputs": [],
   "source": []
  },
  {
   "cell_type": "code",
   "execution_count": null,
   "metadata": {},
   "outputs": [],
   "source": []
  },
  {
   "cell_type": "code",
   "execution_count": null,
   "metadata": {},
   "outputs": [],
   "source": []
  },
  {
   "cell_type": "code",
   "execution_count": null,
   "metadata": {},
   "outputs": [],
   "source": []
  },
  {
   "cell_type": "code",
   "execution_count": null,
   "metadata": {},
   "outputs": [],
   "source": []
  },
  {
   "cell_type": "code",
   "execution_count": null,
   "metadata": {},
   "outputs": [],
   "source": []
  },
  {
   "cell_type": "code",
   "execution_count": null,
   "metadata": {},
   "outputs": [],
   "source": []
  },
  {
   "cell_type": "code",
   "execution_count": null,
   "metadata": {},
   "outputs": [],
   "source": []
  },
  {
   "cell_type": "markdown",
   "metadata": {},
   "source": [
    "# *End of Page*"
   ]
  }
 ],
 "metadata": {
  "kernelspec": {
   "display_name": "cloudEnv",
   "language": "python",
   "name": "python3"
  },
  "language_info": {
   "codemirror_mode": {
    "name": "ipython",
    "version": 3
   },
   "file_extension": ".py",
   "mimetype": "text/x-python",
   "name": "python",
   "nbconvert_exporter": "python",
   "pygments_lexer": "ipython3",
   "version": "3.9.13"
  },
  "orig_nbformat": 4,
  "vscode": {
   "interpreter": {
    "hash": "86576fc1f72bb8252e2f1578cc878ed2c12b40840637cdef083c8fb979cf67d3"
   }
  }
 },
 "nbformat": 4,
 "nbformat_minor": 2
}
