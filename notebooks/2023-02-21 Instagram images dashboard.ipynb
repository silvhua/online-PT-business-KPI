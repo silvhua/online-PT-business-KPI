{
 "cells": [
  {
   "cell_type": "markdown",
   "metadata": {},
   "source": [
    "# Title\n",
    "[]()"
   ]
  },
  {
   "cell_type": "code",
   "execution_count": 1,
   "metadata": {},
   "outputs": [],
   "source": [
    "import requests\n",
    "import json\n",
    "from pandas import json_normalize  \n",
    "import pandas as pd\n",
    "import sys\n",
    "sys.path.append(r\"C:\\Users\\silvh\\OneDrive\\lighthouse\\custom_python\")\n",
    "sys.path.append(r\"C:\\Users\\silvh\\OneDrive\\lighthouse\\portfolio-projects\\online-PT-social-media-NLP\\src\")\n",
    "from silvhua import *\n",
    "import pickle\n",
    "import os\n"
   ]
  },
  {
   "cell_type": "code",
   "execution_count": 2,
   "metadata": {},
   "outputs": [],
   "source": [
    "from datetime import datetime\n",
    "from plotly.subplots import make_subplots"
   ]
  },
  {
   "cell_type": "markdown",
   "metadata": {},
   "source": [
    "## Load processed data as dataframe"
   ]
  },
  {
   "cell_type": "code",
   "execution_count": 3,
   "metadata": {},
   "outputs": [
    {
     "name": "stdout",
     "output_type": "stream",
     "text": [
      "Time completed: 2023-02-22 23:44:52.723483\n"
     ]
    },
    {
     "data": {
      "text/plain": [
       "2"
      ]
     },
     "execution_count": 3,
     "metadata": {},
     "output_type": "execute_result"
    }
   ],
   "source": [
    "json_path=r'C:\\Users\\silvh\\OneDrive\\lighthouse\\portfolio-projects\\online-PT-social-media-NLP\\data\\raw'\n",
    "response_json2022 = loadpickle('my_ig_posts_2022_pulled_2023-02-11.sav', json_path)\n",
    "len(response_json2022)"
   ]
  },
  {
   "cell_type": "code",
   "execution_count": 4,
   "metadata": {},
   "outputs": [
    {
     "name": "stdout",
     "output_type": "stream",
     "text": [
      "Token pattern: (?u)\\b\\w\\w+\\b\n",
      "Shape of vector array:  (41, 660)\n",
      "\n",
      "Top 10 words:\n",
      "<number>    30\n",
      "time        14\n",
      "good        11\n",
      "exercise    11\n",
      "train        9\n",
      "get          9\n",
      "work         9\n",
      "muscle       9\n",
      "people       9\n",
      "day          8\n",
      "dtype: int64\n",
      "Time processed: 2023-02-22 23:45:58.439000\n"
     ]
    },
    {
     "data": {
      "text/html": [
       "<div>\n",
       "<style scoped>\n",
       "    .dataframe tbody tr th:only-of-type {\n",
       "        vertical-align: middle;\n",
       "    }\n",
       "\n",
       "    .dataframe tbody tr th {\n",
       "        vertical-align: top;\n",
       "    }\n",
       "\n",
       "    .dataframe thead th {\n",
       "        text-align: right;\n",
       "    }\n",
       "</style>\n",
       "<table border=\"1\" class=\"dataframe\">\n",
       "  <thead>\n",
       "    <tr style=\"text-align: right;\">\n",
       "      <th></th>\n",
       "      <th>timestamp</th>\n",
       "      <th>caption</th>\n",
       "      <th>like_count</th>\n",
       "      <th>comments_count</th>\n",
       "      <th>media_type</th>\n",
       "      <th>media_product_type</th>\n",
       "      <th>media_url</th>\n",
       "      <th>permalink</th>\n",
       "      <th>id</th>\n",
       "      <th>comments.data</th>\n",
       "      <th>thumbnail_url</th>\n",
       "      <th>date</th>\n",
       "      <th>year</th>\n",
       "      <th>month</th>\n",
       "      <th>week_of_year</th>\n",
       "      <th>day_of_week</th>\n",
       "      <th>time</th>\n",
       "      <th>hour</th>\n",
       "    </tr>\n",
       "  </thead>\n",
       "  <tbody>\n",
       "    <tr>\n",
       "      <th>0</th>\n",
       "      <td>2022-12-30 02:05:19+00:00</td>\n",
       "      <td>💛</td>\n",
       "      <td>30</td>\n",
       "      <td>0</td>\n",
       "      <td>CAROUSEL_ALBUM</td>\n",
       "      <td>FEED</td>\n",
       "      <td>https://scontent.cdninstagram.com/v/t51.29350-...</td>\n",
       "      <td>https://www.instagram.com/p/CmxlFotJyli/</td>\n",
       "      <td>18336168253034275</td>\n",
       "      <td>NaN</td>\n",
       "      <td>NaN</td>\n",
       "      <td>2022-12-30</td>\n",
       "      <td>2022</td>\n",
       "      <td>12</td>\n",
       "      <td>52</td>\n",
       "      <td>4</td>\n",
       "      <td>02:05:19</td>\n",
       "      <td>2</td>\n",
       "    </tr>\n",
       "    <tr>\n",
       "      <th>1</th>\n",
       "      <td>2022-12-27 20:48:37+00:00</td>\n",
       "      <td>power come responsibility  fitness space  peop...</td>\n",
       "      <td>5</td>\n",
       "      <td>2</td>\n",
       "      <td>IMAGE</td>\n",
       "      <td>FEED</td>\n",
       "      <td>https://scontent.cdninstagram.com/v/t51.29350-...</td>\n",
       "      <td>https://www.instagram.com/p/Cmr3QXSSDdE/</td>\n",
       "      <td>18033248329425680</td>\n",
       "      <td>[{'timestamp': '2022-12-27T21:04:59+0000', 'te...</td>\n",
       "      <td>NaN</td>\n",
       "      <td>2022-12-27</td>\n",
       "      <td>2022</td>\n",
       "      <td>12</td>\n",
       "      <td>52</td>\n",
       "      <td>1</td>\n",
       "      <td>20:48:37</td>\n",
       "      <td>20</td>\n",
       "    </tr>\n",
       "    <tr>\n",
       "      <th>2</th>\n",
       "      <td>2022-12-27 03:31:51+00:00</td>\n",
       "      <td>podcast fee mostly fill podcast data science  ...</td>\n",
       "      <td>5</td>\n",
       "      <td>1</td>\n",
       "      <td>IMAGE</td>\n",
       "      <td>FEED</td>\n",
       "      <td>https://scontent.cdninstagram.com/v/t51.29350-...</td>\n",
       "      <td>https://www.instagram.com/p/CmqAm0tL1u1/</td>\n",
       "      <td>17980063225869664</td>\n",
       "      <td>[{'timestamp': '2022-12-28T16:45:59+0000', 'te...</td>\n",
       "      <td>NaN</td>\n",
       "      <td>2022-12-27</td>\n",
       "      <td>2022</td>\n",
       "      <td>12</td>\n",
       "      <td>52</td>\n",
       "      <td>1</td>\n",
       "      <td>03:31:51</td>\n",
       "      <td>3</td>\n",
       "    </tr>\n",
       "    <tr>\n",
       "      <th>3</th>\n",
       "      <td>2022-12-22 19:35:45+00:00</td>\n",
       "      <td>here link super data science podcast discus es...</td>\n",
       "      <td>4</td>\n",
       "      <td>0</td>\n",
       "      <td>CAROUSEL_ALBUM</td>\n",
       "      <td>FEED</td>\n",
       "      <td>https://scontent.cdninstagram.com/v/t51.29350-...</td>\n",
       "      <td>https://www.instagram.com/p/Cme28PFuJ57/</td>\n",
       "      <td>17926236674624239</td>\n",
       "      <td>NaN</td>\n",
       "      <td>NaN</td>\n",
       "      <td>2022-12-22</td>\n",
       "      <td>2022</td>\n",
       "      <td>12</td>\n",
       "      <td>51</td>\n",
       "      <td>3</td>\n",
       "      <td>19:35:45</td>\n",
       "      <td>19</td>\n",
       "    </tr>\n",
       "    <tr>\n",
       "      <th>4</th>\n",
       "      <td>2022-12-21 22:44:24+00:00</td>\n",
       "      <td>neighbor house long sharp icicle hang along ro...</td>\n",
       "      <td>11</td>\n",
       "      <td>5</td>\n",
       "      <td>IMAGE</td>\n",
       "      <td>FEED</td>\n",
       "      <td>https://scontent.cdninstagram.com/v/t51.29350-...</td>\n",
       "      <td>https://www.instagram.com/p/CmcnvFpOYeN/</td>\n",
       "      <td>17939812733373203</td>\n",
       "      <td>[{'timestamp': '2022-12-24T20:57:54+0000', 'te...</td>\n",
       "      <td>NaN</td>\n",
       "      <td>2022-12-21</td>\n",
       "      <td>2022</td>\n",
       "      <td>12</td>\n",
       "      <td>51</td>\n",
       "      <td>2</td>\n",
       "      <td>22:44:24</td>\n",
       "      <td>22</td>\n",
       "    </tr>\n",
       "  </tbody>\n",
       "</table>\n",
       "</div>"
      ],
      "text/plain": [
       "                  timestamp  \\\n",
       "0 2022-12-30 02:05:19+00:00   \n",
       "1 2022-12-27 20:48:37+00:00   \n",
       "2 2022-12-27 03:31:51+00:00   \n",
       "3 2022-12-22 19:35:45+00:00   \n",
       "4 2022-12-21 22:44:24+00:00   \n",
       "\n",
       "                                             caption  like_count  \\\n",
       "0                                                 💛           30   \n",
       "1  power come responsibility  fitness space  peop...           5   \n",
       "2  podcast fee mostly fill podcast data science  ...           5   \n",
       "3  here link super data science podcast discus es...           4   \n",
       "4  neighbor house long sharp icicle hang along ro...          11   \n",
       "\n",
       "   comments_count      media_type media_product_type  \\\n",
       "0               0  CAROUSEL_ALBUM               FEED   \n",
       "1               2           IMAGE               FEED   \n",
       "2               1           IMAGE               FEED   \n",
       "3               0  CAROUSEL_ALBUM               FEED   \n",
       "4               5           IMAGE               FEED   \n",
       "\n",
       "                                           media_url  \\\n",
       "0  https://scontent.cdninstagram.com/v/t51.29350-...   \n",
       "1  https://scontent.cdninstagram.com/v/t51.29350-...   \n",
       "2  https://scontent.cdninstagram.com/v/t51.29350-...   \n",
       "3  https://scontent.cdninstagram.com/v/t51.29350-...   \n",
       "4  https://scontent.cdninstagram.com/v/t51.29350-...   \n",
       "\n",
       "                                  permalink                 id  \\\n",
       "0  https://www.instagram.com/p/CmxlFotJyli/  18336168253034275   \n",
       "1  https://www.instagram.com/p/Cmr3QXSSDdE/  18033248329425680   \n",
       "2  https://www.instagram.com/p/CmqAm0tL1u1/  17980063225869664   \n",
       "3  https://www.instagram.com/p/Cme28PFuJ57/  17926236674624239   \n",
       "4  https://www.instagram.com/p/CmcnvFpOYeN/  17939812733373203   \n",
       "\n",
       "                                       comments.data thumbnail_url  \\\n",
       "0                                                NaN           NaN   \n",
       "1  [{'timestamp': '2022-12-27T21:04:59+0000', 'te...           NaN   \n",
       "2  [{'timestamp': '2022-12-28T16:45:59+0000', 'te...           NaN   \n",
       "3                                                NaN           NaN   \n",
       "4  [{'timestamp': '2022-12-24T20:57:54+0000', 'te...           NaN   \n",
       "\n",
       "         date  year  month  week_of_year  day_of_week      time  hour  \n",
       "0  2022-12-30  2022     12            52            4  02:05:19     2  \n",
       "1  2022-12-27  2022     12            52            1  20:48:37    20  \n",
       "2  2022-12-27  2022     12            52            1  03:31:51     3  \n",
       "3  2022-12-22  2022     12            51            3  19:35:45    19  \n",
       "4  2022-12-21  2022     12            51            2  22:44:24    22  "
      ]
     },
     "execution_count": 4,
     "metadata": {},
     "output_type": "execute_result"
    }
   ],
   "source": [
    "from processing import *\n",
    "def response_json_dict_to_df(response_json_dict):\n",
    "    \"\"\"\n",
    "    Convert the data from the response_json_dict (e.g. from get_user_ig_post_text function) \n",
    "    into a DataFrame.\n",
    "    \"\"\"\n",
    "    data = pd.concat([json_normalize(response['data']) for key, response in response_json_dict.items()])\n",
    "    data_processed, count_vector, vect = post_preprocessing(data)\n",
    "    return data_processed, count_vector, vect\n",
    "\n",
    "df2022_processed, count_vector, vect = response_json_dict_to_df(response_json2022)\n",
    "df2022_processed.head()"
   ]
  },
  {
   "cell_type": "code",
   "execution_count": 73,
   "metadata": {},
   "outputs": [
    {
     "data": {
      "text/plain": [
       "timestamp             datetime64[ns, UTC]\n",
       "caption                            object\n",
       "like_count                          int64\n",
       "comments_count                      int64\n",
       "media_type                         object\n",
       "media_product_type                 object\n",
       "media_url                          object\n",
       "permalink                          object\n",
       "id                                 object\n",
       "comments.data                      object\n",
       "thumbnail_url                      object\n",
       "date                               object\n",
       "year                                int64\n",
       "month                               int64\n",
       "week_of_year                       UInt32\n",
       "day_of_week                         int64\n",
       "time                               object\n",
       "hour                                int64\n",
       "dtype: object"
      ]
     },
     "execution_count": 73,
     "metadata": {},
     "output_type": "execute_result"
    }
   ],
   "source": [
    "df2022_processed.dtypes"
   ]
  },
  {
   "attachments": {},
   "cell_type": "markdown",
   "metadata": {},
   "source": [
    "# `plot_images`"
   ]
  },
  {
   "attachments": {},
   "cell_type": "markdown",
   "metadata": {},
   "source": [
    "## version 1"
   ]
  },
  {
   "cell_type": "code",
   "execution_count": 63,
   "metadata": {},
   "outputs": [
    {
     "data": {
      "application/vnd.plotly.v1+json": {
       "config": {
        "plotlyServerURL": "https://plot.ly"
       },
       "data": [],
       "layout": {
        "annotations": [
         {
          "font": {
           "size": 16
          },
          "showarrow": false,
          "text": "2022-09-16 at 19:44",
          "x": 0.14444444444444446,
          "xanchor": "center",
          "xref": "paper",
          "y": 1,
          "yanchor": "bottom",
          "yref": "paper"
         },
         {
          "font": {
           "size": 16
          },
          "showarrow": false,
          "text": "2022-01-29 at 23:37",
          "x": 0.5,
          "xanchor": "center",
          "xref": "paper",
          "y": 1,
          "yanchor": "bottom",
          "yref": "paper"
         },
         {
          "font": {
           "size": 16
          },
          "showarrow": false,
          "text": "2022-09-13 at 20:50",
          "x": 0.8555555555555556,
          "xanchor": "center",
          "xref": "paper",
          "y": 1,
          "yanchor": "bottom",
          "yref": "paper"
         },
         {
          "arrowhead": 2,
          "ax": 0.5,
          "axref": "x domain",
          "ay": 2,
          "ayref": "y",
          "text": "201 likes, 8 comments",
          "x": 0.5,
          "xref": "x domain",
          "y": -0.1,
          "yref": "y domain"
         },
         {
          "arrowhead": 2,
          "ax": 0.5,
          "axref": "x domain",
          "ay": 2,
          "ayref": "y",
          "text": "64 likes, 4 comments",
          "x": 0.5,
          "xref": "x2 domain",
          "y": -0.1,
          "yref": "y2 domain"
         },
         {
          "arrowhead": 2,
          "ax": 0.5,
          "axref": "x domain",
          "ay": 2,
          "ayref": "y",
          "text": "36 likes, 4 comments",
          "x": 0.5,
          "xref": "x3 domain",
          "y": -0.1,
          "yref": "y3 domain"
         }
        ],
        "images": [
         {
          "opacity": 1,
          "sizex": 1,
          "sizey": 1,
          "source": "https://scontent.cdninstagram.com/v/t51.29350-15/306944615_628329095522932_7384461444504562161_n.jpg?_nc_cat=110&ccb=1-7&_nc_sid=8ae9d6&_nc_ohc=diZ9vtlM2Z0AX-JPmY0&_nc_ht=scontent.cdninstagram.com&edm=AM6HXa8EAAAA&oh=00_AfCS7ZIsr7QxsRgdJat0RoBPzxr4ki5qGjx4UA_TjfOU5w&oe=63ED145F",
          "x": 0,
          "xanchor": "center",
          "xref": "x",
          "y": 0,
          "yanchor": "middle",
          "yref": "y"
         },
         {
          "opacity": 1,
          "sizex": 1,
          "sizey": 1,
          "source": "https://scontent.cdninstagram.com/v/t51.29350-15/272823187_296325119146031_3389369555818353560_n.jpg?_nc_cat=108&ccb=1-7&_nc_sid=8ae9d6&_nc_ohc=GK2rf1Hn638AX-cAkHL&_nc_ht=scontent.cdninstagram.com&edm=AM6HXa8EAAAA&oh=00_AfBgNqOF4r5iogBn6GYwOc0nknDKcZ-oKl6LYpRQBVeWJQ&oe=63EC848E",
          "x": 0,
          "xanchor": "center",
          "xref": "x2",
          "y": 0,
          "yanchor": "middle",
          "yref": "y2"
         },
         {
          "opacity": 1,
          "sizex": 1,
          "sizey": 1,
          "source": "https://scontent.cdninstagram.com/v/t51.29350-15/306572675_476992117678881_508139851521796754_n.jpg?_nc_cat=103&ccb=1-7&_nc_sid=8ae9d6&_nc_ohc=rW7F-WPjf9AAX_y82sp&_nc_ht=scontent.cdninstagram.com&edm=AM6HXa8EAAAA&oh=00_AfAa0Bx1Ac9ZGHmw0QkY101xo2KjxNwJ1y7ZxYtu9OeA_Q&oe=63ECA360",
          "x": 0,
          "xanchor": "center",
          "xref": "x3",
          "y": 0,
          "yanchor": "middle",
          "yref": "y3"
         }
        ],
        "plot_bgcolor": "white",
        "template": {
         "data": {
          "bar": [
           {
            "error_x": {
             "color": "#2a3f5f"
            },
            "error_y": {
             "color": "#2a3f5f"
            },
            "marker": {
             "line": {
              "color": "#E5ECF6",
              "width": 0.5
             },
             "pattern": {
              "fillmode": "overlay",
              "size": 10,
              "solidity": 0.2
             }
            },
            "type": "bar"
           }
          ],
          "barpolar": [
           {
            "marker": {
             "line": {
              "color": "#E5ECF6",
              "width": 0.5
             },
             "pattern": {
              "fillmode": "overlay",
              "size": 10,
              "solidity": 0.2
             }
            },
            "type": "barpolar"
           }
          ],
          "carpet": [
           {
            "aaxis": {
             "endlinecolor": "#2a3f5f",
             "gridcolor": "white",
             "linecolor": "white",
             "minorgridcolor": "white",
             "startlinecolor": "#2a3f5f"
            },
            "baxis": {
             "endlinecolor": "#2a3f5f",
             "gridcolor": "white",
             "linecolor": "white",
             "minorgridcolor": "white",
             "startlinecolor": "#2a3f5f"
            },
            "type": "carpet"
           }
          ],
          "choropleth": [
           {
            "colorbar": {
             "outlinewidth": 0,
             "ticks": ""
            },
            "type": "choropleth"
           }
          ],
          "contour": [
           {
            "colorbar": {
             "outlinewidth": 0,
             "ticks": ""
            },
            "colorscale": [
             [
              0,
              "#0d0887"
             ],
             [
              0.1111111111111111,
              "#46039f"
             ],
             [
              0.2222222222222222,
              "#7201a8"
             ],
             [
              0.3333333333333333,
              "#9c179e"
             ],
             [
              0.4444444444444444,
              "#bd3786"
             ],
             [
              0.5555555555555556,
              "#d8576b"
             ],
             [
              0.6666666666666666,
              "#ed7953"
             ],
             [
              0.7777777777777778,
              "#fb9f3a"
             ],
             [
              0.8888888888888888,
              "#fdca26"
             ],
             [
              1,
              "#f0f921"
             ]
            ],
            "type": "contour"
           }
          ],
          "contourcarpet": [
           {
            "colorbar": {
             "outlinewidth": 0,
             "ticks": ""
            },
            "type": "contourcarpet"
           }
          ],
          "heatmap": [
           {
            "colorbar": {
             "outlinewidth": 0,
             "ticks": ""
            },
            "colorscale": [
             [
              0,
              "#0d0887"
             ],
             [
              0.1111111111111111,
              "#46039f"
             ],
             [
              0.2222222222222222,
              "#7201a8"
             ],
             [
              0.3333333333333333,
              "#9c179e"
             ],
             [
              0.4444444444444444,
              "#bd3786"
             ],
             [
              0.5555555555555556,
              "#d8576b"
             ],
             [
              0.6666666666666666,
              "#ed7953"
             ],
             [
              0.7777777777777778,
              "#fb9f3a"
             ],
             [
              0.8888888888888888,
              "#fdca26"
             ],
             [
              1,
              "#f0f921"
             ]
            ],
            "type": "heatmap"
           }
          ],
          "heatmapgl": [
           {
            "colorbar": {
             "outlinewidth": 0,
             "ticks": ""
            },
            "colorscale": [
             [
              0,
              "#0d0887"
             ],
             [
              0.1111111111111111,
              "#46039f"
             ],
             [
              0.2222222222222222,
              "#7201a8"
             ],
             [
              0.3333333333333333,
              "#9c179e"
             ],
             [
              0.4444444444444444,
              "#bd3786"
             ],
             [
              0.5555555555555556,
              "#d8576b"
             ],
             [
              0.6666666666666666,
              "#ed7953"
             ],
             [
              0.7777777777777778,
              "#fb9f3a"
             ],
             [
              0.8888888888888888,
              "#fdca26"
             ],
             [
              1,
              "#f0f921"
             ]
            ],
            "type": "heatmapgl"
           }
          ],
          "histogram": [
           {
            "marker": {
             "pattern": {
              "fillmode": "overlay",
              "size": 10,
              "solidity": 0.2
             }
            },
            "type": "histogram"
           }
          ],
          "histogram2d": [
           {
            "colorbar": {
             "outlinewidth": 0,
             "ticks": ""
            },
            "colorscale": [
             [
              0,
              "#0d0887"
             ],
             [
              0.1111111111111111,
              "#46039f"
             ],
             [
              0.2222222222222222,
              "#7201a8"
             ],
             [
              0.3333333333333333,
              "#9c179e"
             ],
             [
              0.4444444444444444,
              "#bd3786"
             ],
             [
              0.5555555555555556,
              "#d8576b"
             ],
             [
              0.6666666666666666,
              "#ed7953"
             ],
             [
              0.7777777777777778,
              "#fb9f3a"
             ],
             [
              0.8888888888888888,
              "#fdca26"
             ],
             [
              1,
              "#f0f921"
             ]
            ],
            "type": "histogram2d"
           }
          ],
          "histogram2dcontour": [
           {
            "colorbar": {
             "outlinewidth": 0,
             "ticks": ""
            },
            "colorscale": [
             [
              0,
              "#0d0887"
             ],
             [
              0.1111111111111111,
              "#46039f"
             ],
             [
              0.2222222222222222,
              "#7201a8"
             ],
             [
              0.3333333333333333,
              "#9c179e"
             ],
             [
              0.4444444444444444,
              "#bd3786"
             ],
             [
              0.5555555555555556,
              "#d8576b"
             ],
             [
              0.6666666666666666,
              "#ed7953"
             ],
             [
              0.7777777777777778,
              "#fb9f3a"
             ],
             [
              0.8888888888888888,
              "#fdca26"
             ],
             [
              1,
              "#f0f921"
             ]
            ],
            "type": "histogram2dcontour"
           }
          ],
          "mesh3d": [
           {
            "colorbar": {
             "outlinewidth": 0,
             "ticks": ""
            },
            "type": "mesh3d"
           }
          ],
          "parcoords": [
           {
            "line": {
             "colorbar": {
              "outlinewidth": 0,
              "ticks": ""
             }
            },
            "type": "parcoords"
           }
          ],
          "pie": [
           {
            "automargin": true,
            "type": "pie"
           }
          ],
          "scatter": [
           {
            "fillpattern": {
             "fillmode": "overlay",
             "size": 10,
             "solidity": 0.2
            },
            "type": "scatter"
           }
          ],
          "scatter3d": [
           {
            "line": {
             "colorbar": {
              "outlinewidth": 0,
              "ticks": ""
             }
            },
            "marker": {
             "colorbar": {
              "outlinewidth": 0,
              "ticks": ""
             }
            },
            "type": "scatter3d"
           }
          ],
          "scattercarpet": [
           {
            "marker": {
             "colorbar": {
              "outlinewidth": 0,
              "ticks": ""
             }
            },
            "type": "scattercarpet"
           }
          ],
          "scattergeo": [
           {
            "marker": {
             "colorbar": {
              "outlinewidth": 0,
              "ticks": ""
             }
            },
            "type": "scattergeo"
           }
          ],
          "scattergl": [
           {
            "marker": {
             "colorbar": {
              "outlinewidth": 0,
              "ticks": ""
             }
            },
            "type": "scattergl"
           }
          ],
          "scattermapbox": [
           {
            "marker": {
             "colorbar": {
              "outlinewidth": 0,
              "ticks": ""
             }
            },
            "type": "scattermapbox"
           }
          ],
          "scatterpolar": [
           {
            "marker": {
             "colorbar": {
              "outlinewidth": 0,
              "ticks": ""
             }
            },
            "type": "scatterpolar"
           }
          ],
          "scatterpolargl": [
           {
            "marker": {
             "colorbar": {
              "outlinewidth": 0,
              "ticks": ""
             }
            },
            "type": "scatterpolargl"
           }
          ],
          "scatterternary": [
           {
            "marker": {
             "colorbar": {
              "outlinewidth": 0,
              "ticks": ""
             }
            },
            "type": "scatterternary"
           }
          ],
          "surface": [
           {
            "colorbar": {
             "outlinewidth": 0,
             "ticks": ""
            },
            "colorscale": [
             [
              0,
              "#0d0887"
             ],
             [
              0.1111111111111111,
              "#46039f"
             ],
             [
              0.2222222222222222,
              "#7201a8"
             ],
             [
              0.3333333333333333,
              "#9c179e"
             ],
             [
              0.4444444444444444,
              "#bd3786"
             ],
             [
              0.5555555555555556,
              "#d8576b"
             ],
             [
              0.6666666666666666,
              "#ed7953"
             ],
             [
              0.7777777777777778,
              "#fb9f3a"
             ],
             [
              0.8888888888888888,
              "#fdca26"
             ],
             [
              1,
              "#f0f921"
             ]
            ],
            "type": "surface"
           }
          ],
          "table": [
           {
            "cells": {
             "fill": {
              "color": "#EBF0F8"
             },
             "line": {
              "color": "white"
             }
            },
            "header": {
             "fill": {
              "color": "#C8D4E3"
             },
             "line": {
              "color": "white"
             }
            },
            "type": "table"
           }
          ]
         },
         "layout": {
          "annotationdefaults": {
           "arrowcolor": "#2a3f5f",
           "arrowhead": 0,
           "arrowwidth": 1
          },
          "autotypenumbers": "strict",
          "coloraxis": {
           "colorbar": {
            "outlinewidth": 0,
            "ticks": ""
           }
          },
          "colorscale": {
           "diverging": [
            [
             0,
             "#8e0152"
            ],
            [
             0.1,
             "#c51b7d"
            ],
            [
             0.2,
             "#de77ae"
            ],
            [
             0.3,
             "#f1b6da"
            ],
            [
             0.4,
             "#fde0ef"
            ],
            [
             0.5,
             "#f7f7f7"
            ],
            [
             0.6,
             "#e6f5d0"
            ],
            [
             0.7,
             "#b8e186"
            ],
            [
             0.8,
             "#7fbc41"
            ],
            [
             0.9,
             "#4d9221"
            ],
            [
             1,
             "#276419"
            ]
           ],
           "sequential": [
            [
             0,
             "#0d0887"
            ],
            [
             0.1111111111111111,
             "#46039f"
            ],
            [
             0.2222222222222222,
             "#7201a8"
            ],
            [
             0.3333333333333333,
             "#9c179e"
            ],
            [
             0.4444444444444444,
             "#bd3786"
            ],
            [
             0.5555555555555556,
             "#d8576b"
            ],
            [
             0.6666666666666666,
             "#ed7953"
            ],
            [
             0.7777777777777778,
             "#fb9f3a"
            ],
            [
             0.8888888888888888,
             "#fdca26"
            ],
            [
             1,
             "#f0f921"
            ]
           ],
           "sequentialminus": [
            [
             0,
             "#0d0887"
            ],
            [
             0.1111111111111111,
             "#46039f"
            ],
            [
             0.2222222222222222,
             "#7201a8"
            ],
            [
             0.3333333333333333,
             "#9c179e"
            ],
            [
             0.4444444444444444,
             "#bd3786"
            ],
            [
             0.5555555555555556,
             "#d8576b"
            ],
            [
             0.6666666666666666,
             "#ed7953"
            ],
            [
             0.7777777777777778,
             "#fb9f3a"
            ],
            [
             0.8888888888888888,
             "#fdca26"
            ],
            [
             1,
             "#f0f921"
            ]
           ]
          },
          "colorway": [
           "#636efa",
           "#EF553B",
           "#00cc96",
           "#ab63fa",
           "#FFA15A",
           "#19d3f3",
           "#FF6692",
           "#B6E880",
           "#FF97FF",
           "#FECB52"
          ],
          "font": {
           "color": "#2a3f5f"
          },
          "geo": {
           "bgcolor": "white",
           "lakecolor": "white",
           "landcolor": "#E5ECF6",
           "showlakes": true,
           "showland": true,
           "subunitcolor": "white"
          },
          "hoverlabel": {
           "align": "left"
          },
          "hovermode": "closest",
          "mapbox": {
           "style": "light"
          },
          "paper_bgcolor": "white",
          "plot_bgcolor": "#E5ECF6",
          "polar": {
           "angularaxis": {
            "gridcolor": "white",
            "linecolor": "white",
            "ticks": ""
           },
           "bgcolor": "#E5ECF6",
           "radialaxis": {
            "gridcolor": "white",
            "linecolor": "white",
            "ticks": ""
           }
          },
          "scene": {
           "xaxis": {
            "backgroundcolor": "#E5ECF6",
            "gridcolor": "white",
            "gridwidth": 2,
            "linecolor": "white",
            "showbackground": true,
            "ticks": "",
            "zerolinecolor": "white"
           },
           "yaxis": {
            "backgroundcolor": "#E5ECF6",
            "gridcolor": "white",
            "gridwidth": 2,
            "linecolor": "white",
            "showbackground": true,
            "ticks": "",
            "zerolinecolor": "white"
           },
           "zaxis": {
            "backgroundcolor": "#E5ECF6",
            "gridcolor": "white",
            "gridwidth": 2,
            "linecolor": "white",
            "showbackground": true,
            "ticks": "",
            "zerolinecolor": "white"
           }
          },
          "shapedefaults": {
           "line": {
            "color": "#2a3f5f"
           }
          },
          "ternary": {
           "aaxis": {
            "gridcolor": "white",
            "linecolor": "white",
            "ticks": ""
           },
           "baxis": {
            "gridcolor": "white",
            "linecolor": "white",
            "ticks": ""
           },
           "bgcolor": "#E5ECF6",
           "caxis": {
            "gridcolor": "white",
            "linecolor": "white",
            "ticks": ""
           }
          },
          "title": {
           "x": 0.05
          },
          "xaxis": {
           "automargin": true,
           "gridcolor": "white",
           "linecolor": "white",
           "ticks": "",
           "title": {
            "standoff": 15
           },
           "zerolinecolor": "white",
           "zerolinewidth": 2
          },
          "yaxis": {
           "automargin": true,
           "gridcolor": "white",
           "linecolor": "white",
           "ticks": "",
           "title": {
            "standoff": 15
           },
           "zerolinecolor": "white",
           "zerolinewidth": 2
          }
         }
        },
        "xaxis": {
         "anchor": "y",
         "domain": [
          0,
          0.2888888888888889
         ],
         "range": [
          -0.5,
          0.5
         ],
         "showticklabels": false
        },
        "xaxis2": {
         "anchor": "y2",
         "domain": [
          0.35555555555555557,
          0.6444444444444445
         ],
         "range": [
          -0.5,
          0.5
         ],
         "showticklabels": false
        },
        "xaxis3": {
         "anchor": "y3",
         "domain": [
          0.7111111111111111,
          1
         ],
         "range": [
          -0.5,
          0.5
         ],
         "showticklabels": false
        },
        "yaxis": {
         "anchor": "x",
         "domain": [
          0,
          1
         ],
         "range": [
          -0.5,
          0.5
         ],
         "showticklabels": false
        },
        "yaxis2": {
         "anchor": "x2",
         "domain": [
          0,
          1
         ],
         "range": [
          -0.5,
          0.5
         ],
         "showticklabels": false
        },
        "yaxis3": {
         "anchor": "x3",
         "domain": [
          0,
          1
         ],
         "range": [
          -0.5,
          0.5
         ],
         "showticklabels": false
        }
       }
      }
     },
     "metadata": {},
     "output_type": "display_data"
    }
   ],
   "source": [
    "def plot_images(df, n=6, top=True, max_columns=5, streamlit=False):\n",
    "    \"\"\"\n",
    "    Plot the images/video thumbnails of either the top or \n",
    "    worst performing instagram media (posts, reels, carousels).\n",
    "    \"\"\"\n",
    "    ncols = n if n<max_columns else max_columns\n",
    "    nrows = (n + ncols - 1) // ncols\n",
    "    sort_by = ['like_count', 'comments_count', 'timestamp']\n",
    "    posts = df.sort_values(by=sort_by, ascending=False if top else True).head(n).copy()\n",
    "    posts['thumbnail_url'].fillna(posts['media_url'], inplace=True)\n",
    "    titles = tuple(posts['timestamp'].dt.strftime('%Y-%m-%d at %H:%M').values.tolist())\n",
    "    fig = make_subplots(rows=nrows, cols=ncols, subplot_titles=titles)\n",
    "    for index, (n_likes, n_comments, url) in enumerate(zip(\n",
    "            posts['like_count'], posts['comments_count'], posts['thumbnail_url'])\n",
    "        ):\n",
    "        fig.add_layout_image(\n",
    "            x=0, y=0,\n",
    "            xanchor='center', yanchor='middle',\n",
    "            sizex=1, sizey=1,\n",
    "            row=index // ncols + 1,\n",
    "            col=index % ncols + 1,\n",
    "            xref=\"x\",\n",
    "            yref=\"y\",\n",
    "            opacity=1.0,\n",
    "            source=url\n",
    "        )\n",
    "        fig.add_annotation(\n",
    "            xref=\"x domain\",\n",
    "            yref=\"y domain\",\n",
    "            x=0.5,\n",
    "            y=-.10,\n",
    "            text=f'{n_likes} likes, {n_comments} comments',\n",
    "            axref=\"x domain\",\n",
    "            ayref=\"y\",\n",
    "            ax=0.5,\n",
    "            ay=2,\n",
    "            arrowhead=2,\n",
    "            row=index // ncols + 1,\n",
    "            col=index % ncols + 1,\n",
    "        )\n",
    "    fig.update_xaxes(range=[-0.5,0.5], showticklabels=False)\n",
    "    fig.update_yaxes(range=[-0.5,0.5], showticklabels=False)\n",
    "    fig.update_layout(plot_bgcolor=\"white\")\n",
    "    if streamlit:\n",
    "        st.plotly_chart(fig, use_container_width=True)\n",
    "    else:\n",
    "        fig.show()\n",
    "    return posts.reset_index(drop=True)\n",
    "\n",
    "posts = plot_images(df2022_processed, n=3, max_columns=5)"
   ]
  },
  {
   "cell_type": "code",
   "execution_count": 66,
   "metadata": {},
   "outputs": [
    {
     "data": {
      "text/html": [
       "<div>\n",
       "<style scoped>\n",
       "    .dataframe tbody tr th:only-of-type {\n",
       "        vertical-align: middle;\n",
       "    }\n",
       "\n",
       "    .dataframe tbody tr th {\n",
       "        vertical-align: top;\n",
       "    }\n",
       "\n",
       "    .dataframe thead th {\n",
       "        text-align: right;\n",
       "    }\n",
       "</style>\n",
       "<table border=\"1\" class=\"dataframe\">\n",
       "  <thead>\n",
       "    <tr style=\"text-align: right;\">\n",
       "      <th></th>\n",
       "      <th>timestamp</th>\n",
       "      <th>caption</th>\n",
       "      <th>like_count</th>\n",
       "      <th>comments_count</th>\n",
       "      <th>media_type</th>\n",
       "      <th>media_product_type</th>\n",
       "      <th>media_url</th>\n",
       "      <th>permalink</th>\n",
       "      <th>id</th>\n",
       "      <th>comments.data</th>\n",
       "      <th>thumbnail_url</th>\n",
       "      <th>date</th>\n",
       "      <th>year</th>\n",
       "      <th>month</th>\n",
       "      <th>week_of_year</th>\n",
       "      <th>day_of_week</th>\n",
       "      <th>time</th>\n",
       "      <th>hour</th>\n",
       "    </tr>\n",
       "  </thead>\n",
       "  <tbody>\n",
       "    <tr>\n",
       "      <th>0</th>\n",
       "      <td>2022-09-16 19:44:31+00:00</td>\n",
       "      <td>yell improve strength  thank &lt;Handle&gt;  coach t...</td>\n",
       "      <td>201</td>\n",
       "      <td>8</td>\n",
       "      <td>VIDEO</td>\n",
       "      <td>REELS</td>\n",
       "      <td>https://video.cdninstagram.com/v/t50.33967-16/...</td>\n",
       "      <td>https://www.instagram.com/reel/CilGehzAgG3/</td>\n",
       "      <td>17959530130960346</td>\n",
       "      <td>[{'timestamp': '2022-10-25T19:20:29+0000', 'te...</td>\n",
       "      <td>https://scontent.cdninstagram.com/v/t51.29350-...</td>\n",
       "      <td>2022-09-16</td>\n",
       "      <td>2022</td>\n",
       "      <td>9</td>\n",
       "      <td>37</td>\n",
       "      <td>4</td>\n",
       "      <td>19:44:31</td>\n",
       "      <td>19</td>\n",
       "    </tr>\n",
       "    <tr>\n",
       "      <th>1</th>\n",
       "      <td>2022-01-29 23:37:52+00:00</td>\n",
       "      <td>couple time someone ￼recognized mask  impress ...</td>\n",
       "      <td>64</td>\n",
       "      <td>4</td>\n",
       "      <td>IMAGE</td>\n",
       "      <td>FEED</td>\n",
       "      <td>https://scontent.cdninstagram.com/v/t51.29350-...</td>\n",
       "      <td>https://www.instagram.com/p/CZVStgnvrAn/</td>\n",
       "      <td>18148518601242451</td>\n",
       "      <td>[{'timestamp': '2022-01-30T01:26:16+0000', 'te...</td>\n",
       "      <td>https://scontent.cdninstagram.com/v/t51.29350-...</td>\n",
       "      <td>2022-01-29</td>\n",
       "      <td>2022</td>\n",
       "      <td>1</td>\n",
       "      <td>4</td>\n",
       "      <td>5</td>\n",
       "      <td>23:37:52</td>\n",
       "      <td>23</td>\n",
       "    </tr>\n",
       "    <tr>\n",
       "      <th>2</th>\n",
       "      <td>2022-09-13 20:50:18+00:00</td>\n",
       "      <td>congrats suzanne eric find happiness get marry...</td>\n",
       "      <td>36</td>\n",
       "      <td>4</td>\n",
       "      <td>CAROUSEL_ALBUM</td>\n",
       "      <td>FEED</td>\n",
       "      <td>https://scontent.cdninstagram.com/v/t51.29350-...</td>\n",
       "      <td>https://www.instagram.com/p/Cidf-z3vR6G/</td>\n",
       "      <td>17923493357545447</td>\n",
       "      <td>[{'timestamp': '2022-09-14T06:24:49+0000', 'te...</td>\n",
       "      <td>https://scontent.cdninstagram.com/v/t51.29350-...</td>\n",
       "      <td>2022-09-13</td>\n",
       "      <td>2022</td>\n",
       "      <td>9</td>\n",
       "      <td>37</td>\n",
       "      <td>1</td>\n",
       "      <td>20:50:18</td>\n",
       "      <td>20</td>\n",
       "    </tr>\n",
       "  </tbody>\n",
       "</table>\n",
       "</div>"
      ],
      "text/plain": [
       "                  timestamp  \\\n",
       "0 2022-09-16 19:44:31+00:00   \n",
       "1 2022-01-29 23:37:52+00:00   \n",
       "2 2022-09-13 20:50:18+00:00   \n",
       "\n",
       "                                             caption  like_count  \\\n",
       "0  yell improve strength  thank <Handle>  coach t...         201   \n",
       "1  couple time someone ￼recognized mask  impress ...          64   \n",
       "2  congrats suzanne eric find happiness get marry...          36   \n",
       "\n",
       "   comments_count      media_type media_product_type  \\\n",
       "0               8           VIDEO              REELS   \n",
       "1               4           IMAGE               FEED   \n",
       "2               4  CAROUSEL_ALBUM               FEED   \n",
       "\n",
       "                                           media_url  \\\n",
       "0  https://video.cdninstagram.com/v/t50.33967-16/...   \n",
       "1  https://scontent.cdninstagram.com/v/t51.29350-...   \n",
       "2  https://scontent.cdninstagram.com/v/t51.29350-...   \n",
       "\n",
       "                                     permalink                 id  \\\n",
       "0  https://www.instagram.com/reel/CilGehzAgG3/  17959530130960346   \n",
       "1     https://www.instagram.com/p/CZVStgnvrAn/  18148518601242451   \n",
       "2     https://www.instagram.com/p/Cidf-z3vR6G/  17923493357545447   \n",
       "\n",
       "                                       comments.data  \\\n",
       "0  [{'timestamp': '2022-10-25T19:20:29+0000', 'te...   \n",
       "1  [{'timestamp': '2022-01-30T01:26:16+0000', 'te...   \n",
       "2  [{'timestamp': '2022-09-14T06:24:49+0000', 'te...   \n",
       "\n",
       "                                       thumbnail_url        date  year  month  \\\n",
       "0  https://scontent.cdninstagram.com/v/t51.29350-...  2022-09-16  2022      9   \n",
       "1  https://scontent.cdninstagram.com/v/t51.29350-...  2022-01-29  2022      1   \n",
       "2  https://scontent.cdninstagram.com/v/t51.29350-...  2022-09-13  2022      9   \n",
       "\n",
       "   week_of_year  day_of_week      time  hour  \n",
       "0            37            4  19:44:31    19  \n",
       "1             4            5  23:37:52    23  \n",
       "2            37            1  20:50:18    20  "
      ]
     },
     "execution_count": 66,
     "metadata": {},
     "output_type": "execute_result"
    }
   ],
   "source": [
    "posts.head()"
   ]
  },
  {
   "cell_type": "code",
   "execution_count": 74,
   "metadata": {},
   "outputs": [
    {
     "data": {
      "text/plain": [
       "timestamp             datetime64[ns, UTC]\n",
       "caption                            object\n",
       "like_count                          int64\n",
       "comments_count                      int64\n",
       "media_type                         object\n",
       "media_product_type                 object\n",
       "media_url                          object\n",
       "permalink                          object\n",
       "id                                 object\n",
       "comments.data                      object\n",
       "thumbnail_url                      object\n",
       "date                               object\n",
       "year                                int64\n",
       "month                               int64\n",
       "week_of_year                       UInt32\n",
       "day_of_week                         int64\n",
       "time                               object\n",
       "hour                                int64\n",
       "dtype: object"
      ]
     },
     "execution_count": 74,
     "metadata": {},
     "output_type": "execute_result"
    }
   ],
   "source": [
    "posts.dtypes"
   ]
  },
  {
   "cell_type": "code",
   "execution_count": 75,
   "metadata": {},
   "outputs": [
    {
     "data": {
      "text/plain": [
       "[Timestamp('2022-09-16 19:44:31+0000', tz='UTC'),\n",
       " Timestamp('2022-01-29 23:37:52+0000', tz='UTC'),\n",
       " Timestamp('2022-09-13 20:50:18+0000', tz='UTC')]"
      ]
     },
     "execution_count": 75,
     "metadata": {},
     "output_type": "execute_result"
    }
   ],
   "source": [
    "[timestamp for timestamp in pd.to_datetime(posts['timestamp'])]"
   ]
  },
  {
   "cell_type": "code",
   "execution_count": 76,
   "metadata": {},
   "outputs": [
    {
     "data": {
      "text/plain": [
       "[Timestamp('2022-09-17 05:44:31+1000', tz='Australia/Sydney'),\n",
       " Timestamp('2022-01-30 10:37:52+1100', tz='Australia/Sydney'),\n",
       " Timestamp('2022-09-14 06:50:18+1000', tz='Australia/Sydney')]"
      ]
     },
     "execution_count": 76,
     "metadata": {},
     "output_type": "execute_result"
    }
   ],
   "source": [
    "[timestamp.astimezone('Australia/Sydney') for timestamp in pd.to_datetime(posts['timestamp'])]"
   ]
  },
  {
   "cell_type": "code",
   "execution_count": 77,
   "metadata": {},
   "outputs": [
    {
     "data": {
      "text/plain": [
       "[Timestamp('2022-09-16 12:44:31-0700', tz='Canada/Pacific'),\n",
       " Timestamp('2022-01-29 15:37:52-0800', tz='Canada/Pacific'),\n",
       " Timestamp('2022-09-13 13:50:18-0700', tz='Canada/Pacific')]"
      ]
     },
     "execution_count": 77,
     "metadata": {},
     "output_type": "execute_result"
    }
   ],
   "source": [
    "[timestamp.astimezone('Canada/Pacific') for timestamp in pd.to_datetime(posts['timestamp'])]"
   ]
  },
  {
   "cell_type": "code",
   "execution_count": 79,
   "metadata": {},
   "outputs": [
    {
     "ename": "AttributeError",
     "evalue": "'numpy.ndarray' object has no attribute 'astimezone'",
     "output_type": "error",
     "traceback": [
      "\u001b[1;31m---------------------------------------------------------------------------\u001b[0m",
      "\u001b[1;31mAttributeError\u001b[0m                            Traceback (most recent call last)",
      "Cell \u001b[1;32mIn [79], line 1\u001b[0m\n\u001b[1;32m----> 1\u001b[0m pd\u001b[39m.\u001b[39;49mto_datetime(posts[\u001b[39m'\u001b[39;49m\u001b[39mtimestamp\u001b[39;49m\u001b[39m'\u001b[39;49m])\u001b[39m.\u001b[39;49mvalues\u001b[39m.\u001b[39;49mastimezone(\u001b[39m'\u001b[39m\u001b[39mCanada/Pacific\u001b[39m\u001b[39m'\u001b[39m)\n",
      "\u001b[1;31mAttributeError\u001b[0m: 'numpy.ndarray' object has no attribute 'astimezone'"
     ]
    }
   ],
   "source": [
    "pd.to_datetime(posts['timestamp']).values.astimezone('Canada/Pacific')"
   ]
  },
  {
   "cell_type": "code",
   "execution_count": 65,
   "metadata": {},
   "outputs": [
    {
     "name": "stdout",
     "output_type": "stream",
     "text": [
      "Commonly used time-zones: ['Africa/Abidjan', 'Africa/Accra', 'Africa/Addis_Ababa', 'Africa/Algiers', 'Africa/Asmara', 'Africa/Bamako', 'Africa/Bangui', 'Africa/Banjul', 'Africa/Bissau', 'Africa/Blantyre', 'Africa/Brazzaville', 'Africa/Bujumbura', 'Africa/Cairo', 'Africa/Casablanca', 'Africa/Ceuta', 'Africa/Conakry', 'Africa/Dakar', 'Africa/Dar_es_Salaam', 'Africa/Djibouti', 'Africa/Douala', 'Africa/El_Aaiun', 'Africa/Freetown', 'Africa/Gaborone', 'Africa/Harare', 'Africa/Johannesburg', 'Africa/Juba', 'Africa/Kampala', 'Africa/Khartoum', 'Africa/Kigali', 'Africa/Kinshasa', 'Africa/Lagos', 'Africa/Libreville', 'Africa/Lome', 'Africa/Luanda', 'Africa/Lubumbashi', 'Africa/Lusaka', 'Africa/Malabo', 'Africa/Maputo', 'Africa/Maseru', 'Africa/Mbabane', 'Africa/Mogadishu', 'Africa/Monrovia', 'Africa/Nairobi', 'Africa/Ndjamena', 'Africa/Niamey', 'Africa/Nouakchott', 'Africa/Ouagadougou', 'Africa/Porto-Novo', 'Africa/Sao_Tome', 'Africa/Tripoli', 'Africa/Tunis', 'Africa/Windhoek', 'America/Adak', 'America/Anchorage', 'America/Anguilla', 'America/Antigua', 'America/Araguaina', 'America/Argentina/Buenos_Aires', 'America/Argentina/Catamarca', 'America/Argentina/Cordoba', 'America/Argentina/Jujuy', 'America/Argentina/La_Rioja', 'America/Argentina/Mendoza', 'America/Argentina/Rio_Gallegos', 'America/Argentina/Salta', 'America/Argentina/San_Juan', 'America/Argentina/San_Luis', 'America/Argentina/Tucuman', 'America/Argentina/Ushuaia', 'America/Aruba', 'America/Asuncion', 'America/Atikokan', 'America/Bahia', 'America/Bahia_Banderas', 'America/Barbados', 'America/Belem', 'America/Belize', 'America/Blanc-Sablon', 'America/Boa_Vista', 'America/Bogota', 'America/Boise', 'America/Cambridge_Bay', 'America/Campo_Grande', 'America/Cancun', 'America/Caracas', 'America/Cayenne', 'America/Cayman', 'America/Chicago', 'America/Chihuahua', 'America/Costa_Rica', 'America/Creston', 'America/Cuiaba', 'America/Curacao', 'America/Danmarkshavn', 'America/Dawson', 'America/Dawson_Creek', 'America/Denver', 'America/Detroit', 'America/Dominica', 'America/Edmonton', 'America/Eirunepe', 'America/El_Salvador', 'America/Fort_Nelson', 'America/Fortaleza', 'America/Glace_Bay', 'America/Goose_Bay', 'America/Grand_Turk', 'America/Grenada', 'America/Guadeloupe', 'America/Guatemala', 'America/Guayaquil', 'America/Guyana', 'America/Halifax', 'America/Havana', 'America/Hermosillo', 'America/Indiana/Indianapolis', 'America/Indiana/Knox', 'America/Indiana/Marengo', 'America/Indiana/Petersburg', 'America/Indiana/Tell_City', 'America/Indiana/Vevay', 'America/Indiana/Vincennes', 'America/Indiana/Winamac', 'America/Inuvik', 'America/Iqaluit', 'America/Jamaica', 'America/Juneau', 'America/Kentucky/Louisville', 'America/Kentucky/Monticello', 'America/Kralendijk', 'America/La_Paz', 'America/Lima', 'America/Los_Angeles', 'America/Lower_Princes', 'America/Maceio', 'America/Managua', 'America/Manaus', 'America/Marigot', 'America/Martinique', 'America/Matamoros', 'America/Mazatlan', 'America/Menominee', 'America/Merida', 'America/Metlakatla', 'America/Mexico_City', 'America/Miquelon', 'America/Moncton', 'America/Monterrey', 'America/Montevideo', 'America/Montserrat', 'America/Nassau', 'America/New_York', 'America/Nipigon', 'America/Nome', 'America/Noronha', 'America/North_Dakota/Beulah', 'America/North_Dakota/Center', 'America/North_Dakota/New_Salem', 'America/Nuuk', 'America/Ojinaga', 'America/Panama', 'America/Pangnirtung', 'America/Paramaribo', 'America/Phoenix', 'America/Port-au-Prince', 'America/Port_of_Spain', 'America/Porto_Velho', 'America/Puerto_Rico', 'America/Punta_Arenas', 'America/Rainy_River', 'America/Rankin_Inlet', 'America/Recife', 'America/Regina', 'America/Resolute', 'America/Rio_Branco', 'America/Santarem', 'America/Santiago', 'America/Santo_Domingo', 'America/Sao_Paulo', 'America/Scoresbysund', 'America/Sitka', 'America/St_Barthelemy', 'America/St_Johns', 'America/St_Kitts', 'America/St_Lucia', 'America/St_Thomas', 'America/St_Vincent', 'America/Swift_Current', 'America/Tegucigalpa', 'America/Thule', 'America/Thunder_Bay', 'America/Tijuana', 'America/Toronto', 'America/Tortola', 'America/Vancouver', 'America/Whitehorse', 'America/Winnipeg', 'America/Yakutat', 'America/Yellowknife', 'Antarctica/Casey', 'Antarctica/Davis', 'Antarctica/DumontDUrville', 'Antarctica/Macquarie', 'Antarctica/Mawson', 'Antarctica/McMurdo', 'Antarctica/Palmer', 'Antarctica/Rothera', 'Antarctica/Syowa', 'Antarctica/Troll', 'Antarctica/Vostok', 'Arctic/Longyearbyen', 'Asia/Aden', 'Asia/Almaty', 'Asia/Amman', 'Asia/Anadyr', 'Asia/Aqtau', 'Asia/Aqtobe', 'Asia/Ashgabat', 'Asia/Atyrau', 'Asia/Baghdad', 'Asia/Bahrain', 'Asia/Baku', 'Asia/Bangkok', 'Asia/Barnaul', 'Asia/Beirut', 'Asia/Bishkek', 'Asia/Brunei', 'Asia/Chita', 'Asia/Choibalsan', 'Asia/Colombo', 'Asia/Damascus', 'Asia/Dhaka', 'Asia/Dili', 'Asia/Dubai', 'Asia/Dushanbe', 'Asia/Famagusta', 'Asia/Gaza', 'Asia/Hebron', 'Asia/Ho_Chi_Minh', 'Asia/Hong_Kong', 'Asia/Hovd', 'Asia/Irkutsk', 'Asia/Jakarta', 'Asia/Jayapura', 'Asia/Jerusalem', 'Asia/Kabul', 'Asia/Kamchatka', 'Asia/Karachi', 'Asia/Kathmandu', 'Asia/Khandyga', 'Asia/Kolkata', 'Asia/Krasnoyarsk', 'Asia/Kuala_Lumpur', 'Asia/Kuching', 'Asia/Kuwait', 'Asia/Macau', 'Asia/Magadan', 'Asia/Makassar', 'Asia/Manila', 'Asia/Muscat', 'Asia/Nicosia', 'Asia/Novokuznetsk', 'Asia/Novosibirsk', 'Asia/Omsk', 'Asia/Oral', 'Asia/Phnom_Penh', 'Asia/Pontianak', 'Asia/Pyongyang', 'Asia/Qatar', 'Asia/Qostanay', 'Asia/Qyzylorda', 'Asia/Riyadh', 'Asia/Sakhalin', 'Asia/Samarkand', 'Asia/Seoul', 'Asia/Shanghai', 'Asia/Singapore', 'Asia/Srednekolymsk', 'Asia/Taipei', 'Asia/Tashkent', 'Asia/Tbilisi', 'Asia/Tehran', 'Asia/Thimphu', 'Asia/Tokyo', 'Asia/Tomsk', 'Asia/Ulaanbaatar', 'Asia/Urumqi', 'Asia/Ust-Nera', 'Asia/Vientiane', 'Asia/Vladivostok', 'Asia/Yakutsk', 'Asia/Yangon', 'Asia/Yekaterinburg', 'Asia/Yerevan', 'Atlantic/Azores', 'Atlantic/Bermuda', 'Atlantic/Canary', 'Atlantic/Cape_Verde', 'Atlantic/Faroe', 'Atlantic/Madeira', 'Atlantic/Reykjavik', 'Atlantic/South_Georgia', 'Atlantic/St_Helena', 'Atlantic/Stanley', 'Australia/Adelaide', 'Australia/Brisbane', 'Australia/Broken_Hill', 'Australia/Darwin', 'Australia/Eucla', 'Australia/Hobart', 'Australia/Lindeman', 'Australia/Lord_Howe', 'Australia/Melbourne', 'Australia/Perth', 'Australia/Sydney', 'Canada/Atlantic', 'Canada/Central', 'Canada/Eastern', 'Canada/Mountain', 'Canada/Newfoundland', 'Canada/Pacific', 'Europe/Amsterdam', 'Europe/Andorra', 'Europe/Astrakhan', 'Europe/Athens', 'Europe/Belgrade', 'Europe/Berlin', 'Europe/Bratislava', 'Europe/Brussels', 'Europe/Bucharest', 'Europe/Budapest', 'Europe/Busingen', 'Europe/Chisinau', 'Europe/Copenhagen', 'Europe/Dublin', 'Europe/Gibraltar', 'Europe/Guernsey', 'Europe/Helsinki', 'Europe/Isle_of_Man', 'Europe/Istanbul', 'Europe/Jersey', 'Europe/Kaliningrad', 'Europe/Kirov', 'Europe/Kyiv', 'Europe/Lisbon', 'Europe/Ljubljana', 'Europe/London', 'Europe/Luxembourg', 'Europe/Madrid', 'Europe/Malta', 'Europe/Mariehamn', 'Europe/Minsk', 'Europe/Monaco', 'Europe/Moscow', 'Europe/Oslo', 'Europe/Paris', 'Europe/Podgorica', 'Europe/Prague', 'Europe/Riga', 'Europe/Rome', 'Europe/Samara', 'Europe/San_Marino', 'Europe/Sarajevo', 'Europe/Saratov', 'Europe/Simferopol', 'Europe/Skopje', 'Europe/Sofia', 'Europe/Stockholm', 'Europe/Tallinn', 'Europe/Tirane', 'Europe/Ulyanovsk', 'Europe/Uzhgorod', 'Europe/Vaduz', 'Europe/Vatican', 'Europe/Vienna', 'Europe/Vilnius', 'Europe/Volgograd', 'Europe/Warsaw', 'Europe/Zagreb', 'Europe/Zaporozhye', 'Europe/Zurich', 'GMT', 'Indian/Antananarivo', 'Indian/Chagos', 'Indian/Christmas', 'Indian/Cocos', 'Indian/Comoro', 'Indian/Kerguelen', 'Indian/Mahe', 'Indian/Maldives', 'Indian/Mauritius', 'Indian/Mayotte', 'Indian/Reunion', 'Pacific/Apia', 'Pacific/Auckland', 'Pacific/Bougainville', 'Pacific/Chatham', 'Pacific/Chuuk', 'Pacific/Easter', 'Pacific/Efate', 'Pacific/Fakaofo', 'Pacific/Fiji', 'Pacific/Funafuti', 'Pacific/Galapagos', 'Pacific/Gambier', 'Pacific/Guadalcanal', 'Pacific/Guam', 'Pacific/Honolulu', 'Pacific/Kanton', 'Pacific/Kiritimati', 'Pacific/Kosrae', 'Pacific/Kwajalein', 'Pacific/Majuro', 'Pacific/Marquesas', 'Pacific/Midway', 'Pacific/Nauru', 'Pacific/Niue', 'Pacific/Norfolk', 'Pacific/Noumea', 'Pacific/Pago_Pago', 'Pacific/Palau', 'Pacific/Pitcairn', 'Pacific/Pohnpei', 'Pacific/Port_Moresby', 'Pacific/Rarotonga', 'Pacific/Saipan', 'Pacific/Tahiti', 'Pacific/Tarawa', 'Pacific/Tongatapu', 'Pacific/Wake', 'Pacific/Wallis', 'US/Alaska', 'US/Arizona', 'US/Central', 'US/Eastern', 'US/Hawaii', 'US/Mountain', 'US/Pacific', 'UTC'] \n",
      "\n"
     ]
    }
   ],
   "source": [
    "import pytz\n",
    "  \n",
    "print('Commonly used time-zones:', pytz.common_timezones, '\\n')"
   ]
  },
  {
   "attachments": {},
   "cell_type": "markdown",
   "metadata": {},
   "source": [
    "## Version 2"
   ]
  },
  {
   "cell_type": "code",
   "execution_count": 87,
   "metadata": {},
   "outputs": [
    {
     "data": {
      "application/vnd.plotly.v1+json": {
       "config": {
        "plotlyServerURL": "https://plot.ly"
       },
       "data": [],
       "layout": {
        "annotations": [
         {
          "font": {
           "size": 16
          },
          "showarrow": false,
          "text": "2022-09-16 at 19:44",
          "x": 0.14444444444444446,
          "xanchor": "center",
          "xref": "paper",
          "y": 1,
          "yanchor": "bottom",
          "yref": "paper"
         },
         {
          "font": {
           "size": 16
          },
          "showarrow": false,
          "text": "2022-01-29 at 23:37",
          "x": 0.5,
          "xanchor": "center",
          "xref": "paper",
          "y": 1,
          "yanchor": "bottom",
          "yref": "paper"
         },
         {
          "font": {
           "size": 16
          },
          "showarrow": false,
          "text": "2022-09-13 at 20:50",
          "x": 0.8555555555555556,
          "xanchor": "center",
          "xref": "paper",
          "y": 1,
          "yanchor": "bottom",
          "yref": "paper"
         },
         {
          "arrowhead": 2,
          "ax": 0.5,
          "axref": "x domain",
          "ay": 2,
          "ayref": "y",
          "text": "201 likes, 8 comments",
          "x": 0.5,
          "xref": "x domain",
          "y": -0.1,
          "yref": "y domain"
         },
         {
          "arrowhead": 2,
          "ax": 0.5,
          "axref": "x domain",
          "ay": 2,
          "ayref": "y",
          "text": "64 likes, 4 comments",
          "x": 0.5,
          "xref": "x2 domain",
          "y": -0.1,
          "yref": "y2 domain"
         },
         {
          "arrowhead": 2,
          "ax": 0.5,
          "axref": "x domain",
          "ay": 2,
          "ayref": "y",
          "text": "36 likes, 4 comments",
          "x": 0.5,
          "xref": "x3 domain",
          "y": -0.1,
          "yref": "y3 domain"
         }
        ],
        "images": [
         {
          "opacity": 1,
          "sizex": 1,
          "sizey": 1,
          "source": "https://scontent.cdninstagram.com/v/t51.29350-15/306944615_628329095522932_7384461444504562161_n.jpg?_nc_cat=110&ccb=1-7&_nc_sid=8ae9d6&_nc_ohc=diZ9vtlM2Z0AX-JPmY0&_nc_ht=scontent.cdninstagram.com&edm=AM6HXa8EAAAA&oh=00_AfCS7ZIsr7QxsRgdJat0RoBPzxr4ki5qGjx4UA_TjfOU5w&oe=63ED145F",
          "x": 0,
          "xanchor": "center",
          "xref": "x",
          "y": 0,
          "yanchor": "middle",
          "yref": "y"
         },
         {
          "opacity": 1,
          "sizex": 1,
          "sizey": 1,
          "source": "https://scontent.cdninstagram.com/v/t51.29350-15/272823187_296325119146031_3389369555818353560_n.jpg?_nc_cat=108&ccb=1-7&_nc_sid=8ae9d6&_nc_ohc=GK2rf1Hn638AX-cAkHL&_nc_ht=scontent.cdninstagram.com&edm=AM6HXa8EAAAA&oh=00_AfBgNqOF4r5iogBn6GYwOc0nknDKcZ-oKl6LYpRQBVeWJQ&oe=63EC848E",
          "x": 0,
          "xanchor": "center",
          "xref": "x2",
          "y": 0,
          "yanchor": "middle",
          "yref": "y2"
         },
         {
          "opacity": 1,
          "sizex": 1,
          "sizey": 1,
          "source": "https://scontent.cdninstagram.com/v/t51.29350-15/306572675_476992117678881_508139851521796754_n.jpg?_nc_cat=103&ccb=1-7&_nc_sid=8ae9d6&_nc_ohc=rW7F-WPjf9AAX_y82sp&_nc_ht=scontent.cdninstagram.com&edm=AM6HXa8EAAAA&oh=00_AfAa0Bx1Ac9ZGHmw0QkY101xo2KjxNwJ1y7ZxYtu9OeA_Q&oe=63ECA360",
          "x": 0,
          "xanchor": "center",
          "xref": "x3",
          "y": 0,
          "yanchor": "middle",
          "yref": "y3"
         }
        ],
        "plot_bgcolor": "white",
        "template": {
         "data": {
          "bar": [
           {
            "error_x": {
             "color": "#2a3f5f"
            },
            "error_y": {
             "color": "#2a3f5f"
            },
            "marker": {
             "line": {
              "color": "#E5ECF6",
              "width": 0.5
             },
             "pattern": {
              "fillmode": "overlay",
              "size": 10,
              "solidity": 0.2
             }
            },
            "type": "bar"
           }
          ],
          "barpolar": [
           {
            "marker": {
             "line": {
              "color": "#E5ECF6",
              "width": 0.5
             },
             "pattern": {
              "fillmode": "overlay",
              "size": 10,
              "solidity": 0.2
             }
            },
            "type": "barpolar"
           }
          ],
          "carpet": [
           {
            "aaxis": {
             "endlinecolor": "#2a3f5f",
             "gridcolor": "white",
             "linecolor": "white",
             "minorgridcolor": "white",
             "startlinecolor": "#2a3f5f"
            },
            "baxis": {
             "endlinecolor": "#2a3f5f",
             "gridcolor": "white",
             "linecolor": "white",
             "minorgridcolor": "white",
             "startlinecolor": "#2a3f5f"
            },
            "type": "carpet"
           }
          ],
          "choropleth": [
           {
            "colorbar": {
             "outlinewidth": 0,
             "ticks": ""
            },
            "type": "choropleth"
           }
          ],
          "contour": [
           {
            "colorbar": {
             "outlinewidth": 0,
             "ticks": ""
            },
            "colorscale": [
             [
              0,
              "#0d0887"
             ],
             [
              0.1111111111111111,
              "#46039f"
             ],
             [
              0.2222222222222222,
              "#7201a8"
             ],
             [
              0.3333333333333333,
              "#9c179e"
             ],
             [
              0.4444444444444444,
              "#bd3786"
             ],
             [
              0.5555555555555556,
              "#d8576b"
             ],
             [
              0.6666666666666666,
              "#ed7953"
             ],
             [
              0.7777777777777778,
              "#fb9f3a"
             ],
             [
              0.8888888888888888,
              "#fdca26"
             ],
             [
              1,
              "#f0f921"
             ]
            ],
            "type": "contour"
           }
          ],
          "contourcarpet": [
           {
            "colorbar": {
             "outlinewidth": 0,
             "ticks": ""
            },
            "type": "contourcarpet"
           }
          ],
          "heatmap": [
           {
            "colorbar": {
             "outlinewidth": 0,
             "ticks": ""
            },
            "colorscale": [
             [
              0,
              "#0d0887"
             ],
             [
              0.1111111111111111,
              "#46039f"
             ],
             [
              0.2222222222222222,
              "#7201a8"
             ],
             [
              0.3333333333333333,
              "#9c179e"
             ],
             [
              0.4444444444444444,
              "#bd3786"
             ],
             [
              0.5555555555555556,
              "#d8576b"
             ],
             [
              0.6666666666666666,
              "#ed7953"
             ],
             [
              0.7777777777777778,
              "#fb9f3a"
             ],
             [
              0.8888888888888888,
              "#fdca26"
             ],
             [
              1,
              "#f0f921"
             ]
            ],
            "type": "heatmap"
           }
          ],
          "heatmapgl": [
           {
            "colorbar": {
             "outlinewidth": 0,
             "ticks": ""
            },
            "colorscale": [
             [
              0,
              "#0d0887"
             ],
             [
              0.1111111111111111,
              "#46039f"
             ],
             [
              0.2222222222222222,
              "#7201a8"
             ],
             [
              0.3333333333333333,
              "#9c179e"
             ],
             [
              0.4444444444444444,
              "#bd3786"
             ],
             [
              0.5555555555555556,
              "#d8576b"
             ],
             [
              0.6666666666666666,
              "#ed7953"
             ],
             [
              0.7777777777777778,
              "#fb9f3a"
             ],
             [
              0.8888888888888888,
              "#fdca26"
             ],
             [
              1,
              "#f0f921"
             ]
            ],
            "type": "heatmapgl"
           }
          ],
          "histogram": [
           {
            "marker": {
             "pattern": {
              "fillmode": "overlay",
              "size": 10,
              "solidity": 0.2
             }
            },
            "type": "histogram"
           }
          ],
          "histogram2d": [
           {
            "colorbar": {
             "outlinewidth": 0,
             "ticks": ""
            },
            "colorscale": [
             [
              0,
              "#0d0887"
             ],
             [
              0.1111111111111111,
              "#46039f"
             ],
             [
              0.2222222222222222,
              "#7201a8"
             ],
             [
              0.3333333333333333,
              "#9c179e"
             ],
             [
              0.4444444444444444,
              "#bd3786"
             ],
             [
              0.5555555555555556,
              "#d8576b"
             ],
             [
              0.6666666666666666,
              "#ed7953"
             ],
             [
              0.7777777777777778,
              "#fb9f3a"
             ],
             [
              0.8888888888888888,
              "#fdca26"
             ],
             [
              1,
              "#f0f921"
             ]
            ],
            "type": "histogram2d"
           }
          ],
          "histogram2dcontour": [
           {
            "colorbar": {
             "outlinewidth": 0,
             "ticks": ""
            },
            "colorscale": [
             [
              0,
              "#0d0887"
             ],
             [
              0.1111111111111111,
              "#46039f"
             ],
             [
              0.2222222222222222,
              "#7201a8"
             ],
             [
              0.3333333333333333,
              "#9c179e"
             ],
             [
              0.4444444444444444,
              "#bd3786"
             ],
             [
              0.5555555555555556,
              "#d8576b"
             ],
             [
              0.6666666666666666,
              "#ed7953"
             ],
             [
              0.7777777777777778,
              "#fb9f3a"
             ],
             [
              0.8888888888888888,
              "#fdca26"
             ],
             [
              1,
              "#f0f921"
             ]
            ],
            "type": "histogram2dcontour"
           }
          ],
          "mesh3d": [
           {
            "colorbar": {
             "outlinewidth": 0,
             "ticks": ""
            },
            "type": "mesh3d"
           }
          ],
          "parcoords": [
           {
            "line": {
             "colorbar": {
              "outlinewidth": 0,
              "ticks": ""
             }
            },
            "type": "parcoords"
           }
          ],
          "pie": [
           {
            "automargin": true,
            "type": "pie"
           }
          ],
          "scatter": [
           {
            "fillpattern": {
             "fillmode": "overlay",
             "size": 10,
             "solidity": 0.2
            },
            "type": "scatter"
           }
          ],
          "scatter3d": [
           {
            "line": {
             "colorbar": {
              "outlinewidth": 0,
              "ticks": ""
             }
            },
            "marker": {
             "colorbar": {
              "outlinewidth": 0,
              "ticks": ""
             }
            },
            "type": "scatter3d"
           }
          ],
          "scattercarpet": [
           {
            "marker": {
             "colorbar": {
              "outlinewidth": 0,
              "ticks": ""
             }
            },
            "type": "scattercarpet"
           }
          ],
          "scattergeo": [
           {
            "marker": {
             "colorbar": {
              "outlinewidth": 0,
              "ticks": ""
             }
            },
            "type": "scattergeo"
           }
          ],
          "scattergl": [
           {
            "marker": {
             "colorbar": {
              "outlinewidth": 0,
              "ticks": ""
             }
            },
            "type": "scattergl"
           }
          ],
          "scattermapbox": [
           {
            "marker": {
             "colorbar": {
              "outlinewidth": 0,
              "ticks": ""
             }
            },
            "type": "scattermapbox"
           }
          ],
          "scatterpolar": [
           {
            "marker": {
             "colorbar": {
              "outlinewidth": 0,
              "ticks": ""
             }
            },
            "type": "scatterpolar"
           }
          ],
          "scatterpolargl": [
           {
            "marker": {
             "colorbar": {
              "outlinewidth": 0,
              "ticks": ""
             }
            },
            "type": "scatterpolargl"
           }
          ],
          "scatterternary": [
           {
            "marker": {
             "colorbar": {
              "outlinewidth": 0,
              "ticks": ""
             }
            },
            "type": "scatterternary"
           }
          ],
          "surface": [
           {
            "colorbar": {
             "outlinewidth": 0,
             "ticks": ""
            },
            "colorscale": [
             [
              0,
              "#0d0887"
             ],
             [
              0.1111111111111111,
              "#46039f"
             ],
             [
              0.2222222222222222,
              "#7201a8"
             ],
             [
              0.3333333333333333,
              "#9c179e"
             ],
             [
              0.4444444444444444,
              "#bd3786"
             ],
             [
              0.5555555555555556,
              "#d8576b"
             ],
             [
              0.6666666666666666,
              "#ed7953"
             ],
             [
              0.7777777777777778,
              "#fb9f3a"
             ],
             [
              0.8888888888888888,
              "#fdca26"
             ],
             [
              1,
              "#f0f921"
             ]
            ],
            "type": "surface"
           }
          ],
          "table": [
           {
            "cells": {
             "fill": {
              "color": "#EBF0F8"
             },
             "line": {
              "color": "white"
             }
            },
            "header": {
             "fill": {
              "color": "#C8D4E3"
             },
             "line": {
              "color": "white"
             }
            },
            "type": "table"
           }
          ]
         },
         "layout": {
          "annotationdefaults": {
           "arrowcolor": "#2a3f5f",
           "arrowhead": 0,
           "arrowwidth": 1
          },
          "autotypenumbers": "strict",
          "coloraxis": {
           "colorbar": {
            "outlinewidth": 0,
            "ticks": ""
           }
          },
          "colorscale": {
           "diverging": [
            [
             0,
             "#8e0152"
            ],
            [
             0.1,
             "#c51b7d"
            ],
            [
             0.2,
             "#de77ae"
            ],
            [
             0.3,
             "#f1b6da"
            ],
            [
             0.4,
             "#fde0ef"
            ],
            [
             0.5,
             "#f7f7f7"
            ],
            [
             0.6,
             "#e6f5d0"
            ],
            [
             0.7,
             "#b8e186"
            ],
            [
             0.8,
             "#7fbc41"
            ],
            [
             0.9,
             "#4d9221"
            ],
            [
             1,
             "#276419"
            ]
           ],
           "sequential": [
            [
             0,
             "#0d0887"
            ],
            [
             0.1111111111111111,
             "#46039f"
            ],
            [
             0.2222222222222222,
             "#7201a8"
            ],
            [
             0.3333333333333333,
             "#9c179e"
            ],
            [
             0.4444444444444444,
             "#bd3786"
            ],
            [
             0.5555555555555556,
             "#d8576b"
            ],
            [
             0.6666666666666666,
             "#ed7953"
            ],
            [
             0.7777777777777778,
             "#fb9f3a"
            ],
            [
             0.8888888888888888,
             "#fdca26"
            ],
            [
             1,
             "#f0f921"
            ]
           ],
           "sequentialminus": [
            [
             0,
             "#0d0887"
            ],
            [
             0.1111111111111111,
             "#46039f"
            ],
            [
             0.2222222222222222,
             "#7201a8"
            ],
            [
             0.3333333333333333,
             "#9c179e"
            ],
            [
             0.4444444444444444,
             "#bd3786"
            ],
            [
             0.5555555555555556,
             "#d8576b"
            ],
            [
             0.6666666666666666,
             "#ed7953"
            ],
            [
             0.7777777777777778,
             "#fb9f3a"
            ],
            [
             0.8888888888888888,
             "#fdca26"
            ],
            [
             1,
             "#f0f921"
            ]
           ]
          },
          "colorway": [
           "#636efa",
           "#EF553B",
           "#00cc96",
           "#ab63fa",
           "#FFA15A",
           "#19d3f3",
           "#FF6692",
           "#B6E880",
           "#FF97FF",
           "#FECB52"
          ],
          "font": {
           "color": "#2a3f5f"
          },
          "geo": {
           "bgcolor": "white",
           "lakecolor": "white",
           "landcolor": "#E5ECF6",
           "showlakes": true,
           "showland": true,
           "subunitcolor": "white"
          },
          "hoverlabel": {
           "align": "left"
          },
          "hovermode": "closest",
          "mapbox": {
           "style": "light"
          },
          "paper_bgcolor": "white",
          "plot_bgcolor": "#E5ECF6",
          "polar": {
           "angularaxis": {
            "gridcolor": "white",
            "linecolor": "white",
            "ticks": ""
           },
           "bgcolor": "#E5ECF6",
           "radialaxis": {
            "gridcolor": "white",
            "linecolor": "white",
            "ticks": ""
           }
          },
          "scene": {
           "xaxis": {
            "backgroundcolor": "#E5ECF6",
            "gridcolor": "white",
            "gridwidth": 2,
            "linecolor": "white",
            "showbackground": true,
            "ticks": "",
            "zerolinecolor": "white"
           },
           "yaxis": {
            "backgroundcolor": "#E5ECF6",
            "gridcolor": "white",
            "gridwidth": 2,
            "linecolor": "white",
            "showbackground": true,
            "ticks": "",
            "zerolinecolor": "white"
           },
           "zaxis": {
            "backgroundcolor": "#E5ECF6",
            "gridcolor": "white",
            "gridwidth": 2,
            "linecolor": "white",
            "showbackground": true,
            "ticks": "",
            "zerolinecolor": "white"
           }
          },
          "shapedefaults": {
           "line": {
            "color": "#2a3f5f"
           }
          },
          "ternary": {
           "aaxis": {
            "gridcolor": "white",
            "linecolor": "white",
            "ticks": ""
           },
           "baxis": {
            "gridcolor": "white",
            "linecolor": "white",
            "ticks": ""
           },
           "bgcolor": "#E5ECF6",
           "caxis": {
            "gridcolor": "white",
            "linecolor": "white",
            "ticks": ""
           }
          },
          "title": {
           "x": 0.05
          },
          "xaxis": {
           "automargin": true,
           "gridcolor": "white",
           "linecolor": "white",
           "ticks": "",
           "title": {
            "standoff": 15
           },
           "zerolinecolor": "white",
           "zerolinewidth": 2
          },
          "yaxis": {
           "automargin": true,
           "gridcolor": "white",
           "linecolor": "white",
           "ticks": "",
           "title": {
            "standoff": 15
           },
           "zerolinecolor": "white",
           "zerolinewidth": 2
          }
         }
        },
        "xaxis": {
         "anchor": "y",
         "domain": [
          0,
          0.2888888888888889
         ],
         "range": [
          -0.5,
          0.5
         ],
         "showticklabels": false
        },
        "xaxis2": {
         "anchor": "y2",
         "domain": [
          0.35555555555555557,
          0.6444444444444445
         ],
         "range": [
          -0.5,
          0.5
         ],
         "showticklabels": false
        },
        "xaxis3": {
         "anchor": "y3",
         "domain": [
          0.7111111111111111,
          1
         ],
         "range": [
          -0.5,
          0.5
         ],
         "showticklabels": false
        },
        "yaxis": {
         "anchor": "x",
         "domain": [
          0,
          1
         ],
         "range": [
          -0.5,
          0.5
         ],
         "showticklabels": false
        },
        "yaxis2": {
         "anchor": "x2",
         "domain": [
          0,
          1
         ],
         "range": [
          -0.5,
          0.5
         ],
         "showticklabels": false
        },
        "yaxis3": {
         "anchor": "x3",
         "domain": [
          0,
          1
         ],
         "range": [
          -0.5,
          0.5
         ],
         "showticklabels": false
        }
       }
      }
     },
     "metadata": {},
     "output_type": "display_data"
    }
   ],
   "source": [
    "def plot_images(df, n=6, top=True, max_columns=5, streamlit=False, timezone='Canada/Pacific'):\n",
    "    \"\"\"\n",
    "    Plot the images/video thumbnails of either the top or \n",
    "    worst performing instagram media (posts, reels, carousels).\n",
    "    The following data is shown for each resulting media item:\n",
    "        - Image/video thumbnail\n",
    "        - Time stamp of the post in the provided time zone or in UTC time.\n",
    "        - Number of likes and number of comments.\n",
    "\n",
    "    Parameters:\n",
    "        - df: DataFrame with the processed data.\n",
    "        - n (int): Number of images to show.\n",
    "        - top (bool): If True, plot images with the highest number of likes in \n",
    "            descending order. If False, plot images with the highest number of likes in\n",
    "            ascending order. sort_by = ['like_count', 'comments_count', 'timestamp']\n",
    "        - streamlit (bool): Whether or not the app runs on Streamlit. If False, then\n",
    "            it is run on local machine.\n",
    "        - timezone (str): Timezone parameter for the `.astimezone()` method.\n",
    "            e.g. 'Australia/Sydney', 'Canada/Pacific'\n",
    "    Returns:\n",
    "        - DataFrame containing the data of the posts in the figure.\n",
    "        - fig: Plotly figure object.\n",
    "    \"\"\"\n",
    "    ncols = n if n<max_columns else max_columns\n",
    "    nrows = (n + ncols - 1) // ncols\n",
    "    sort_by = ['like_count', 'comments_count', 'timestamp']\n",
    "    posts = df.sort_values(by=sort_by, ascending=False if top else True).head(n).copy()\n",
    "    posts['thumbnail_url'].fillna(posts['media_url'], inplace=True)\n",
    "    if timezone:\n",
    "        print('Time zone:', timezone)\n",
    "        converted_timestamp = [timestamp.astimezone(timezone) for timestamp in pd.to_datetime(posts['timestamp'])]\n",
    "        titles = tuple(timestamp.strftime('%Y-%m-%d at %H:%M') for timestamp in converted_timestamp)\n",
    "    else:\n",
    "        titles = tuple(posts['timestamp'].dt.strftime('%Y-%m-%d at %H:%M').values.tolist())\n",
    "    fig = make_subplots(rows=nrows, cols=ncols, subplot_titles=titles)\n",
    "    for index, (n_likes, n_comments, url) in enumerate(zip(\n",
    "            posts['like_count'], posts['comments_count'], posts['thumbnail_url'])\n",
    "        ):\n",
    "        fig.add_layout_image(\n",
    "            x=0, y=0,\n",
    "            xanchor='center', yanchor='middle',\n",
    "            sizex=1, sizey=1,\n",
    "            row=index // ncols + 1,\n",
    "            col=index % ncols + 1,\n",
    "            xref=\"x\",\n",
    "            yref=\"y\",\n",
    "            opacity=1.0,\n",
    "            source=url\n",
    "        )\n",
    "        fig.add_annotation(\n",
    "            xref=\"x domain\",\n",
    "            yref=\"y domain\",\n",
    "            x=0.5,\n",
    "            y=-.10,\n",
    "            text=f'{n_likes} likes, {n_comments} comments',\n",
    "            axref=\"x domain\",\n",
    "            ayref=\"y\",\n",
    "            ax=0.5,\n",
    "            ay=2,\n",
    "            arrowhead=2,\n",
    "            row=index // ncols + 1,\n",
    "            col=index % ncols + 1,\n",
    "        )\n",
    "    fig.update_xaxes(range=[-0.5,0.5], showticklabels=False)\n",
    "    fig.update_yaxes(range=[-0.5,0.5], showticklabels=False)\n",
    "    fig.update_layout(plot_bgcolor=\"white\")\n",
    "    if streamlit:\n",
    "        st.plotly_chart(fig, use_container_width=True)\n",
    "    else:\n",
    "        fig.show()\n",
    "    return posts.reset_index(drop=True), fig\n",
    "\n",
    "posts, fig = plot_images(df2022_processed, n=3, max_columns=5, timezone=None)"
   ]
  },
  {
   "attachments": {},
   "cell_type": "markdown",
   "metadata": {},
   "source": [
    "# Plot with top Tfidf scores"
   ]
  },
  {
   "attachments": {},
   "cell_type": "markdown",
   "metadata": {},
   "source": [
    "## tfidf_transform"
   ]
  },
  {
   "cell_type": "code",
   "execution_count": 5,
   "metadata": {},
   "outputs": [
    {
     "data": {
      "text/plain": [
       "40    0.065557\n",
       "21    0.000000\n",
       "23    0.000000\n",
       "Name: ab, dtype: float64"
      ]
     },
     "execution_count": 5,
     "metadata": {},
     "output_type": "execute_result"
    }
   ],
   "source": [
    "from sklearn.feature_extraction.text import TfidfTransformer\n",
    "def tfidf_transform(count_vector):\n",
    "    vectorizer = TfidfTransformer()\n",
    "    tfidf= pd.DataFrame(\n",
    "        vectorizer.fit_transform(count_vector).toarray(), \n",
    "        columns=vectorizer.get_feature_names_out()\n",
    "        )\n",
    "    return tfidf\n",
    "\n",
    "tfidf = tfidf_transform(count_vector)\n",
    "tfidf['ab'].sort_values(ascending=False).head(3)"
   ]
  },
  {
   "cell_type": "code",
   "execution_count": 16,
   "metadata": {},
   "outputs": [
    {
     "data": {
      "text/plain": [
       "Index(['youll', 'excite', 'ai', 'health', 'recommend', 'get', 'adopt',\n",
       "       'challenge', 'people', 'app',\n",
       "       ...\n",
       "       'fountain', 'frailty', 'free', 'friend', 'front', 'functional', 'glue',\n",
       "       'glut', 'go', '<number>'],\n",
       "      dtype='object', length=660)"
      ]
     },
     "execution_count": 16,
     "metadata": {},
     "output_type": "execute_result"
    }
   ],
   "source": [
    "tfidf.loc[1].sort_values(ascending=False).index"
   ]
  },
  {
   "attachments": {},
   "cell_type": "markdown",
   "metadata": {},
   "source": [
    "## plot"
   ]
  },
  {
   "cell_type": "code",
   "execution_count": 10,
   "metadata": {},
   "outputs": [
    {
     "data": {
      "application/vnd.plotly.v1+json": {
       "config": {
        "plotlyServerURL": "https://plot.ly"
       },
       "data": [],
       "layout": {
        "annotations": [
         {
          "font": {
           "size": 16
          },
          "showarrow": false,
          "text": "2022-09-16 at 19:44",
          "x": 0.14444444444444446,
          "xanchor": "center",
          "xref": "paper",
          "y": 1,
          "yanchor": "bottom",
          "yref": "paper"
         },
         {
          "font": {
           "size": 16
          },
          "showarrow": false,
          "text": "2022-01-29 at 23:37",
          "x": 0.5,
          "xanchor": "center",
          "xref": "paper",
          "y": 1,
          "yanchor": "bottom",
          "yref": "paper"
         },
         {
          "font": {
           "size": 16
          },
          "showarrow": false,
          "text": "2022-09-13 at 20:50",
          "x": 0.8555555555555556,
          "xanchor": "center",
          "xref": "paper",
          "y": 1,
          "yanchor": "bottom",
          "yref": "paper"
         },
         {
          "font": {
           "size": 16
          },
          "showarrow": false,
          "text": "2022-09-27 at 21:31",
          "x": 0.14444444444444446,
          "xanchor": "center",
          "xref": "paper",
          "y": 0.3625,
          "yanchor": "bottom",
          "yref": "paper"
         },
         {
          "font": {
           "size": 16
          },
          "showarrow": false,
          "text": "2022-06-29 at 15:16",
          "x": 0.5,
          "xanchor": "center",
          "xref": "paper",
          "y": 0.3625,
          "yanchor": "bottom",
          "yref": "paper"
         },
         {
          "font": {
           "size": 16
          },
          "showarrow": false,
          "text": "2022-12-30 at 02:05",
          "x": 0.8555555555555556,
          "xanchor": "center",
          "xref": "paper",
          "y": 0.3625,
          "yanchor": "bottom",
          "yref": "paper"
         },
         {
          "arrowhead": 2,
          "ax": 0.5,
          "axref": "x domain",
          "ay": 2,
          "ayref": "y",
          "text": "201 likes, 8 comments",
          "x": 0.5,
          "xref": "x domain",
          "y": -0.075,
          "yref": "y domain"
         },
         {
          "arrowhead": 2,
          "ax": 0.5,
          "axref": "x domain",
          "ay": 2,
          "ayref": "y",
          "text": "Most unique words:",
          "x": 0.5,
          "xref": "x domain",
          "y": -0.175,
          "yref": "y domain"
         },
         {
          "arrowhead": 2,
          "ax": 0.5,
          "axref": "x domain",
          "ay": 2,
          "ayref": "y",
          "text": "stay",
          "x": 0.5,
          "xref": "x domain",
          "y": -0.25,
          "yref": "y domain"
         },
         {
          "arrowhead": 2,
          "ax": 0.5,
          "axref": "x domain",
          "ay": 2,
          "ayref": "y",
          "text": "record",
          "x": 0.5,
          "xref": "x domain",
          "y": -0.325,
          "yref": "y domain"
         },
         {
          "arrowhead": 2,
          "ax": 0.5,
          "axref": "x domain",
          "ay": 2,
          "ayref": "y",
          "text": "yell",
          "x": 0.5,
          "xref": "x domain",
          "y": -0.4,
          "yref": "y domain"
         },
         {
          "arrowhead": 2,
          "ax": 0.5,
          "axref": "x domain",
          "ay": 2,
          "ayref": "y",
          "text": "motivate",
          "x": 0.5,
          "xref": "x domain",
          "y": -0.47500000000000003,
          "yref": "y domain"
         },
         {
          "arrowhead": 2,
          "ax": 0.5,
          "axref": "x domain",
          "ay": 2,
          "ayref": "y",
          "text": "mastery",
          "x": 0.5,
          "xref": "x domain",
          "y": -0.55,
          "yref": "y domain"
         },
         {
          "arrowhead": 2,
          "ax": 0.5,
          "axref": "x domain",
          "ay": 2,
          "ayref": "y",
          "text": "64 likes, 4 comments",
          "x": 0.5,
          "xref": "x2 domain",
          "y": -0.075,
          "yref": "y2 domain"
         },
         {
          "arrowhead": 2,
          "ax": 0.5,
          "axref": "x domain",
          "ay": 2,
          "ayref": "y",
          "text": "Most unique words:",
          "x": 0.5,
          "xref": "x2 domain",
          "y": -0.175,
          "yref": "y2 domain"
         },
         {
          "arrowhead": 2,
          "ax": 0.5,
          "axref": "x domain",
          "ay": 2,
          "ayref": "y",
          "text": "mask",
          "x": 0.5,
          "xref": "x2 domain",
          "y": -0.25,
          "yref": "y2 domain"
         },
         {
          "arrowhead": 2,
          "ax": 0.5,
          "axref": "x domain",
          "ay": 2,
          "ayref": "y",
          "text": "recognized",
          "x": 0.5,
          "xref": "x2 domain",
          "y": -0.325,
          "yref": "y2 domain"
         },
         {
          "arrowhead": 2,
          "ax": 0.5,
          "axref": "x domain",
          "ay": 2,
          "ayref": "y",
          "text": "cool",
          "x": 0.5,
          "xref": "x2 domain",
          "y": -0.4,
          "yref": "y2 domain"
         },
         {
          "arrowhead": 2,
          "ax": 0.5,
          "axref": "x domain",
          "ay": 2,
          "ayref": "y",
          "text": "female",
          "x": 0.5,
          "xref": "x2 domain",
          "y": -0.47500000000000003,
          "yref": "y2 domain"
         },
         {
          "arrowhead": 2,
          "ax": 0.5,
          "axref": "x domain",
          "ay": 2,
          "ayref": "y",
          "text": "someone",
          "x": 0.5,
          "xref": "x2 domain",
          "y": -0.55,
          "yref": "y2 domain"
         },
         {
          "arrowhead": 2,
          "ax": 0.5,
          "axref": "x domain",
          "ay": 2,
          "ayref": "y",
          "text": "36 likes, 4 comments",
          "x": 0.5,
          "xref": "x3 domain",
          "y": -0.075,
          "yref": "y3 domain"
         },
         {
          "arrowhead": 2,
          "ax": 0.5,
          "axref": "x domain",
          "ay": 2,
          "ayref": "y",
          "text": "Most unique words:",
          "x": 0.5,
          "xref": "x3 domain",
          "y": -0.175,
          "yref": "y3 domain"
         },
         {
          "arrowhead": 2,
          "ax": 0.5,
          "axref": "x domain",
          "ay": 2,
          "ayref": "y",
          "text": "time",
          "x": 0.5,
          "xref": "x3 domain",
          "y": -0.25,
          "yref": "y3 domain"
         },
         {
          "arrowhead": 2,
          "ax": 0.5,
          "axref": "x domain",
          "ay": 2,
          "ayref": "y",
          "text": "manage",
          "x": 0.5,
          "xref": "x3 domain",
          "y": -0.325,
          "yref": "y3 domain"
         },
         {
          "arrowhead": 2,
          "ax": 0.5,
          "axref": "x domain",
          "ay": 2,
          "ayref": "y",
          "text": "congrats",
          "x": 0.5,
          "xref": "x3 domain",
          "y": -0.4,
          "yref": "y3 domain"
         },
         {
          "arrowhead": 2,
          "ax": 0.5,
          "axref": "x domain",
          "ay": 2,
          "ayref": "y",
          "text": "heel",
          "x": 0.5,
          "xref": "x3 domain",
          "y": -0.47500000000000003,
          "yref": "y3 domain"
         },
         {
          "arrowhead": 2,
          "ax": 0.5,
          "axref": "x domain",
          "ay": 2,
          "ayref": "y",
          "text": "marry",
          "x": 0.5,
          "xref": "x3 domain",
          "y": -0.55,
          "yref": "y3 domain"
         },
         {
          "arrowhead": 2,
          "ax": 0.5,
          "axref": "x domain",
          "ay": 2,
          "ayref": "y",
          "text": "34 likes, 6 comments",
          "x": 0.5,
          "xref": "x4 domain",
          "y": -0.075,
          "yref": "y4 domain"
         },
         {
          "arrowhead": 2,
          "ax": 0.5,
          "axref": "x domain",
          "ay": 2,
          "ayref": "y",
          "text": "Most unique words:",
          "x": 0.5,
          "xref": "x4 domain",
          "y": -0.175,
          "yref": "y4 domain"
         },
         {
          "arrowhead": 2,
          "ax": 0.5,
          "axref": "x domain",
          "ay": 2,
          "ayref": "y",
          "text": "happy",
          "x": 0.5,
          "xref": "x4 domain",
          "y": -0.25,
          "yref": "y4 domain"
         },
         {
          "arrowhead": 2,
          "ax": 0.5,
          "axref": "x domain",
          "ay": 2,
          "ayref": "y",
          "text": "anf",
          "x": 0.5,
          "xref": "x4 domain",
          "y": -0.325,
          "yref": "y4 domain"
         },
         {
          "arrowhead": 2,
          "ax": 0.5,
          "axref": "x domain",
          "ay": 2,
          "ayref": "y",
          "text": "nifty",
          "x": 0.5,
          "xref": "x4 domain",
          "y": -0.4,
          "yref": "y4 domain"
         },
         {
          "arrowhead": 2,
          "ax": 0.5,
          "axref": "x domain",
          "ay": 2,
          "ayref": "y",
          "text": "old",
          "x": 0.5,
          "xref": "x4 domain",
          "y": -0.47500000000000003,
          "yref": "y4 domain"
         },
         {
          "arrowhead": 2,
          "ax": 0.5,
          "axref": "x domain",
          "ay": 2,
          "ayref": "y",
          "text": "bike",
          "x": 0.5,
          "xref": "x4 domain",
          "y": -0.55,
          "yref": "y4 domain"
         },
         {
          "arrowhead": 2,
          "ax": 0.5,
          "axref": "x domain",
          "ay": 2,
          "ayref": "y",
          "text": "34 likes, 1 comments",
          "x": 0.5,
          "xref": "x5 domain",
          "y": -0.075,
          "yref": "y5 domain"
         },
         {
          "arrowhead": 2,
          "ax": 0.5,
          "axref": "x domain",
          "ay": 2,
          "ayref": "y",
          "text": "Most unique words:",
          "x": 0.5,
          "xref": "x5 domain",
          "y": -0.175,
          "yref": "y5 domain"
         },
         {
          "arrowhead": 2,
          "ax": 0.5,
          "axref": "x domain",
          "ay": 2,
          "ayref": "y",
          "text": "<empty>",
          "x": 0.5,
          "xref": "x5 domain",
          "y": -0.25,
          "yref": "y5 domain"
         },
         {
          "arrowhead": 2,
          "ax": 0.5,
          "axref": "x domain",
          "ay": 2,
          "ayref": "y",
          "text": "30 likes, 0 comments",
          "x": 0.5,
          "xref": "x6 domain",
          "y": -0.075,
          "yref": "y6 domain"
         },
         {
          "arrowhead": 2,
          "ax": 0.5,
          "axref": "x domain",
          "ay": 2,
          "ayref": "y",
          "text": "Most unique words:",
          "x": 0.5,
          "xref": "x6 domain",
          "y": -0.175,
          "yref": "y6 domain"
         }
        ],
        "height": 710,
        "images": [
         {
          "opacity": 1,
          "sizex": 1,
          "sizey": 1,
          "source": "https://scontent.cdninstagram.com/v/t51.29350-15/306944615_628329095522932_7384461444504562161_n.jpg?_nc_cat=110&ccb=1-7&_nc_sid=8ae9d6&_nc_ohc=diZ9vtlM2Z0AX-JPmY0&_nc_ht=scontent.cdninstagram.com&edm=AM6HXa8EAAAA&oh=00_AfCS7ZIsr7QxsRgdJat0RoBPzxr4ki5qGjx4UA_TjfOU5w&oe=63ED145F",
          "x": 0,
          "xanchor": "center",
          "xref": "x",
          "y": 0,
          "yanchor": "middle",
          "yref": "y"
         },
         {
          "opacity": 1,
          "sizex": 1,
          "sizey": 1,
          "source": "https://scontent.cdninstagram.com/v/t51.29350-15/272823187_296325119146031_3389369555818353560_n.jpg?_nc_cat=108&ccb=1-7&_nc_sid=8ae9d6&_nc_ohc=GK2rf1Hn638AX-cAkHL&_nc_ht=scontent.cdninstagram.com&edm=AM6HXa8EAAAA&oh=00_AfBgNqOF4r5iogBn6GYwOc0nknDKcZ-oKl6LYpRQBVeWJQ&oe=63EC848E",
          "x": 0,
          "xanchor": "center",
          "xref": "x2",
          "y": 0,
          "yanchor": "middle",
          "yref": "y2"
         },
         {
          "opacity": 1,
          "sizex": 1,
          "sizey": 1,
          "source": "https://scontent.cdninstagram.com/v/t51.29350-15/306572675_476992117678881_508139851521796754_n.jpg?_nc_cat=103&ccb=1-7&_nc_sid=8ae9d6&_nc_ohc=rW7F-WPjf9AAX_y82sp&_nc_ht=scontent.cdninstagram.com&edm=AM6HXa8EAAAA&oh=00_AfAa0Bx1Ac9ZGHmw0QkY101xo2KjxNwJ1y7ZxYtu9OeA_Q&oe=63ECA360",
          "x": 0,
          "xanchor": "center",
          "xref": "x3",
          "y": 0,
          "yanchor": "middle",
          "yref": "y3"
         },
         {
          "opacity": 1,
          "sizex": 1,
          "sizey": 1,
          "source": "https://scontent.cdninstagram.com/v/t51.29350-15/308884674_902798574017752_5798043338577639843_n.jpg?_nc_cat=109&ccb=1-7&_nc_sid=8ae9d6&_nc_ohc=JqeCJ6OK6vEAX-JT8v8&_nc_ht=scontent.cdninstagram.com&edm=AM6HXa8EAAAA&oh=00_AfC_onVgHAH86Hj97tq5GrwZsOgUYmJKxTKwxVM3iuAWxQ&oe=63EDB704",
          "x": 0,
          "xanchor": "center",
          "xref": "x4",
          "y": 0,
          "yanchor": "middle",
          "yref": "y4"
         },
         {
          "opacity": 1,
          "sizex": 1,
          "sizey": 1,
          "source": "https://scontent.cdninstagram.com/v/t51.29350-15/290500268_466097992004206_8130205052373200157_n.jpg?_nc_cat=100&ccb=1-7&_nc_sid=8ae9d6&_nc_ohc=p6ZMWFgXC6IAX8mQ9Sx&_nc_ht=scontent.cdninstagram.com&edm=AM6HXa8EAAAA&oh=00_AfDHdE4qQww_cj6fgNKh2_aQPmW8YohburjLbXA5bgG6tQ&oe=63ED717C",
          "x": 0,
          "xanchor": "center",
          "xref": "x5",
          "y": 0,
          "yanchor": "middle",
          "yref": "y5"
         },
         {
          "opacity": 1,
          "sizex": 1,
          "sizey": 1,
          "source": "https://scontent.cdninstagram.com/v/t51.29350-15/322778200_3359512214268300_8037939719050379800_n.jpg?_nc_cat=102&ccb=1-7&_nc_sid=8ae9d6&_nc_ohc=ufWpuEajkfcAX8VRx99&_nc_oc=AQnMwYgdVNWdFUZlU8ExJKqi0RvQkhMR3M9dE0ckc7Y8fRfKXmWg4Em48WwptGMeaT4-ySscV1qFImp3oe6PZy2d&_nc_ht=scontent.cdninstagram.com&edm=AM6HXa8EAAAA&oh=00_AfDiTBBEdFcujzku_o3pvHLtFAOhcekVRjennaNeqhPVSw&oe=63ED3330",
          "x": 0,
          "xanchor": "center",
          "xref": "x6",
          "y": 0,
          "yanchor": "middle",
          "yref": "y6"
         }
        ],
        "margin": {
         "b": 110
        },
        "plot_bgcolor": "white",
        "template": {
         "data": {
          "bar": [
           {
            "error_x": {
             "color": "#2a3f5f"
            },
            "error_y": {
             "color": "#2a3f5f"
            },
            "marker": {
             "line": {
              "color": "#E5ECF6",
              "width": 0.5
             },
             "pattern": {
              "fillmode": "overlay",
              "size": 10,
              "solidity": 0.2
             }
            },
            "type": "bar"
           }
          ],
          "barpolar": [
           {
            "marker": {
             "line": {
              "color": "#E5ECF6",
              "width": 0.5
             },
             "pattern": {
              "fillmode": "overlay",
              "size": 10,
              "solidity": 0.2
             }
            },
            "type": "barpolar"
           }
          ],
          "carpet": [
           {
            "aaxis": {
             "endlinecolor": "#2a3f5f",
             "gridcolor": "white",
             "linecolor": "white",
             "minorgridcolor": "white",
             "startlinecolor": "#2a3f5f"
            },
            "baxis": {
             "endlinecolor": "#2a3f5f",
             "gridcolor": "white",
             "linecolor": "white",
             "minorgridcolor": "white",
             "startlinecolor": "#2a3f5f"
            },
            "type": "carpet"
           }
          ],
          "choropleth": [
           {
            "colorbar": {
             "outlinewidth": 0,
             "ticks": ""
            },
            "type": "choropleth"
           }
          ],
          "contour": [
           {
            "colorbar": {
             "outlinewidth": 0,
             "ticks": ""
            },
            "colorscale": [
             [
              0,
              "#0d0887"
             ],
             [
              0.1111111111111111,
              "#46039f"
             ],
             [
              0.2222222222222222,
              "#7201a8"
             ],
             [
              0.3333333333333333,
              "#9c179e"
             ],
             [
              0.4444444444444444,
              "#bd3786"
             ],
             [
              0.5555555555555556,
              "#d8576b"
             ],
             [
              0.6666666666666666,
              "#ed7953"
             ],
             [
              0.7777777777777778,
              "#fb9f3a"
             ],
             [
              0.8888888888888888,
              "#fdca26"
             ],
             [
              1,
              "#f0f921"
             ]
            ],
            "type": "contour"
           }
          ],
          "contourcarpet": [
           {
            "colorbar": {
             "outlinewidth": 0,
             "ticks": ""
            },
            "type": "contourcarpet"
           }
          ],
          "heatmap": [
           {
            "colorbar": {
             "outlinewidth": 0,
             "ticks": ""
            },
            "colorscale": [
             [
              0,
              "#0d0887"
             ],
             [
              0.1111111111111111,
              "#46039f"
             ],
             [
              0.2222222222222222,
              "#7201a8"
             ],
             [
              0.3333333333333333,
              "#9c179e"
             ],
             [
              0.4444444444444444,
              "#bd3786"
             ],
             [
              0.5555555555555556,
              "#d8576b"
             ],
             [
              0.6666666666666666,
              "#ed7953"
             ],
             [
              0.7777777777777778,
              "#fb9f3a"
             ],
             [
              0.8888888888888888,
              "#fdca26"
             ],
             [
              1,
              "#f0f921"
             ]
            ],
            "type": "heatmap"
           }
          ],
          "heatmapgl": [
           {
            "colorbar": {
             "outlinewidth": 0,
             "ticks": ""
            },
            "colorscale": [
             [
              0,
              "#0d0887"
             ],
             [
              0.1111111111111111,
              "#46039f"
             ],
             [
              0.2222222222222222,
              "#7201a8"
             ],
             [
              0.3333333333333333,
              "#9c179e"
             ],
             [
              0.4444444444444444,
              "#bd3786"
             ],
             [
              0.5555555555555556,
              "#d8576b"
             ],
             [
              0.6666666666666666,
              "#ed7953"
             ],
             [
              0.7777777777777778,
              "#fb9f3a"
             ],
             [
              0.8888888888888888,
              "#fdca26"
             ],
             [
              1,
              "#f0f921"
             ]
            ],
            "type": "heatmapgl"
           }
          ],
          "histogram": [
           {
            "marker": {
             "pattern": {
              "fillmode": "overlay",
              "size": 10,
              "solidity": 0.2
             }
            },
            "type": "histogram"
           }
          ],
          "histogram2d": [
           {
            "colorbar": {
             "outlinewidth": 0,
             "ticks": ""
            },
            "colorscale": [
             [
              0,
              "#0d0887"
             ],
             [
              0.1111111111111111,
              "#46039f"
             ],
             [
              0.2222222222222222,
              "#7201a8"
             ],
             [
              0.3333333333333333,
              "#9c179e"
             ],
             [
              0.4444444444444444,
              "#bd3786"
             ],
             [
              0.5555555555555556,
              "#d8576b"
             ],
             [
              0.6666666666666666,
              "#ed7953"
             ],
             [
              0.7777777777777778,
              "#fb9f3a"
             ],
             [
              0.8888888888888888,
              "#fdca26"
             ],
             [
              1,
              "#f0f921"
             ]
            ],
            "type": "histogram2d"
           }
          ],
          "histogram2dcontour": [
           {
            "colorbar": {
             "outlinewidth": 0,
             "ticks": ""
            },
            "colorscale": [
             [
              0,
              "#0d0887"
             ],
             [
              0.1111111111111111,
              "#46039f"
             ],
             [
              0.2222222222222222,
              "#7201a8"
             ],
             [
              0.3333333333333333,
              "#9c179e"
             ],
             [
              0.4444444444444444,
              "#bd3786"
             ],
             [
              0.5555555555555556,
              "#d8576b"
             ],
             [
              0.6666666666666666,
              "#ed7953"
             ],
             [
              0.7777777777777778,
              "#fb9f3a"
             ],
             [
              0.8888888888888888,
              "#fdca26"
             ],
             [
              1,
              "#f0f921"
             ]
            ],
            "type": "histogram2dcontour"
           }
          ],
          "mesh3d": [
           {
            "colorbar": {
             "outlinewidth": 0,
             "ticks": ""
            },
            "type": "mesh3d"
           }
          ],
          "parcoords": [
           {
            "line": {
             "colorbar": {
              "outlinewidth": 0,
              "ticks": ""
             }
            },
            "type": "parcoords"
           }
          ],
          "pie": [
           {
            "automargin": true,
            "type": "pie"
           }
          ],
          "scatter": [
           {
            "fillpattern": {
             "fillmode": "overlay",
             "size": 10,
             "solidity": 0.2
            },
            "type": "scatter"
           }
          ],
          "scatter3d": [
           {
            "line": {
             "colorbar": {
              "outlinewidth": 0,
              "ticks": ""
             }
            },
            "marker": {
             "colorbar": {
              "outlinewidth": 0,
              "ticks": ""
             }
            },
            "type": "scatter3d"
           }
          ],
          "scattercarpet": [
           {
            "marker": {
             "colorbar": {
              "outlinewidth": 0,
              "ticks": ""
             }
            },
            "type": "scattercarpet"
           }
          ],
          "scattergeo": [
           {
            "marker": {
             "colorbar": {
              "outlinewidth": 0,
              "ticks": ""
             }
            },
            "type": "scattergeo"
           }
          ],
          "scattergl": [
           {
            "marker": {
             "colorbar": {
              "outlinewidth": 0,
              "ticks": ""
             }
            },
            "type": "scattergl"
           }
          ],
          "scattermapbox": [
           {
            "marker": {
             "colorbar": {
              "outlinewidth": 0,
              "ticks": ""
             }
            },
            "type": "scattermapbox"
           }
          ],
          "scatterpolar": [
           {
            "marker": {
             "colorbar": {
              "outlinewidth": 0,
              "ticks": ""
             }
            },
            "type": "scatterpolar"
           }
          ],
          "scatterpolargl": [
           {
            "marker": {
             "colorbar": {
              "outlinewidth": 0,
              "ticks": ""
             }
            },
            "type": "scatterpolargl"
           }
          ],
          "scatterternary": [
           {
            "marker": {
             "colorbar": {
              "outlinewidth": 0,
              "ticks": ""
             }
            },
            "type": "scatterternary"
           }
          ],
          "surface": [
           {
            "colorbar": {
             "outlinewidth": 0,
             "ticks": ""
            },
            "colorscale": [
             [
              0,
              "#0d0887"
             ],
             [
              0.1111111111111111,
              "#46039f"
             ],
             [
              0.2222222222222222,
              "#7201a8"
             ],
             [
              0.3333333333333333,
              "#9c179e"
             ],
             [
              0.4444444444444444,
              "#bd3786"
             ],
             [
              0.5555555555555556,
              "#d8576b"
             ],
             [
              0.6666666666666666,
              "#ed7953"
             ],
             [
              0.7777777777777778,
              "#fb9f3a"
             ],
             [
              0.8888888888888888,
              "#fdca26"
             ],
             [
              1,
              "#f0f921"
             ]
            ],
            "type": "surface"
           }
          ],
          "table": [
           {
            "cells": {
             "fill": {
              "color": "#EBF0F8"
             },
             "line": {
              "color": "white"
             }
            },
            "header": {
             "fill": {
              "color": "#C8D4E3"
             },
             "line": {
              "color": "white"
             }
            },
            "type": "table"
           }
          ]
         },
         "layout": {
          "annotationdefaults": {
           "arrowcolor": "#2a3f5f",
           "arrowhead": 0,
           "arrowwidth": 1
          },
          "autotypenumbers": "strict",
          "coloraxis": {
           "colorbar": {
            "outlinewidth": 0,
            "ticks": ""
           }
          },
          "colorscale": {
           "diverging": [
            [
             0,
             "#8e0152"
            ],
            [
             0.1,
             "#c51b7d"
            ],
            [
             0.2,
             "#de77ae"
            ],
            [
             0.3,
             "#f1b6da"
            ],
            [
             0.4,
             "#fde0ef"
            ],
            [
             0.5,
             "#f7f7f7"
            ],
            [
             0.6,
             "#e6f5d0"
            ],
            [
             0.7,
             "#b8e186"
            ],
            [
             0.8,
             "#7fbc41"
            ],
            [
             0.9,
             "#4d9221"
            ],
            [
             1,
             "#276419"
            ]
           ],
           "sequential": [
            [
             0,
             "#0d0887"
            ],
            [
             0.1111111111111111,
             "#46039f"
            ],
            [
             0.2222222222222222,
             "#7201a8"
            ],
            [
             0.3333333333333333,
             "#9c179e"
            ],
            [
             0.4444444444444444,
             "#bd3786"
            ],
            [
             0.5555555555555556,
             "#d8576b"
            ],
            [
             0.6666666666666666,
             "#ed7953"
            ],
            [
             0.7777777777777778,
             "#fb9f3a"
            ],
            [
             0.8888888888888888,
             "#fdca26"
            ],
            [
             1,
             "#f0f921"
            ]
           ],
           "sequentialminus": [
            [
             0,
             "#0d0887"
            ],
            [
             0.1111111111111111,
             "#46039f"
            ],
            [
             0.2222222222222222,
             "#7201a8"
            ],
            [
             0.3333333333333333,
             "#9c179e"
            ],
            [
             0.4444444444444444,
             "#bd3786"
            ],
            [
             0.5555555555555556,
             "#d8576b"
            ],
            [
             0.6666666666666666,
             "#ed7953"
            ],
            [
             0.7777777777777778,
             "#fb9f3a"
            ],
            [
             0.8888888888888888,
             "#fdca26"
            ],
            [
             1,
             "#f0f921"
            ]
           ]
          },
          "colorway": [
           "#636efa",
           "#EF553B",
           "#00cc96",
           "#ab63fa",
           "#FFA15A",
           "#19d3f3",
           "#FF6692",
           "#B6E880",
           "#FF97FF",
           "#FECB52"
          ],
          "font": {
           "color": "#2a3f5f"
          },
          "geo": {
           "bgcolor": "white",
           "lakecolor": "white",
           "landcolor": "#E5ECF6",
           "showlakes": true,
           "showland": true,
           "subunitcolor": "white"
          },
          "hoverlabel": {
           "align": "left"
          },
          "hovermode": "closest",
          "mapbox": {
           "style": "light"
          },
          "paper_bgcolor": "white",
          "plot_bgcolor": "#E5ECF6",
          "polar": {
           "angularaxis": {
            "gridcolor": "white",
            "linecolor": "white",
            "ticks": ""
           },
           "bgcolor": "#E5ECF6",
           "radialaxis": {
            "gridcolor": "white",
            "linecolor": "white",
            "ticks": ""
           }
          },
          "scene": {
           "xaxis": {
            "backgroundcolor": "#E5ECF6",
            "gridcolor": "white",
            "gridwidth": 2,
            "linecolor": "white",
            "showbackground": true,
            "ticks": "",
            "zerolinecolor": "white"
           },
           "yaxis": {
            "backgroundcolor": "#E5ECF6",
            "gridcolor": "white",
            "gridwidth": 2,
            "linecolor": "white",
            "showbackground": true,
            "ticks": "",
            "zerolinecolor": "white"
           },
           "zaxis": {
            "backgroundcolor": "#E5ECF6",
            "gridcolor": "white",
            "gridwidth": 2,
            "linecolor": "white",
            "showbackground": true,
            "ticks": "",
            "zerolinecolor": "white"
           }
          },
          "shapedefaults": {
           "line": {
            "color": "#2a3f5f"
           }
          },
          "ternary": {
           "aaxis": {
            "gridcolor": "white",
            "linecolor": "white",
            "ticks": ""
           },
           "baxis": {
            "gridcolor": "white",
            "linecolor": "white",
            "ticks": ""
           },
           "bgcolor": "#E5ECF6",
           "caxis": {
            "gridcolor": "white",
            "linecolor": "white",
            "ticks": ""
           }
          },
          "title": {
           "x": 0.05
          },
          "xaxis": {
           "automargin": true,
           "gridcolor": "white",
           "linecolor": "white",
           "ticks": "",
           "title": {
            "standoff": 15
           },
           "zerolinecolor": "white",
           "zerolinewidth": 2
          },
          "yaxis": {
           "automargin": true,
           "gridcolor": "white",
           "linecolor": "white",
           "ticks": "",
           "title": {
            "standoff": 15
           },
           "zerolinecolor": "white",
           "zerolinewidth": 2
          }
         }
        },
        "title": {
         "text": "Posts with highest number of likes",
         "x": 0.5,
         "xanchor": "center"
        },
        "xaxis": {
         "anchor": "y",
         "domain": [
          0,
          0.2888888888888889
         ],
         "range": [
          -0.5,
          0.5
         ],
         "showticklabels": false
        },
        "xaxis2": {
         "anchor": "y2",
         "domain": [
          0.35555555555555557,
          0.6444444444444445
         ],
         "range": [
          -0.5,
          0.5
         ],
         "showticklabels": false
        },
        "xaxis3": {
         "anchor": "y3",
         "domain": [
          0.7111111111111111,
          1
         ],
         "range": [
          -0.5,
          0.5
         ],
         "showticklabels": false
        },
        "xaxis4": {
         "anchor": "y4",
         "domain": [
          0,
          0.2888888888888889
         ],
         "range": [
          -0.5,
          0.5
         ],
         "showticklabels": false
        },
        "xaxis5": {
         "anchor": "y5",
         "domain": [
          0.35555555555555557,
          0.6444444444444445
         ],
         "range": [
          -0.5,
          0.5
         ],
         "showticklabels": false
        },
        "xaxis6": {
         "anchor": "y6",
         "domain": [
          0.7111111111111111,
          1
         ],
         "range": [
          -0.5,
          0.5
         ],
         "showticklabels": false
        },
        "yaxis": {
         "anchor": "x",
         "domain": [
          0.6375,
          1
         ],
         "range": [
          -0.5,
          0.5
         ],
         "showticklabels": false
        },
        "yaxis2": {
         "anchor": "x2",
         "domain": [
          0.6375,
          1
         ],
         "range": [
          -0.5,
          0.5
         ],
         "showticklabels": false
        },
        "yaxis3": {
         "anchor": "x3",
         "domain": [
          0.6375,
          1
         ],
         "range": [
          -0.5,
          0.5
         ],
         "showticklabels": false
        },
        "yaxis4": {
         "anchor": "x4",
         "domain": [
          0,
          0.3625
         ],
         "range": [
          -0.5,
          0.5
         ],
         "showticklabels": false
        },
        "yaxis5": {
         "anchor": "x5",
         "domain": [
          0,
          0.3625
         ],
         "range": [
          -0.5,
          0.5
         ],
         "showticklabels": false
        },
        "yaxis6": {
         "anchor": "x6",
         "domain": [
          0,
          0.3625
         ],
         "range": [
          -0.5,
          0.5
         ],
         "showticklabels": false
        }
       }
      }
     },
     "metadata": {},
     "output_type": "display_data"
    }
   ],
   "source": [
    "def plot_images_tfidf(df, count_vector,\n",
    "        n=6, top=True, max_columns=5, streamlit=False, timezone='Canada/Pacific'):\n",
    "    \"\"\"\n",
    "    Plot the images/video thumbnails of either the top or \n",
    "    worst performing instagram media (posts, reels, carousels).\n",
    "    The following data is shown for each resulting media item:\n",
    "        - Image/video thumbnail\n",
    "        - Time stamp of the post in the provided time zone or in UTC time.\n",
    "        - Number of likes and number of comments.\n",
    "        - 5 words with the highest Tf-idf scores.\n",
    "\n",
    "    Parameters:\n",
    "        - df: DataFrame with the processed data.\n",
    "        - count_vector: DataFrame with the count vectors.\n",
    "        - n (int): Number of images to show.\n",
    "        - top (bool): If True, plot images with the highest number of likes in \n",
    "            descending order. If False, plot images with the highest number of likes in\n",
    "            ascending order. sort_by = ['like_count', 'comments_count', 'timestamp']\n",
    "        - streamlit (bool): Whether or not the app runs on Streamlit. If False, then\n",
    "            it is run on local machine.\n",
    "        - timezone (str): Timezone parameter for the `.astimezone()` method.\n",
    "            e.g. 'Australia/Sydney', 'Canada/Pacific'\n",
    "    Returns:\n",
    "        - DataFrame containing the data of the posts in the figure.\n",
    "        - fig: Plotly figure object.\n",
    "    \"\"\"\n",
    "    tfidf = tfidf_transform(count_vector)\n",
    "    ncols = n if n<max_columns else max_columns\n",
    "    nrows = (n + ncols - 1) // ncols\n",
    "    sort_by = ['like_count', 'comments_count', 'timestamp']\n",
    "    df = pd.concat([df, tfidf], axis=1)\n",
    "    posts = df.sort_values(by=sort_by, ascending=False if top else True).head(n).copy()\n",
    "    posts['thumbnail_url'].fillna(posts['media_url'], inplace=True)\n",
    "    if timezone:\n",
    "        print('Time zone:', timezone)\n",
    "        converted_timestamp = [timestamp.astimezone(timezone) for timestamp in pd.to_datetime(posts['timestamp'])]\n",
    "        titles = tuple(timestamp.strftime('%Y-%m-%d at %H:%M') for timestamp in converted_timestamp)\n",
    "    else:\n",
    "        titles = tuple(posts['timestamp'].dt.strftime('%Y-%m-%d at %H:%M').values.tolist())\n",
    "    fig = make_subplots(\n",
    "        rows=nrows, cols=ncols, subplot_titles=titles, \n",
    "        vertical_spacing=0.55/nrows\n",
    "        )\n",
    "    for index, (i, n_likes, n_comments, url, caption) in enumerate(zip(posts.index,\n",
    "            posts['like_count'], posts['comments_count'], posts['thumbnail_url'],\n",
    "            posts['caption'])\n",
    "        ):\n",
    "        highest_tfidf = [word for word, value in tfidf.loc[i].sort_values(\n",
    "            ascending=False).head(5).items() if value > 0]\n",
    "        fig.add_layout_image(\n",
    "            x=0, y=0,\n",
    "            xanchor='center', yanchor='middle',\n",
    "            sizex=1, sizey=1,\n",
    "            row=index // ncols + 1,\n",
    "            col=index % ncols + 1,\n",
    "            xref=\"x\",\n",
    "            yref=\"y\",\n",
    "            opacity=1.0,\n",
    "            source=url\n",
    "        )\n",
    "        annotation_y_position = -0.075\n",
    "        fig.add_annotation(\n",
    "            xref=\"x domain\",\n",
    "            yref=\"y domain\",\n",
    "            x=0.5,\n",
    "            y=annotation_y_position,\n",
    "            text=f'{n_likes} likes, {n_comments} comments',\n",
    "            axref=\"x domain\",\n",
    "            ayref=\"y\",\n",
    "            ax=0.5,\n",
    "            ay=2,\n",
    "            arrowhead=2,\n",
    "            row=index // ncols + 1,\n",
    "            col=index % ncols + 1,\n",
    "        )\n",
    "        annotation_y_position -= 0.1\n",
    "        fig.add_annotation(\n",
    "            xref=\"x domain\",\n",
    "            yref=\"y domain\",\n",
    "            x=0.5,\n",
    "            y=annotation_y_position,\n",
    "            text=f'Most unique words:',\n",
    "            axref=\"x domain\",\n",
    "            ayref=\"y\",\n",
    "            ax=0.5,\n",
    "            ay=2,\n",
    "            arrowhead=2,\n",
    "            row=index // ncols + 1,\n",
    "            col=index % ncols + 1,\n",
    "        )\n",
    "        for word in highest_tfidf:\n",
    "            annotation_y_position -= .075\n",
    "            fig.add_annotation(\n",
    "                xref=\"x domain\",\n",
    "                yref=\"y domain\",\n",
    "                x=0.5,\n",
    "                y=annotation_y_position,\n",
    "                text=word,\n",
    "                axref=\"x domain\",\n",
    "                ayref=\"y\",\n",
    "                ax=0.5,\n",
    "                ay=2,\n",
    "                arrowhead=2,\n",
    "                row=index // ncols + 1,\n",
    "                col=index % ncols + 1,\n",
    "                # hovertext=caption,\n",
    "            )\n",
    "    fig.update_xaxes(range=[-0.5,0.5], showticklabels=False)\n",
    "    fig.update_yaxes(range=[-0.5,0.5], showticklabels=False)\n",
    "    fig.update_layout(\n",
    "        title_text='Posts with highest number of likes' if top==True else 'Posts with fewest number of likes',\n",
    "        title_xanchor='center', title_x=0.5,\n",
    "        plot_bgcolor=\"white\", \n",
    "        height = 110 + nrows * 300,\n",
    "        margin_b=110,\n",
    "        )\n",
    "    if streamlit:\n",
    "        st.plotly_chart(fig, use_container_width=True)\n",
    "    else:\n",
    "        fig.show()\n",
    "    return posts.reset_index(drop=True), fig\n",
    "\n",
    "posts, fig = plot_images_tfidf(df2022_processed, count_vector, n=6, max_columns=3, timezone=None)"
   ]
  },
  {
   "cell_type": "code",
   "execution_count": 9,
   "metadata": {},
   "outputs": [
    {
     "data": {
      "text/html": [
       "<div>\n",
       "<style scoped>\n",
       "    .dataframe tbody tr th:only-of-type {\n",
       "        vertical-align: middle;\n",
       "    }\n",
       "\n",
       "    .dataframe tbody tr th {\n",
       "        vertical-align: top;\n",
       "    }\n",
       "\n",
       "    .dataframe thead th {\n",
       "        text-align: right;\n",
       "    }\n",
       "</style>\n",
       "<table border=\"1\" class=\"dataframe\">\n",
       "  <thead>\n",
       "    <tr style=\"text-align: right;\">\n",
       "      <th></th>\n",
       "      <th>timestamp</th>\n",
       "      <th>caption</th>\n",
       "      <th>like_count</th>\n",
       "      <th>comments_count</th>\n",
       "      <th>media_type</th>\n",
       "      <th>media_product_type</th>\n",
       "      <th>media_url</th>\n",
       "      <th>permalink</th>\n",
       "      <th>id</th>\n",
       "      <th>comments.data</th>\n",
       "      <th>...</th>\n",
       "      <th>#research</th>\n",
       "      <th>#science</th>\n",
       "      <th>#scientist</th>\n",
       "      <th>#stem</th>\n",
       "      <th>#technology</th>\n",
       "      <th>#vancouver</th>\n",
       "      <th>#voluptacommunity</th>\n",
       "      <th>#workout</th>\n",
       "      <th>#yvr</th>\n",
       "      <th>&lt;number&gt;</th>\n",
       "    </tr>\n",
       "  </thead>\n",
       "  <tbody>\n",
       "    <tr>\n",
       "      <th>0</th>\n",
       "      <td>2022-09-16 19:44:31+00:00</td>\n",
       "      <td>yell improve strength  thank &lt;Handle&gt;  coach t...</td>\n",
       "      <td>201</td>\n",
       "      <td>8</td>\n",
       "      <td>VIDEO</td>\n",
       "      <td>REELS</td>\n",
       "      <td>https://video.cdninstagram.com/v/t50.33967-16/...</td>\n",
       "      <td>https://www.instagram.com/reel/CilGehzAgG3/</td>\n",
       "      <td>17959530130960346</td>\n",
       "      <td>[{'timestamp': '2022-10-25T19:20:29+0000', 'te...</td>\n",
       "      <td>...</td>\n",
       "      <td>0.0</td>\n",
       "      <td>0.0</td>\n",
       "      <td>0.0</td>\n",
       "      <td>0.0</td>\n",
       "      <td>0.0</td>\n",
       "      <td>0.0</td>\n",
       "      <td>0.0</td>\n",
       "      <td>0.0</td>\n",
       "      <td>0.0</td>\n",
       "      <td>0.132852</td>\n",
       "    </tr>\n",
       "    <tr>\n",
       "      <th>1</th>\n",
       "      <td>2022-01-29 23:37:52+00:00</td>\n",
       "      <td>couple time someone ￼recognized mask  impress ...</td>\n",
       "      <td>64</td>\n",
       "      <td>4</td>\n",
       "      <td>IMAGE</td>\n",
       "      <td>FEED</td>\n",
       "      <td>https://scontent.cdninstagram.com/v/t51.29350-...</td>\n",
       "      <td>https://www.instagram.com/p/CZVStgnvrAn/</td>\n",
       "      <td>18148518601242451</td>\n",
       "      <td>[{'timestamp': '2022-01-30T01:26:16+0000', 'te...</td>\n",
       "      <td>...</td>\n",
       "      <td>0.0</td>\n",
       "      <td>0.0</td>\n",
       "      <td>0.0</td>\n",
       "      <td>0.0</td>\n",
       "      <td>0.0</td>\n",
       "      <td>0.0</td>\n",
       "      <td>0.0</td>\n",
       "      <td>0.0</td>\n",
       "      <td>0.0</td>\n",
       "      <td>0.000000</td>\n",
       "    </tr>\n",
       "    <tr>\n",
       "      <th>2</th>\n",
       "      <td>2022-09-13 20:50:18+00:00</td>\n",
       "      <td>congrats suzanne eric find happiness get marry...</td>\n",
       "      <td>36</td>\n",
       "      <td>4</td>\n",
       "      <td>CAROUSEL_ALBUM</td>\n",
       "      <td>FEED</td>\n",
       "      <td>https://scontent.cdninstagram.com/v/t51.29350-...</td>\n",
       "      <td>https://www.instagram.com/p/Cidf-z3vR6G/</td>\n",
       "      <td>17923493357545447</td>\n",
       "      <td>[{'timestamp': '2022-09-14T06:24:49+0000', 'te...</td>\n",
       "      <td>...</td>\n",
       "      <td>0.0</td>\n",
       "      <td>0.0</td>\n",
       "      <td>0.0</td>\n",
       "      <td>0.0</td>\n",
       "      <td>0.0</td>\n",
       "      <td>0.0</td>\n",
       "      <td>0.0</td>\n",
       "      <td>0.0</td>\n",
       "      <td>0.0</td>\n",
       "      <td>0.000000</td>\n",
       "    </tr>\n",
       "  </tbody>\n",
       "</table>\n",
       "<p>3 rows × 678 columns</p>\n",
       "</div>"
      ],
      "text/plain": [
       "                  timestamp  \\\n",
       "0 2022-09-16 19:44:31+00:00   \n",
       "1 2022-01-29 23:37:52+00:00   \n",
       "2 2022-09-13 20:50:18+00:00   \n",
       "\n",
       "                                             caption  like_count  \\\n",
       "0  yell improve strength  thank <Handle>  coach t...         201   \n",
       "1  couple time someone ￼recognized mask  impress ...          64   \n",
       "2  congrats suzanne eric find happiness get marry...          36   \n",
       "\n",
       "   comments_count      media_type media_product_type  \\\n",
       "0               8           VIDEO              REELS   \n",
       "1               4           IMAGE               FEED   \n",
       "2               4  CAROUSEL_ALBUM               FEED   \n",
       "\n",
       "                                           media_url  \\\n",
       "0  https://video.cdninstagram.com/v/t50.33967-16/...   \n",
       "1  https://scontent.cdninstagram.com/v/t51.29350-...   \n",
       "2  https://scontent.cdninstagram.com/v/t51.29350-...   \n",
       "\n",
       "                                     permalink                 id  \\\n",
       "0  https://www.instagram.com/reel/CilGehzAgG3/  17959530130960346   \n",
       "1     https://www.instagram.com/p/CZVStgnvrAn/  18148518601242451   \n",
       "2     https://www.instagram.com/p/Cidf-z3vR6G/  17923493357545447   \n",
       "\n",
       "                                       comments.data  ... #research #science  \\\n",
       "0  [{'timestamp': '2022-10-25T19:20:29+0000', 'te...  ...       0.0      0.0   \n",
       "1  [{'timestamp': '2022-01-30T01:26:16+0000', 'te...  ...       0.0      0.0   \n",
       "2  [{'timestamp': '2022-09-14T06:24:49+0000', 'te...  ...       0.0      0.0   \n",
       "\n",
       "   #scientist  #stem  #technology  #vancouver #voluptacommunity  #workout  \\\n",
       "0         0.0    0.0          0.0         0.0               0.0       0.0   \n",
       "1         0.0    0.0          0.0         0.0               0.0       0.0   \n",
       "2         0.0    0.0          0.0         0.0               0.0       0.0   \n",
       "\n",
       "   #yvr  <number>  \n",
       "0   0.0  0.132852  \n",
       "1   0.0  0.000000  \n",
       "2   0.0  0.000000  \n",
       "\n",
       "[3 rows x 678 columns]"
      ]
     },
     "execution_count": 9,
     "metadata": {},
     "output_type": "execute_result"
    }
   ],
   "source": [
    "posts.head()"
   ]
  },
  {
   "cell_type": "code",
   "execution_count": 6,
   "metadata": {},
   "outputs": [
    {
     "data": {
      "text/plain": [
       "timestamp                                    2022-09-16 19:44:31+00:00\n",
       "caption              yell improve strength  thank <Handle>  coach t...\n",
       "like_count                                                       201.0\n",
       "comments_count                                                     8.0\n",
       "media_type                                                       VIDEO\n",
       "                                           ...                        \n",
       "#vancouver                                                         NaN\n",
       "#voluptacommunity                                                  NaN\n",
       "#workout                                                           NaN\n",
       "#yvr                                                               NaN\n",
       "<number>                                                           NaN\n",
       "Name: 0, Length: 674, dtype: object"
      ]
     },
     "execution_count": 6,
     "metadata": {},
     "output_type": "execute_result"
    }
   ],
   "source": [
    "posts.loc[0]"
   ]
  },
  {
   "cell_type": "code",
   "execution_count": null,
   "metadata": {},
   "outputs": [],
   "source": []
  },
  {
   "cell_type": "code",
   "execution_count": null,
   "metadata": {},
   "outputs": [],
   "source": []
  },
  {
   "cell_type": "code",
   "execution_count": null,
   "metadata": {},
   "outputs": [],
   "source": []
  },
  {
   "cell_type": "code",
   "execution_count": null,
   "metadata": {},
   "outputs": [],
   "source": []
  },
  {
   "cell_type": "code",
   "execution_count": null,
   "metadata": {},
   "outputs": [],
   "source": []
  },
  {
   "cell_type": "code",
   "execution_count": null,
   "metadata": {},
   "outputs": [],
   "source": []
  },
  {
   "cell_type": "code",
   "execution_count": null,
   "metadata": {},
   "outputs": [],
   "source": []
  },
  {
   "cell_type": "code",
   "execution_count": null,
   "metadata": {},
   "outputs": [],
   "source": []
  },
  {
   "cell_type": "code",
   "execution_count": null,
   "metadata": {},
   "outputs": [],
   "source": []
  },
  {
   "cell_type": "code",
   "execution_count": null,
   "metadata": {},
   "outputs": [],
   "source": []
  },
  {
   "cell_type": "code",
   "execution_count": null,
   "metadata": {},
   "outputs": [],
   "source": []
  },
  {
   "cell_type": "code",
   "execution_count": null,
   "metadata": {},
   "outputs": [],
   "source": []
  },
  {
   "cell_type": "code",
   "execution_count": null,
   "metadata": {},
   "outputs": [],
   "source": []
  },
  {
   "cell_type": "code",
   "execution_count": null,
   "metadata": {},
   "outputs": [],
   "source": []
  },
  {
   "cell_type": "code",
   "execution_count": null,
   "metadata": {},
   "outputs": [],
   "source": []
  },
  {
   "cell_type": "markdown",
   "metadata": {},
   "source": [
    "# *End of Page*"
   ]
  }
 ],
 "metadata": {
  "kernelspec": {
   "display_name": "Python 3",
   "language": "python",
   "name": "python3"
  },
  "language_info": {
   "codemirror_mode": {
    "name": "ipython",
    "version": 3
   },
   "file_extension": ".py",
   "mimetype": "text/x-python",
   "name": "python",
   "nbconvert_exporter": "python",
   "pygments_lexer": "ipython3",
   "version": "3.9.13"
  },
  "orig_nbformat": 4,
  "vscode": {
   "interpreter": {
    "hash": "86576fc1f72bb8252e2f1578cc878ed2c12b40840637cdef083c8fb979cf67d3"
   }
  }
 },
 "nbformat": 4,
 "nbformat_minor": 2
}
