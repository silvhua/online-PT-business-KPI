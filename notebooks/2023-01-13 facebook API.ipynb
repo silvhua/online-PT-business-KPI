{
 "cells": [
  {
   "cell_type": "markdown",
   "metadata": {},
   "source": [
    "# Title\n",
    "[]()"
   ]
  },
  {
   "cell_type": "code",
   "execution_count": 2,
   "metadata": {},
   "outputs": [],
   "source": [
    "import requests\n",
    "import json\n",
    "from pandas import json_normalize  \n",
    "import pandas as pd\n",
    "import sys\n",
    "sys.path.append(r\"C:\\Users\\silvh\\OneDrive\\lighthouse\\custom_python\")\n",
    "from silvhua import *\n",
    "import pickle\n",
    "import os"
   ]
  },
  {
   "cell_type": "code",
   "execution_count": 23,
   "metadata": {},
   "outputs": [],
   "source": []
  },
  {
   "cell_type": "code",
   "execution_count": 3,
   "metadata": {},
   "outputs": [],
   "source": [
    "with open(\"credentials.json\") as f:\n",
    "    access_token = json.load(f)['access_token']\n",
    "user_id = os.environ['fb_user_id']"
   ]
  },
  {
   "cell_type": "code",
   "execution_count": 23,
   "metadata": {},
   "outputs": [
    {
     "name": "stdout",
     "output_type": "stream",
     "text": [
      "Response status code:  200\n",
      "Response status code:  200\n",
      "Response status code:  200\n",
      "Response status code:  200\n",
      "Response status code:  200\n"
     ]
    },
    {
     "data": {
      "text/html": [
       "<div>\n",
       "<style scoped>\n",
       "    .dataframe tbody tr th:only-of-type {\n",
       "        vertical-align: middle;\n",
       "    }\n",
       "\n",
       "    .dataframe tbody tr th {\n",
       "        vertical-align: top;\n",
       "    }\n",
       "\n",
       "    .dataframe thead th {\n",
       "        text-align: right;\n",
       "    }\n",
       "</style>\n",
       "<table border=\"1\" class=\"dataframe\">\n",
       "  <thead>\n",
       "    <tr style=\"text-align: right;\">\n",
       "      <th></th>\n",
       "      <th>created_time</th>\n",
       "      <th>message</th>\n",
       "      <th>id</th>\n",
       "    </tr>\n",
       "  </thead>\n",
       "  <tbody>\n",
       "    <tr>\n",
       "      <th>0</th>\n",
       "      <td>2023-01-11T03:17:40+0000</td>\n",
       "      <td>There was a time when my only exercise was run...</td>\n",
       "      <td>10104327314119821_10104327972240941</td>\n",
       "    </tr>\n",
       "    <tr>\n",
       "      <th>1</th>\n",
       "      <td>2023-01-09T21:30:18+0000</td>\n",
       "      <td>For the US, \"Wearable technology (#1), strengt...</td>\n",
       "      <td>10104327314119821_10104326999794731</td>\n",
       "    </tr>\n",
       "    <tr>\n",
       "      <th>2</th>\n",
       "      <td>2023-01-09T17:06:33+0000</td>\n",
       "      <td>Excited to see developments in wearable tech!\\...</td>\n",
       "      <td>10104327314119821_10104326849426071</td>\n",
       "    </tr>\n",
       "    <tr>\n",
       "      <th>3</th>\n",
       "      <td>2023-01-07T21:36:58+0000</td>\n",
       "      <td>Pomelos are one of my favourite fruits. It is ...</td>\n",
       "      <td>10104327314119821_10104325303319481</td>\n",
       "    </tr>\n",
       "    <tr>\n",
       "      <th>4</th>\n",
       "      <td>2023-01-06T19:39:51+0000</td>\n",
       "      <td>What's your favourite app or wearable that hel...</td>\n",
       "      <td>10104327314119821_10104324466536401</td>\n",
       "    </tr>\n",
       "    <tr>\n",
       "      <th>...</th>\n",
       "      <td>...</td>\n",
       "      <td>...</td>\n",
       "      <td>...</td>\n",
       "    </tr>\n",
       "    <tr>\n",
       "      <th>18</th>\n",
       "      <td>2021-12-14T19:36:06+0000</td>\n",
       "      <td>New toy</td>\n",
       "      <td>10104327314119821_10103955698231041</td>\n",
       "    </tr>\n",
       "    <tr>\n",
       "      <th>19</th>\n",
       "      <td>2021-12-05T06:57:42+0000</td>\n",
       "      <td>NaN</td>\n",
       "      <td>10104327314119821_10103949690400781</td>\n",
       "    </tr>\n",
       "    <tr>\n",
       "      <th>20</th>\n",
       "      <td>2021-12-05T06:57:26+0000</td>\n",
       "      <td>💛</td>\n",
       "      <td>10104327314119821_10103949690325931</td>\n",
       "    </tr>\n",
       "    <tr>\n",
       "      <th>21</th>\n",
       "      <td>2021-12-03T22:47:08+0000</td>\n",
       "      <td>Did you know that the only way to get better i...</td>\n",
       "      <td>10104327314119821_10103948774531191</td>\n",
       "    </tr>\n",
       "    <tr>\n",
       "      <th>22</th>\n",
       "      <td>2021-12-03T00:13:54+0000</td>\n",
       "      <td>Paleo pumpkin bread with pumpkin puree, coconu...</td>\n",
       "      <td>10104327314119821_10103948206983561</td>\n",
       "    </tr>\n",
       "  </tbody>\n",
       "</table>\n",
       "<p>119 rows × 3 columns</p>\n",
       "</div>"
      ],
      "text/plain": [
       "                created_time  \\\n",
       "0   2023-01-11T03:17:40+0000   \n",
       "1   2023-01-09T21:30:18+0000   \n",
       "2   2023-01-09T17:06:33+0000   \n",
       "3   2023-01-07T21:36:58+0000   \n",
       "4   2023-01-06T19:39:51+0000   \n",
       "..                       ...   \n",
       "18  2021-12-14T19:36:06+0000   \n",
       "19  2021-12-05T06:57:42+0000   \n",
       "20  2021-12-05T06:57:26+0000   \n",
       "21  2021-12-03T22:47:08+0000   \n",
       "22  2021-12-03T00:13:54+0000   \n",
       "\n",
       "                                              message  \\\n",
       "0   There was a time when my only exercise was run...   \n",
       "1   For the US, \"Wearable technology (#1), strengt...   \n",
       "2   Excited to see developments in wearable tech!\\...   \n",
       "3   Pomelos are one of my favourite fruits. It is ...   \n",
       "4   What's your favourite app or wearable that hel...   \n",
       "..                                                ...   \n",
       "18                                            New toy   \n",
       "19                                                NaN   \n",
       "20                                                  💛   \n",
       "21  Did you know that the only way to get better i...   \n",
       "22  Paleo pumpkin bread with pumpkin puree, coconu...   \n",
       "\n",
       "                                     id  \n",
       "0   10104327314119821_10104327972240941  \n",
       "1   10104327314119821_10104326999794731  \n",
       "2   10104327314119821_10104326849426071  \n",
       "3   10104327314119821_10104325303319481  \n",
       "4   10104327314119821_10104324466536401  \n",
       "..                                  ...  \n",
       "18  10104327314119821_10103955698231041  \n",
       "19  10104327314119821_10103949690400781  \n",
       "20  10104327314119821_10103949690325931  \n",
       "21  10104327314119821_10103948774531191  \n",
       "22  10104327314119821_10103948206983561  \n",
       "\n",
       "[119 rows x 3 columns]"
      ]
     },
     "execution_count": 23,
     "metadata": {},
     "output_type": "execute_result"
    }
   ],
   "source": [
    "def get_user_post(user_id, access_token, pages=5, filename=None,\n",
    "    json_path=r'C:\\Users\\silvh\\OneDrive\\lighthouse\\portfolio-projects\\online-PT-social-media-NLP\\data\\raw',\n",
    "    csv_path=r'C:\\Users\\silvh\\OneDrive\\lighthouse\\portfolio-projects\\online-PT-social-media-NLP\\data\\interim'):\n",
    "    user_id = str(user_id)\n",
    "    url_root = \"https://graph.facebook.com/v15.0/\"\n",
    "    url = f'{url_root}{user_id}/posts?access_token={access_token}'\n",
    "    response_json_dict = dict()\n",
    "    df_list = []\n",
    "    for page in range(1,pages+1):\n",
    "        response = requests.get(url)\n",
    "        print('Response status code: ',response.status_code)\n",
    "        response_json_dict[page] = response.json()\n",
    "        df_list.append(json_normalize(response_json_dict[page], record_path='data'))\n",
    "        try:\n",
    "            url = response_json_dict[page]['paging']['next']\n",
    "        except: \n",
    "            pass\n",
    "    df = pd.concat(df_list)\n",
    "    if filename:\n",
    "        save_csv(df,filename,csv_path)\n",
    "        savepickle(response_json_dict,filename,'sav',json_path)\n",
    "    return df, response_json_dict\n",
    "\n",
    "df_5p, response_json_5p = get_user_post(user_id, access_token)\n",
    "df_5p"
   ]
  },
  {
   "cell_type": "code",
   "execution_count": 24,
   "metadata": {},
   "outputs": [
    {
     "name": "stdout",
     "output_type": "stream",
     "text": [
      "File saved:  C:/Users/silvh/OneDrive/lighthouse/portfolio-projects/online-PT-social-media-NLP/data/interim/my_fb_posts_5page_2023-01-12.csv\n",
      "File saved:  C:/Users/silvh/OneDrive/lighthouse/portfolio-projects/online-PT-social-media-NLP/data/raw/my_fb_posts_5page_2023-01-12.sav\n"
     ]
    }
   ],
   "source": [
    "json_path=r'C:\\Users\\silvh\\OneDrive\\lighthouse\\portfolio-projects\\online-PT-social-media-NLP\\data\\raw'\n",
    "csv_path=r'C:\\Users\\silvh\\OneDrive\\lighthouse\\portfolio-projects\\online-PT-social-media-NLP\\data\\interim'\n",
    "filename='my_fb_posts_5page_2023-01-12'\n",
    "save_csv(df_5p,filename,csv_path)\n",
    "savepickle(response_json_5p,filename,'sav',json_path)"
   ]
  },
  {
   "cell_type": "code",
   "execution_count": 21,
   "metadata": {},
   "outputs": [
    {
     "name": "stdout",
     "output_type": "stream",
     "text": [
      "Dataframe shape:  (119, 3)\n"
     ]
    }
   ],
   "source": [
    "csv_path=r'C:\\Users\\silvh\\OneDrive\\lighthouse\\portfolio-projects\\online-PT-social-media-NLP\\data\\interim'\n",
    "df_5p = load_csv('my_fb_posts_5page_2023-01-12.csv', csv_path, column1_as_index=True)"
   ]
  },
  {
   "cell_type": "code",
   "execution_count": 6,
   "metadata": {},
   "outputs": [
    {
     "data": {
      "text/plain": [
       "Unnamed: 0       int64\n",
       "created_time    object\n",
       "message         object\n",
       "id              object\n",
       "dtype: object"
      ]
     },
     "execution_count": 6,
     "metadata": {},
     "output_type": "execute_result"
    }
   ],
   "source": [
    "df_5p.dtypes"
   ]
  },
  {
   "cell_type": "code",
   "execution_count": 39,
   "metadata": {},
   "outputs": [
    {
     "data": {
      "text/html": [
       "<div>\n",
       "<style scoped>\n",
       "    .dataframe tbody tr th:only-of-type {\n",
       "        vertical-align: middle;\n",
       "    }\n",
       "\n",
       "    .dataframe tbody tr th {\n",
       "        vertical-align: top;\n",
       "    }\n",
       "\n",
       "    .dataframe thead th {\n",
       "        text-align: right;\n",
       "    }\n",
       "</style>\n",
       "<table border=\"1\" class=\"dataframe\">\n",
       "  <thead>\n",
       "    <tr style=\"text-align: right;\">\n",
       "      <th></th>\n",
       "      <th>timestamp</th>\n",
       "      <th>text</th>\n",
       "      <th>date</th>\n",
       "      <th>month</th>\n",
       "      <th>day_of_week</th>\n",
       "      <th>time</th>\n",
       "    </tr>\n",
       "  </thead>\n",
       "  <tbody>\n",
       "    <tr>\n",
       "      <th>0</th>\n",
       "      <td>2023-01-11 03:17:40+00:00</td>\n",
       "      <td>There was a time when my only exercise was run...</td>\n",
       "      <td>2023-01-11</td>\n",
       "      <td>1</td>\n",
       "      <td>2</td>\n",
       "      <td>03:17:40</td>\n",
       "    </tr>\n",
       "    <tr>\n",
       "      <th>1</th>\n",
       "      <td>2023-01-09 21:30:18+00:00</td>\n",
       "      <td>For the US, \"Wearable technology (#1), strengt...</td>\n",
       "      <td>2023-01-09</td>\n",
       "      <td>1</td>\n",
       "      <td>0</td>\n",
       "      <td>21:30:18</td>\n",
       "    </tr>\n",
       "    <tr>\n",
       "      <th>2</th>\n",
       "      <td>2023-01-09 17:06:33+00:00</td>\n",
       "      <td>Excited to see developments in wearable tech!\\...</td>\n",
       "      <td>2023-01-09</td>\n",
       "      <td>1</td>\n",
       "      <td>0</td>\n",
       "      <td>17:06:33</td>\n",
       "    </tr>\n",
       "  </tbody>\n",
       "</table>\n",
       "</div>"
      ],
      "text/plain": [
       "                  timestamp  \\\n",
       "0 2023-01-11 03:17:40+00:00   \n",
       "1 2023-01-09 21:30:18+00:00   \n",
       "2 2023-01-09 17:06:33+00:00   \n",
       "\n",
       "                                                text        date  month  \\\n",
       "0  There was a time when my only exercise was run...  2023-01-11      1   \n",
       "1  For the US, \"Wearable technology (#1), strengt...  2023-01-09      1   \n",
       "2  Excited to see developments in wearable tech!\\...  2023-01-09      1   \n",
       "\n",
       "   day_of_week      time  \n",
       "0            2  03:17:40  \n",
       "1            0  21:30:18  \n",
       "2            0  17:06:33  "
      ]
     },
     "execution_count": 39,
     "metadata": {},
     "output_type": "execute_result"
    }
   ],
   "source": [
    "import re\n",
    "def process_post_df(df):\n",
    "    \"\"\"\n",
    "    Convert dates in the json-derived dataframe into different formats.\n",
    "    \"\"\"\n",
    "    regex_date = r'.+T'\n",
    "    df2 = pd.DataFrame()\n",
    "    df2['timestamp'] = pd.to_datetime(df['created_time'])\n",
    "    df2['text'] = df['message']\n",
    "    df2['date'] = df2['timestamp'].dt.date\n",
    "    df2['month'] = df2['timestamp'].dt.month\n",
    "    df2['day_of_week'] = df2['timestamp'].dt.dayofweek\n",
    "    df2['time'] = df2['timestamp'].dt.time\n",
    "    return df2\n",
    "\n",
    "process_post_df(df_5p.head(3).copy())"
   ]
  },
  {
   "cell_type": "code",
   "execution_count": 40,
   "metadata": {},
   "outputs": [
    {
     "data": {
      "text/plain": [
       "timestamp      datetime64[ns, UTC]\n",
       "text                        object\n",
       "date                        object\n",
       "month                        int64\n",
       "day_of_week                  int64\n",
       "time                        object\n",
       "dtype: object"
      ]
     },
     "execution_count": 40,
     "metadata": {},
     "output_type": "execute_result"
    }
   ],
   "source": [
    "process_post_df(df_5p.head(3).copy()).dtypes"
   ]
  },
  {
   "cell_type": "code",
   "execution_count": null,
   "metadata": {},
   "outputs": [],
   "source": []
  },
  {
   "cell_type": "code",
   "execution_count": null,
   "metadata": {},
   "outputs": [],
   "source": []
  },
  {
   "cell_type": "code",
   "execution_count": null,
   "metadata": {},
   "outputs": [],
   "source": []
  },
  {
   "cell_type": "code",
   "execution_count": null,
   "metadata": {},
   "outputs": [],
   "source": []
  },
  {
   "cell_type": "code",
   "execution_count": null,
   "metadata": {},
   "outputs": [],
   "source": []
  },
  {
   "cell_type": "code",
   "execution_count": null,
   "metadata": {},
   "outputs": [],
   "source": []
  },
  {
   "cell_type": "code",
   "execution_count": null,
   "metadata": {},
   "outputs": [],
   "source": []
  },
  {
   "cell_type": "code",
   "execution_count": null,
   "metadata": {},
   "outputs": [],
   "source": []
  },
  {
   "cell_type": "code",
   "execution_count": null,
   "metadata": {},
   "outputs": [],
   "source": []
  },
  {
   "cell_type": "code",
   "execution_count": null,
   "metadata": {},
   "outputs": [],
   "source": []
  },
  {
   "cell_type": "code",
   "execution_count": null,
   "metadata": {},
   "outputs": [],
   "source": []
  },
  {
   "cell_type": "code",
   "execution_count": null,
   "metadata": {},
   "outputs": [],
   "source": []
  },
  {
   "cell_type": "code",
   "execution_count": null,
   "metadata": {},
   "outputs": [],
   "source": []
  },
  {
   "cell_type": "code",
   "execution_count": null,
   "metadata": {},
   "outputs": [],
   "source": []
  },
  {
   "cell_type": "code",
   "execution_count": null,
   "metadata": {},
   "outputs": [],
   "source": []
  },
  {
   "cell_type": "markdown",
   "metadata": {},
   "source": [
    "# *End of Page*"
   ]
  }
 ],
 "metadata": {
  "kernelspec": {
   "display_name": "cloudEnv",
   "language": "python",
   "name": "python3"
  },
  "language_info": {
   "codemirror_mode": {
    "name": "ipython",
    "version": 3
   },
   "file_extension": ".py",
   "mimetype": "text/x-python",
   "name": "python",
   "nbconvert_exporter": "python",
   "pygments_lexer": "ipython3",
   "version": "3.9.13"
  },
  "orig_nbformat": 4,
  "vscode": {
   "interpreter": {
    "hash": "86576fc1f72bb8252e2f1578cc878ed2c12b40840637cdef083c8fb979cf67d3"
   }
  }
 },
 "nbformat": 4,
 "nbformat_minor": 2
}
