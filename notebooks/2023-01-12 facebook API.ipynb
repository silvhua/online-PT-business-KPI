{
 "cells": [
  {
   "cell_type": "markdown",
   "metadata": {},
   "source": [
    "# Title\n",
    "[]()"
   ]
  },
  {
   "cell_type": "code",
   "execution_count": 18,
   "metadata": {},
   "outputs": [],
   "source": [
    "import requests\n",
    "import json\n",
    "from pandas import json_normalize  \n",
    "import pandas as pd\n",
    "import sys\n",
    "sys.path.append(r\"C:\\Users\\silvh\\OneDrive\\lighthouse\\custom_python\")\n",
    "from silvhua import *"
   ]
  },
  {
   "cell_type": "code",
   "execution_count": 23,
   "metadata": {},
   "outputs": [],
   "source": [
    "import pickle\n",
    "import os"
   ]
  },
  {
   "cell_type": "code",
   "execution_count": 19,
   "metadata": {},
   "outputs": [],
   "source": [
    "url_full = \"https://graph.facebook.com/v15.0/10104327314119821/posts?access_token=EAAKEofVXnvEBAKbSyd268jFPmvA14WxumEZBWEgEBpKeC58ygPfl7iI83hspvB3CKKpvWrVqxAnZCjC8rAVe3GS12dIkbMXYNYKfIlz5qGvUnlTZA5DUPat1Vc5kFinIOs5bDZACanBgVAuHl20zZBO4VCED0i1VmCfjtYaRZBGZA90vb5L0XaSZBi7iQgSh8MBsW7ZAZAZA4zp9okZBUQ8YgyYT\""
   ]
  },
  {
   "cell_type": "code",
   "execution_count": null,
   "metadata": {},
   "outputs": [],
   "source": [
    "user_id = os.environ['fb_user_id']\n",
    "with open(\"credentials.json\") as f:\n",
    "    access_token = json.load(f)['access_token']"
   ]
  },
  {
   "cell_type": "code",
   "execution_count": 20,
   "metadata": {},
   "outputs": [
    {
     "name": "stdout",
     "output_type": "stream",
     "text": [
      "Response status code:  200\n"
     ]
    }
   ],
   "source": [
    "def get_user_post(user_id, access_token):\n",
    "    user_id = str(user_id)\n",
    "    url_root = \"https://graph.facebook.com/v15.0/\"\n",
    "    url = f'{url_root}{user_id}/posts?access_token={access_token}'\n",
    "    response = requests.get(url)\n",
    "    print('Response status code: ',response.status_code)\n",
    "    response_json = response.json()\n",
    "    return response_json\n",
    "\n",
    "response_json = get_user_post(user_id, access_token)"
   ]
  },
  {
   "cell_type": "code",
   "execution_count": 16,
   "metadata": {},
   "outputs": [
    {
     "ename": "AttributeError",
     "evalue": "'dict' object has no attribute 'dump'",
     "output_type": "error",
     "traceback": [
      "\u001b[1;31m---------------------------------------------------------------------------\u001b[0m",
      "\u001b[1;31mAttributeError\u001b[0m                            Traceback (most recent call last)",
      "Cell \u001b[1;32mIn [16], line 18\u001b[0m\n\u001b[0;32m     15\u001b[0m     \u001b[39mprint\u001b[39m(\u001b[39m'\u001b[39m\u001b[39mFile saved: \u001b[39m\u001b[39m'\u001b[39m,path\u001b[39m+\u001b[39mfilename\u001b[39m+\u001b[39m\u001b[39m'\u001b[39m\u001b[39m.json\u001b[39m\u001b[39m'\u001b[39m)\n\u001b[0;32m     17\u001b[0m path \u001b[39m=\u001b[39m \u001b[39mr\u001b[39m\u001b[39m'\u001b[39m\u001b[39mC:\u001b[39m\u001b[39m\\\u001b[39m\u001b[39mUsers\u001b[39m\u001b[39m\\\u001b[39m\u001b[39msilvh\u001b[39m\u001b[39m\\\u001b[39m\u001b[39mOneDrive\u001b[39m\u001b[39m\\\u001b[39m\u001b[39mlighthouse\u001b[39m\u001b[39m\\\u001b[39m\u001b[39mportfolio-projects\u001b[39m\u001b[39m\\\u001b[39m\u001b[39mOIF data projects\u001b[39m\u001b[39m\\\u001b[39m\u001b[39mdata\u001b[39m\u001b[39m\\\u001b[39m\u001b[39mraw\u001b[39m\u001b[39m'\u001b[39m\n\u001b[1;32m---> 18\u001b[0m save_json(response_json, \u001b[39m'\u001b[39;49m\u001b[39mmy_fb_posts\u001b[39;49m\u001b[39m'\u001b[39;49m, path, append_version\u001b[39m=\u001b[39;49m\u001b[39mTrue\u001b[39;49;00m)\n",
      "Cell \u001b[1;32mIn [16], line 14\u001b[0m, in \u001b[0;36msave_json\u001b[1;34m(json, filename, filepath, append_version)\u001b[0m\n\u001b[0;32m     12\u001b[0m     filename\u001b[39m+\u001b[39m\u001b[39m=\u001b[39mdatetime\u001b[39m.\u001b[39mnow()\u001b[39m.\u001b[39mstrftime(\u001b[39m'\u001b[39m\u001b[39m_\u001b[39m\u001b[39m%\u001b[39m\u001b[39mY-\u001b[39m\u001b[39m%\u001b[39m\u001b[39mm-\u001b[39m\u001b[39m%d\u001b[39;00m\u001b[39m_\u001b[39m\u001b[39m%\u001b[39m\u001b[39mH\u001b[39m\u001b[39m%\u001b[39m\u001b[39mM\u001b[39m\u001b[39m'\u001b[39m)\n\u001b[0;32m     13\u001b[0m \u001b[39mwith\u001b[39;00m \u001b[39mopen\u001b[39m(filename\u001b[39m+\u001b[39m\u001b[39m'\u001b[39m\u001b[39m.json\u001b[39m\u001b[39m'\u001b[39m, \u001b[39m'\u001b[39m\u001b[39mw\u001b[39m\u001b[39m'\u001b[39m) \u001b[39mas\u001b[39;00m json_file:\n\u001b[1;32m---> 14\u001b[0m     json\u001b[39m.\u001b[39;49mdump(json, json_file)\n\u001b[0;32m     15\u001b[0m \u001b[39mprint\u001b[39m(\u001b[39m'\u001b[39m\u001b[39mFile saved: \u001b[39m\u001b[39m'\u001b[39m,path\u001b[39m+\u001b[39mfilename\u001b[39m+\u001b[39m\u001b[39m'\u001b[39m\u001b[39m.json\u001b[39m\u001b[39m'\u001b[39m)\n",
      "\u001b[1;31mAttributeError\u001b[0m: 'dict' object has no attribute 'dump'"
     ]
    }
   ],
   "source": [
    "import json\n",
    "from datetime import datetime\n",
    "def save_json(json, filename, filepath, append_version=False):\n",
    "    \"\"\"\n",
    "    Save a json object.\n",
    "    Parameters:\n",
    "        - json: json object.\n",
    "        - filename (str): Name of the file (without extension).\n",
    "        - filepath (raw string): Use the format r'<path>'. If None, file is saved in same directory.\n",
    "    \"\"\"\n",
    "    if append_version == True:\n",
    "        filename+=datetime.now().strftime('_%Y-%m-%d_%H%M')\n",
    "    with open(filename+'.json', 'w') as json_file:\n",
    "        json.dump(json, json_file)\n",
    "    print('File saved: ',path+filename+'.json')\n",
    "\n",
    "path = r'C:\\Users\\silvh\\OneDrive\\lighthouse\\portfolio-projects\\OIF data projects\\data\\raw'\n",
    "save_json(response_json, 'my_fb_posts', path, append_version=True)"
   ]
  },
  {
   "cell_type": "code",
   "execution_count": 24,
   "metadata": {},
   "outputs": [
    {
     "name": "stdout",
     "output_type": "stream",
     "text": [
      "File saved:  C:/Users/silvh/OneDrive/lighthouse/portfolio-projects/OIF data projects/data/raw/my_fb_posts_2023-01-10_2320.sav\n"
     ]
    }
   ],
   "source": [
    "path = r'C:\\Users\\silvh\\OneDrive\\lighthouse\\portfolio-projects\\OIF data projects\\data\\raw'\n",
    "savepickle(response_json, filename='my_fb_posts_', path=path, append_version=True)"
   ]
  },
  {
   "cell_type": "code",
   "execution_count": 13,
   "metadata": {},
   "outputs": [
    {
     "name": "stdout",
     "output_type": "stream",
     "text": [
      "File saved:  C:/Users/silvh/OneDrive/lighthouse/portfolio-projects/OIF data projects/data/interim/my_fb_posts.csv\n"
     ]
    },
    {
     "data": {
      "text/html": [
       "<div>\n",
       "<style scoped>\n",
       "    .dataframe tbody tr th:only-of-type {\n",
       "        vertical-align: middle;\n",
       "    }\n",
       "\n",
       "    .dataframe tbody tr th {\n",
       "        vertical-align: top;\n",
       "    }\n",
       "\n",
       "    .dataframe thead th {\n",
       "        text-align: right;\n",
       "    }\n",
       "</style>\n",
       "<table border=\"1\" class=\"dataframe\">\n",
       "  <thead>\n",
       "    <tr style=\"text-align: right;\">\n",
       "      <th></th>\n",
       "      <th>created_time</th>\n",
       "      <th>message</th>\n",
       "      <th>id</th>\n",
       "    </tr>\n",
       "  </thead>\n",
       "  <tbody>\n",
       "    <tr>\n",
       "      <th>0</th>\n",
       "      <td>2023-01-11T03:17:40+0000</td>\n",
       "      <td>There was a time when my only exercise was run...</td>\n",
       "      <td>10104327314119821_10104327972240941</td>\n",
       "    </tr>\n",
       "    <tr>\n",
       "      <th>1</th>\n",
       "      <td>2023-01-09T21:30:18+0000</td>\n",
       "      <td>For the US, \"Wearable technology (#1), strengt...</td>\n",
       "      <td>10104327314119821_10104326999794731</td>\n",
       "    </tr>\n",
       "    <tr>\n",
       "      <th>2</th>\n",
       "      <td>2023-01-09T17:06:33+0000</td>\n",
       "      <td>Excited to see developments in wearable tech!\\...</td>\n",
       "      <td>10104327314119821_10104326849426071</td>\n",
       "    </tr>\n",
       "    <tr>\n",
       "      <th>3</th>\n",
       "      <td>2023-01-07T21:36:58+0000</td>\n",
       "      <td>Pomelos are one of my favourite fruits. It is ...</td>\n",
       "      <td>10104327314119821_10104325303319481</td>\n",
       "    </tr>\n",
       "    <tr>\n",
       "      <th>4</th>\n",
       "      <td>2023-01-06T19:39:51+0000</td>\n",
       "      <td>What's your favourite app or wearable that hel...</td>\n",
       "      <td>10104327314119821_10104324466536401</td>\n",
       "    </tr>\n",
       "    <tr>\n",
       "      <th>5</th>\n",
       "      <td>2023-01-05T01:47:06+0000</td>\n",
       "      <td>What is one habit you're looking to add right ...</td>\n",
       "      <td>10104327314119821_10104323209450611</td>\n",
       "    </tr>\n",
       "    <tr>\n",
       "      <th>6</th>\n",
       "      <td>2023-01-03T20:34:34+0000</td>\n",
       "      <td>Gamify your goals\\n\\nDuolingo was one of the p...</td>\n",
       "      <td>10104327314119821_10104322209294931</td>\n",
       "    </tr>\n",
       "    <tr>\n",
       "      <th>7</th>\n",
       "      <td>2022-12-31T19:03:58+0000</td>\n",
       "      <td>Exciting developments for athletes as Apple wa...</td>\n",
       "      <td>10104327314119821_10104319695048501</td>\n",
       "    </tr>\n",
       "    <tr>\n",
       "      <th>8</th>\n",
       "      <td>2022-12-30T02:06:59+0000</td>\n",
       "      <td>NaN</td>\n",
       "      <td>10104327314119821_10104318387234371</td>\n",
       "    </tr>\n",
       "    <tr>\n",
       "      <th>9</th>\n",
       "      <td>2022-12-27T20:45:10+0000</td>\n",
       "      <td>With power comes responsibility.\\n\\nIn the fit...</td>\n",
       "      <td>10104327314119821_10104316537146961</td>\n",
       "    </tr>\n",
       "    <tr>\n",
       "      <th>10</th>\n",
       "      <td>2022-12-27T03:29:04+0000</td>\n",
       "      <td>While my podcast feed is mostly filled with po...</td>\n",
       "      <td>10104327314119821_10104315957164251</td>\n",
       "    </tr>\n",
       "    <tr>\n",
       "      <th>11</th>\n",
       "      <td>2022-12-22T19:26:12+0000</td>\n",
       "      <td>It’s not enough to have data.\\n\\nWhen I starte...</td>\n",
       "      <td>10104327314119821_10104312344733591</td>\n",
       "    </tr>\n",
       "    <tr>\n",
       "      <th>12</th>\n",
       "      <td>2022-12-22T18:54:39+0000</td>\n",
       "      <td>If you want to give improve a try but aren't r...</td>\n",
       "      <td>10104327314119821_10104312327652821</td>\n",
       "    </tr>\n",
       "    <tr>\n",
       "      <th>13</th>\n",
       "      <td>2022-12-21T22:42:06+0000</td>\n",
       "      <td>This neighboring house has these long sharp ic...</td>\n",
       "      <td>10104327314119821_10104311647386081</td>\n",
       "    </tr>\n",
       "    <tr>\n",
       "      <th>14</th>\n",
       "      <td>2022-12-20T15:39:50+0000</td>\n",
       "      <td>A common piece of advice on applying for jobs ...</td>\n",
       "      <td>10104327314119821_10104310456083461</td>\n",
       "    </tr>\n",
       "    <tr>\n",
       "      <th>15</th>\n",
       "      <td>2022-12-20T00:12:56+0000</td>\n",
       "      <td>There are already apps that do what personal t...</td>\n",
       "      <td>10104327314119821_10104309935257201</td>\n",
       "    </tr>\n",
       "    <tr>\n",
       "      <th>16</th>\n",
       "      <td>2022-12-19T02:12:15+0000</td>\n",
       "      <td>In 2021 I got the audiobook Weapons of Math De...</td>\n",
       "      <td>10104327314119821_10104309149586691</td>\n",
       "    </tr>\n",
       "    <tr>\n",
       "      <th>17</th>\n",
       "      <td>2022-12-17T19:46:27+0000</td>\n",
       "      <td>Why walking is cardio are important, but not e...</td>\n",
       "      <td>10104327314119821_10104308112115791</td>\n",
       "    </tr>\n",
       "    <tr>\n",
       "      <th>18</th>\n",
       "      <td>2022-12-15T20:52:22+0000</td>\n",
       "      <td>How doing just bodyweight 15 squats can change...</td>\n",
       "      <td>10104327314119821_10104306747690111</td>\n",
       "    </tr>\n",
       "    <tr>\n",
       "      <th>19</th>\n",
       "      <td>2022-12-13T21:43:46+0000</td>\n",
       "      <td>I just finished my diploma in data science fro...</td>\n",
       "      <td>10104327314119821_10104305474985621</td>\n",
       "    </tr>\n",
       "    <tr>\n",
       "      <th>20</th>\n",
       "      <td>2022-12-06T16:38:38+0000</td>\n",
       "      <td>Hard to believe, but Friday at noon I'll be pr...</td>\n",
       "      <td>10104327314119821_10104300108759581</td>\n",
       "    </tr>\n",
       "    <tr>\n",
       "      <th>21</th>\n",
       "      <td>2022-12-05T03:14:50+0000</td>\n",
       "      <td>I made a little web app to predict 1RM using m...</td>\n",
       "      <td>10104327314119821_10104298959318071</td>\n",
       "    </tr>\n",
       "    <tr>\n",
       "      <th>22</th>\n",
       "      <td>2022-11-24T05:50:31+0000</td>\n",
       "      <td>https://medium.com/defy-time-fitness/data-visu...</td>\n",
       "      <td>10104327314119821_10104290584441391</td>\n",
       "    </tr>\n",
       "    <tr>\n",
       "      <th>23</th>\n",
       "      <td>2022-11-17T03:29:10+0000</td>\n",
       "      <td>Hello, fellow lifters and coaches. Help me out...</td>\n",
       "      <td>10104327314119821_10104281613599031</td>\n",
       "    </tr>\n",
       "    <tr>\n",
       "      <th>24</th>\n",
       "      <td>2022-11-07T05:16:16+0000</td>\n",
       "      <td>Hi, fellow lifters, kinesiologists, and fitnes...</td>\n",
       "      <td>10104327314119821_10104254212615821</td>\n",
       "    </tr>\n",
       "  </tbody>\n",
       "</table>\n",
       "</div>"
      ],
      "text/plain": [
       "                created_time  \\\n",
       "0   2023-01-11T03:17:40+0000   \n",
       "1   2023-01-09T21:30:18+0000   \n",
       "2   2023-01-09T17:06:33+0000   \n",
       "3   2023-01-07T21:36:58+0000   \n",
       "4   2023-01-06T19:39:51+0000   \n",
       "5   2023-01-05T01:47:06+0000   \n",
       "6   2023-01-03T20:34:34+0000   \n",
       "7   2022-12-31T19:03:58+0000   \n",
       "8   2022-12-30T02:06:59+0000   \n",
       "9   2022-12-27T20:45:10+0000   \n",
       "10  2022-12-27T03:29:04+0000   \n",
       "11  2022-12-22T19:26:12+0000   \n",
       "12  2022-12-22T18:54:39+0000   \n",
       "13  2022-12-21T22:42:06+0000   \n",
       "14  2022-12-20T15:39:50+0000   \n",
       "15  2022-12-20T00:12:56+0000   \n",
       "16  2022-12-19T02:12:15+0000   \n",
       "17  2022-12-17T19:46:27+0000   \n",
       "18  2022-12-15T20:52:22+0000   \n",
       "19  2022-12-13T21:43:46+0000   \n",
       "20  2022-12-06T16:38:38+0000   \n",
       "21  2022-12-05T03:14:50+0000   \n",
       "22  2022-11-24T05:50:31+0000   \n",
       "23  2022-11-17T03:29:10+0000   \n",
       "24  2022-11-07T05:16:16+0000   \n",
       "\n",
       "                                              message  \\\n",
       "0   There was a time when my only exercise was run...   \n",
       "1   For the US, \"Wearable technology (#1), strengt...   \n",
       "2   Excited to see developments in wearable tech!\\...   \n",
       "3   Pomelos are one of my favourite fruits. It is ...   \n",
       "4   What's your favourite app or wearable that hel...   \n",
       "5   What is one habit you're looking to add right ...   \n",
       "6   Gamify your goals\\n\\nDuolingo was one of the p...   \n",
       "7   Exciting developments for athletes as Apple wa...   \n",
       "8                                                 NaN   \n",
       "9   With power comes responsibility.\\n\\nIn the fit...   \n",
       "10  While my podcast feed is mostly filled with po...   \n",
       "11  It’s not enough to have data.\\n\\nWhen I starte...   \n",
       "12  If you want to give improve a try but aren't r...   \n",
       "13  This neighboring house has these long sharp ic...   \n",
       "14  A common piece of advice on applying for jobs ...   \n",
       "15  There are already apps that do what personal t...   \n",
       "16  In 2021 I got the audiobook Weapons of Math De...   \n",
       "17  Why walking is cardio are important, but not e...   \n",
       "18  How doing just bodyweight 15 squats can change...   \n",
       "19  I just finished my diploma in data science fro...   \n",
       "20  Hard to believe, but Friday at noon I'll be pr...   \n",
       "21  I made a little web app to predict 1RM using m...   \n",
       "22  https://medium.com/defy-time-fitness/data-visu...   \n",
       "23  Hello, fellow lifters and coaches. Help me out...   \n",
       "24  Hi, fellow lifters, kinesiologists, and fitnes...   \n",
       "\n",
       "                                     id  \n",
       "0   10104327314119821_10104327972240941  \n",
       "1   10104327314119821_10104326999794731  \n",
       "2   10104327314119821_10104326849426071  \n",
       "3   10104327314119821_10104325303319481  \n",
       "4   10104327314119821_10104324466536401  \n",
       "5   10104327314119821_10104323209450611  \n",
       "6   10104327314119821_10104322209294931  \n",
       "7   10104327314119821_10104319695048501  \n",
       "8   10104327314119821_10104318387234371  \n",
       "9   10104327314119821_10104316537146961  \n",
       "10  10104327314119821_10104315957164251  \n",
       "11  10104327314119821_10104312344733591  \n",
       "12  10104327314119821_10104312327652821  \n",
       "13  10104327314119821_10104311647386081  \n",
       "14  10104327314119821_10104310456083461  \n",
       "15  10104327314119821_10104309935257201  \n",
       "16  10104327314119821_10104309149586691  \n",
       "17  10104327314119821_10104308112115791  \n",
       "18  10104327314119821_10104306747690111  \n",
       "19  10104327314119821_10104305474985621  \n",
       "20  10104327314119821_10104300108759581  \n",
       "21  10104327314119821_10104298959318071  \n",
       "22  10104327314119821_10104290584441391  \n",
       "23  10104327314119821_10104281613599031  \n",
       "24  10104327314119821_10104254212615821  "
      ]
     },
     "execution_count": 13,
     "metadata": {},
     "output_type": "execute_result"
    }
   ],
   "source": [
    "df1 = json_normalize(response_json, record_path='data')\n",
    "path = r'C:\\Users\\silvh\\OneDrive\\lighthouse\\portfolio-projects\\OIF data projects\\data\\interim'\n",
    "save_csv(df1, 'my_fb_posts', path)\n",
    "df1"
   ]
  },
  {
   "cell_type": "code",
   "execution_count": null,
   "metadata": {},
   "outputs": [],
   "source": []
  },
  {
   "cell_type": "code",
   "execution_count": null,
   "metadata": {},
   "outputs": [
    {
     "name": "stdout",
     "output_type": "stream",
     "text": [
      "Response status code:  200\n"
     ]
    }
   ],
   "source": [
    "def get_user_post(user_id, access_token):\n",
    "    user_id = str(user_id)\n",
    "    url_root = \"https://graph.facebook.com/v15.0/\"\n",
    "    url = f'{url_root}{user_id}/posts?access_token={access_token}'\n",
    "    response = requests.get(url)\n",
    "    print('Response status code: ',response.status_code)\n",
    "    response_json = response.json()\n",
    "    return json_normalize(response_json, record_path='data')\n",
    "\n",
    "response = get_user_post(user_id, access_token)"
   ]
  },
  {
   "cell_type": "code",
   "execution_count": null,
   "metadata": {},
   "outputs": [],
   "source": []
  },
  {
   "cell_type": "code",
   "execution_count": null,
   "metadata": {},
   "outputs": [],
   "source": []
  },
  {
   "cell_type": "code",
   "execution_count": null,
   "metadata": {},
   "outputs": [],
   "source": []
  },
  {
   "cell_type": "code",
   "execution_count": null,
   "metadata": {},
   "outputs": [],
   "source": []
  },
  {
   "cell_type": "code",
   "execution_count": null,
   "metadata": {},
   "outputs": [],
   "source": []
  },
  {
   "cell_type": "code",
   "execution_count": null,
   "metadata": {},
   "outputs": [],
   "source": []
  },
  {
   "cell_type": "code",
   "execution_count": null,
   "metadata": {},
   "outputs": [],
   "source": []
  },
  {
   "cell_type": "code",
   "execution_count": null,
   "metadata": {},
   "outputs": [],
   "source": []
  },
  {
   "cell_type": "code",
   "execution_count": null,
   "metadata": {},
   "outputs": [],
   "source": []
  },
  {
   "cell_type": "code",
   "execution_count": null,
   "metadata": {},
   "outputs": [],
   "source": []
  },
  {
   "cell_type": "code",
   "execution_count": null,
   "metadata": {},
   "outputs": [],
   "source": []
  },
  {
   "cell_type": "code",
   "execution_count": null,
   "metadata": {},
   "outputs": [],
   "source": []
  },
  {
   "cell_type": "code",
   "execution_count": null,
   "metadata": {},
   "outputs": [],
   "source": []
  },
  {
   "cell_type": "code",
   "execution_count": null,
   "metadata": {},
   "outputs": [],
   "source": []
  },
  {
   "cell_type": "code",
   "execution_count": null,
   "metadata": {},
   "outputs": [],
   "source": []
  },
  {
   "cell_type": "code",
   "execution_count": null,
   "metadata": {},
   "outputs": [],
   "source": []
  },
  {
   "cell_type": "code",
   "execution_count": null,
   "metadata": {},
   "outputs": [],
   "source": []
  },
  {
   "cell_type": "code",
   "execution_count": null,
   "metadata": {},
   "outputs": [],
   "source": []
  },
  {
   "cell_type": "markdown",
   "metadata": {},
   "source": [
    "# *End of Page*"
   ]
  }
 ],
 "metadata": {
  "kernelspec": {
   "display_name": "Python 3.9.13 64-bit",
   "language": "python",
   "name": "python3"
  },
  "language_info": {
   "codemirror_mode": {
    "name": "ipython",
    "version": 3
   },
   "file_extension": ".py",
   "mimetype": "text/x-python",
   "name": "python",
   "nbconvert_exporter": "python",
   "pygments_lexer": "ipython3",
   "version": "3.9.13 (tags/v3.9.13:6de2ca5, May 17 2022, 16:36:42) [MSC v.1929 64 bit (AMD64)]"
  },
  "orig_nbformat": 4,
  "vscode": {
   "interpreter": {
    "hash": "11938c6bc6919ae2720b4d5011047913343b08a43b18698fd82dedb0d4417594"
   }
  }
 },
 "nbformat": 4,
 "nbformat_minor": 2
}
